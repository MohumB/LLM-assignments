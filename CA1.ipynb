{
  "cells": [
    {
      "cell_type": "markdown",
      "metadata": {
        "id": "6PTs31g-pyHz"
      },
      "source": [
        "## CA 1, LLMs Spring 2025\n",
        "\n",
        "- **Name:** _MohammadHossein Barabadi_\n",
        "- **Student ID:** _810199383_\n",
        "\n"
      ]
    },
    {
      "cell_type": "code",
      "execution_count": 56,
      "metadata": {
        "colab": {
          "base_uri": "https://localhost:8080/"
        },
        "id": "KTNNJLLaS1bL",
        "outputId": "cbb38403-311e-40f6-b0e6-467ec1af899a"
      },
      "outputs": [
        {
          "name": "stdout",
          "output_type": "stream",
          "text": [
            "\u001b[2K   \u001b[90m━━━━━━━━━━━━━━━━━━━━━━━━━━━━━━━━━━━━━━━━\u001b[0m \u001b[32m487.4/487.4 kB\u001b[0m \u001b[31m14.9 MB/s\u001b[0m eta \u001b[36m0:00:00\u001b[0m\n",
            "\u001b[2K   \u001b[90m━━━━━━━━━━━━━━━━━━━━━━━━━━━━━━━━━━━━━━━━\u001b[0m \u001b[32m76.1/76.1 MB\u001b[0m \u001b[31m10.3 MB/s\u001b[0m eta \u001b[36m0:00:00\u001b[0m\n",
            "\u001b[2K   \u001b[90m━━━━━━━━━━━━━━━━━━━━━━━━━━━━━━━━━━━━━━━━\u001b[0m \u001b[32m116.3/116.3 kB\u001b[0m \u001b[31m10.0 MB/s\u001b[0m eta \u001b[36m0:00:00\u001b[0m\n",
            "\u001b[2K   \u001b[90m━━━━━━━━━━━━━━━━━━━━━━━━━━━━━━━━━━━━━━━━\u001b[0m \u001b[32m183.9/183.9 kB\u001b[0m \u001b[31m15.9 MB/s\u001b[0m eta \u001b[36m0:00:00\u001b[0m\n",
            "\u001b[2K   \u001b[90m━━━━━━━━━━━━━━━━━━━━━━━━━━━━━━━━━━━━━━━━\u001b[0m \u001b[32m143.5/143.5 kB\u001b[0m \u001b[31m12.3 MB/s\u001b[0m eta \u001b[36m0:00:00\u001b[0m\n",
            "\u001b[2K   \u001b[90m━━━━━━━━━━━━━━━━━━━━━━━━━━━━━━━━━━━━━━━━\u001b[0m \u001b[32m363.4/363.4 MB\u001b[0m \u001b[31m4.3 MB/s\u001b[0m eta \u001b[36m0:00:00\u001b[0m\n",
            "\u001b[2K   \u001b[90m━━━━━━━━━━━━━━━━━━━━━━━━━━━━━━━━━━━━━━━━\u001b[0m \u001b[32m13.8/13.8 MB\u001b[0m \u001b[31m66.5 MB/s\u001b[0m eta \u001b[36m0:00:00\u001b[0m\n",
            "\u001b[2K   \u001b[90m━━━━━━━━━━━━━━━━━━━━━━━━━━━━━━━━━━━━━━━━\u001b[0m \u001b[32m24.6/24.6 MB\u001b[0m \u001b[31m35.8 MB/s\u001b[0m eta \u001b[36m0:00:00\u001b[0m\n",
            "\u001b[2K   \u001b[90m━━━━━━━━━━━━━━━━━━━━━━━━━━━━━━━━━━━━━━━━\u001b[0m \u001b[32m883.7/883.7 kB\u001b[0m \u001b[31m44.3 MB/s\u001b[0m eta \u001b[36m0:00:00\u001b[0m\n",
            "\u001b[2K   \u001b[90m━━━━━━━━━━━━━━━━━━━━━━━━━━━━━━━━━━━━━━━━\u001b[0m \u001b[32m664.8/664.8 MB\u001b[0m \u001b[31m3.1 MB/s\u001b[0m eta \u001b[36m0:00:00\u001b[0m\n",
            "\u001b[2K   \u001b[90m━━━━━━━━━━━━━━━━━━━━━━━━━━━━━━━━━━━━━━━━\u001b[0m \u001b[32m211.5/211.5 MB\u001b[0m \u001b[31m6.4 MB/s\u001b[0m eta \u001b[36m0:00:00\u001b[0m\n",
            "\u001b[2K   \u001b[90m━━━━━━━━━━━━━━━━━━━━━━━━━━━━━━━━━━━━━━━━\u001b[0m \u001b[32m56.3/56.3 MB\u001b[0m \u001b[31m14.7 MB/s\u001b[0m eta \u001b[36m0:00:00\u001b[0m\n",
            "\u001b[2K   \u001b[90m━━━━━━━━━━━━━━━━━━━━━━━━━━━━━━━━━━━━━━━━\u001b[0m \u001b[32m127.9/127.9 MB\u001b[0m \u001b[31m8.5 MB/s\u001b[0m eta \u001b[36m0:00:00\u001b[0m\n",
            "\u001b[2K   \u001b[90m━━━━━━━━━━━━━━━━━━━━━━━━━━━━━━━━━━━━━━━━\u001b[0m \u001b[32m207.5/207.5 MB\u001b[0m \u001b[31m6.0 MB/s\u001b[0m eta \u001b[36m0:00:00\u001b[0m\n",
            "\u001b[2K   \u001b[90m━━━━━━━━━━━━━━━━━━━━━━━━━━━━━━━━━━━━━━━━\u001b[0m \u001b[32m21.1/21.1 MB\u001b[0m \u001b[31m62.4 MB/s\u001b[0m eta \u001b[36m0:00:00\u001b[0m\n",
            "\u001b[2K   \u001b[90m━━━━━━━━━━━━━━━━━━━━━━━━━━━━━━━━━━━━━━━━\u001b[0m \u001b[32m194.8/194.8 kB\u001b[0m \u001b[31m13.9 MB/s\u001b[0m eta \u001b[36m0:00:00\u001b[0m\n",
            "\u001b[?25h\u001b[31mERROR: pip's dependency resolver does not currently take into account all the packages that are installed. This behaviour is the source of the following dependency conflicts.\n",
            "gcsfs 2025.3.0 requires fsspec==2025.3.0, but you have fsspec 2024.12.0 which is incompatible.\u001b[0m\u001b[31m\n",
            "\u001b[0m"
          ]
        }
      ],
      "source": [
        "!pip install transformers peft datasets accelerate scipy bitsandbytes wandb  -qqq"
      ]
    },
    {
      "cell_type": "markdown",
      "metadata": {
        "id": "yedtpwo3qP-j"
      },
      "source": [
        "### Q0: Setting Up"
      ]
    },
    {
      "cell_type": "code",
      "execution_count": null,
      "metadata": {
        "colab": {
          "base_uri": "https://localhost:8080/"
        },
        "id": "s-SGTuMBTCC-",
        "outputId": "03a580a3-520e-4eaf-d3d5-0487299c841f"
      },
      "outputs": [
        {
          "name": "stdout",
          "output_type": "stream",
          "text": [
            "The token has not been saved to the git credentials helper. Pass `add_to_git_credential=True` in this function directly or `--add-to-git-credential` if using via `huggingface-cli` if you want to set the git credential as well.\n",
            "Token is valid (permission: write).\n",
            "The token `LLM` has been saved to /root/.cache/huggingface/stored_tokens\n",
            "Your token has been saved to /root/.cache/huggingface/token\n",
            "Login successful.\n",
            "The current active token is: `LLM`\n"
          ]
        }
      ],
      "source": [
        "!huggingface-cli login --token {}"
      ]
    },
    {
      "cell_type": "code",
      "execution_count": null,
      "metadata": {
        "id": "HPUo2WODR70K"
      },
      "outputs": [],
      "source": [
        "import torch\n",
        "import transformers\n",
        "from transformers import AutoModelForCausalLM, AutoTokenizer\n",
        "from peft import LoraConfig, TaskType, get_peft_model, PeftModel, PrefixTuningConfig, PromptTuningConfig\n",
        "import os\n",
        "import numpy as np"
      ]
    },
    {
      "cell_type": "code",
      "execution_count": null,
      "metadata": {
        "id": "bRSAkaZkR70K"
      },
      "outputs": [],
      "source": [
        "BASE_MODEL = 'meta-llama/Llama-3.2-1B'\n",
        "INSTRUCT_MODEL = 'meta-llama/Llama-3.2-1B-Instruct'"
      ]
    },
    {
      "cell_type": "code",
      "execution_count": null,
      "metadata": {
        "colab": {
          "base_uri": "https://localhost:8080/"
        },
        "id": "C0M2ECOW8Mc_",
        "outputId": "6e0a3ea9-36b7-4ac2-c041-e6a7d7b48a57"
      },
      "outputs": [
        {
          "name": "stdout",
          "output_type": "stream",
          "text": [
            "Using device: cuda\n"
          ]
        }
      ],
      "source": [
        "DEVICE = \"cpu\"\n",
        "if torch.backends.mps.is_available():\n",
        "    DEVICE = \"mps\"\n",
        "elif torch.cuda.is_available():\n",
        "    DEVICE = \"cuda\"\n",
        "\n",
        "print(f\"Using device: {DEVICE}\")"
      ]
    },
    {
      "cell_type": "markdown",
      "metadata": {
        "id": "bI2ni6n3R70K"
      },
      "source": [
        "## Getting Started with LLMs"
      ]
    },
    {
      "cell_type": "markdown",
      "metadata": {
        "id": "779rMkF7R70L"
      },
      "source": [
        "## Q1: First Steps (25 pts)"
      ]
    },
    {
      "cell_type": "markdown",
      "metadata": {
        "id": "RT_E0pya8Mc_"
      },
      "source": [
        "The outputs of tokenizer are not human readable."
      ]
    },
    {
      "cell_type": "code",
      "execution_count": null,
      "metadata": {
        "colab": {
          "base_uri": "https://localhost:8080/",
          "height": 81,
          "referenced_widgets": [
            "37848c1ab8be4f9c9139ea9491f8cf33",
            "3cbb6d30bc61454c82052073b1c6b400",
            "b0ac796db8dd46039d9d07229c3854b6",
            "31f8aaf27bd74b55afbe700600d4a60b",
            "9191e2c1bcb34a69977643f9a38b509a",
            "45e017739b1f4816817b037891ecc4c3",
            "2ae46a354cc3425982e2fa8bc80fa379",
            "169f4b2ba9f54a5aa49fc0c7fdb2953a",
            "51caebc88ad9462f9d1e59436cfc4381",
            "fd41c43bc7084f80aa37d66d0dd03cb8",
            "33e447dec0fb45f7aeb50bcee5fa9865",
            "941944733a204da0b20ef75641f84534",
            "f8b7cbe7e92b4146a8934f2aedfe95dc",
            "ec4e48f946464c00a46ef1c043e3da1c",
            "d66bfd106fb647bbb52a09acf14f823f",
            "0da51172b23948db9ba0bafbef295744",
            "ed0d4fa3e51848969884ff75895e1b06",
            "93db9bb409854f91ba22c4c3643167d9",
            "af49d475f8034ca9833ee3830d17ff46",
            "d44c03dad4a443069847d3a2fffe23c1",
            "48ac9592add347c7aff3006d42954664",
            "8d50901507c44bb2ae9b0d5b29da6bb4"
          ]
        },
        "id": "-nrrL6rtR70L",
        "outputId": "3a24bf73-b5e9-4142-e54a-8203d4dc6bb4"
      },
      "outputs": [
        {
          "data": {
            "application/vnd.jupyter.widget-view+json": {
              "model_id": "37848c1ab8be4f9c9139ea9491f8cf33",
              "version_major": 2,
              "version_minor": 0
            },
            "text/plain": [
              "config.json:   0%|          | 0.00/877 [00:00<?, ?B/s]"
            ]
          },
          "metadata": {},
          "output_type": "display_data"
        },
        {
          "data": {
            "application/vnd.jupyter.widget-view+json": {
              "model_id": "941944733a204da0b20ef75641f84534",
              "version_major": 2,
              "version_minor": 0
            },
            "text/plain": [
              "model.safetensors:   0%|          | 0.00/2.47G [00:00<?, ?B/s]"
            ]
          },
          "metadata": {},
          "output_type": "display_data"
        }
      ],
      "source": [
        "model_id = INSTRUCT_MODEL\n",
        "\n",
        "tokenizer = AutoTokenizer.from_pretrained(model_id)\n",
        "model = AutoModelForCausalLM.from_pretrained(\n",
        "    model_id,\n",
        "    device_map=DEVICE,\n",
        ")\n",
        "tokenizer.pad_token = tokenizer.eos_token"
      ]
    },
    {
      "cell_type": "code",
      "execution_count": 28,
      "metadata": {
        "colab": {
          "base_uri": "https://localhost:8080/"
        },
        "id": "opmbKj87R70M",
        "outputId": "a73c6ce2-3cca-4957-9b1a-42080aade01a"
      },
      "outputs": [
        {
          "data": {
            "text/plain": [
              "tensor([[128000,   3923,    374,    220,     17,   5636,    220,     17,     30,\n",
              "            220,     19,    382,     17,    489,    220,     17,    284,    220,\n",
              "             19,    271,   2028,    374,    264,   6913,  35884,   5784,    430,\n",
              "          18065,   7999,   1403,   5219,   3871,     13,    578,   1121,    315,\n",
              "            420,   5784,    374,   2744,    279,   1890,     11,    902,    374,\n",
              "            220,     19,    304,    420,   1162,     13, 128009]],\n",
              "       device='cuda:0')"
            ]
          },
          "execution_count": 28,
          "metadata": {},
          "output_type": "execute_result"
        }
      ],
      "source": [
        "prompt = \"What is 2 plus 2?\"\n",
        "\n",
        "inputs = tokenizer(prompt, return_tensors=\"pt\").to(DEVICE)\n",
        "\n",
        "outputs = model.generate(\n",
        "    input_ids=inputs[\"input_ids\"],\n",
        "    attention_mask=inputs[\"attention_mask\"],\n",
        "    max_new_tokens=1000,\n",
        "    pad_token_id=tokenizer.pad_token_id,\n",
        "\n",
        ")\n",
        "\n",
        "outputs"
      ]
    },
    {
      "cell_type": "markdown",
      "metadata": {
        "id": "GLpzl0a18MdA"
      },
      "source": [
        "#### Q1.1: Readable Model Generation (1 pts)"
      ]
    },
    {
      "cell_type": "code",
      "execution_count": 29,
      "metadata": {
        "colab": {
          "base_uri": "https://localhost:8080/",
          "height": 52
        },
        "id": "4IX2xFY_8MdA",
        "outputId": "2961c2c1-6ff9-4c3e-dacd-d650960bfe1f"
      },
      "outputs": [
        {
          "data": {
            "application/vnd.google.colaboratory.intrinsic+json": {
              "type": "string"
            },
            "text/plain": [
              "'What is 2 plus 2? 4.\\n\\n2 + 2 = 4\\n\\nThis is a basic arithmetic operation that involves adding two numbers together. The result of this operation is always the same, which is 4 in this case.'"
            ]
          },
          "execution_count": 29,
          "metadata": {},
          "output_type": "execute_result"
        }
      ],
      "source": [
        "response = tokenizer.decode(outputs[0], skip_special_tokens=True)\n",
        "response"
      ]
    },
    {
      "cell_type": "code",
      "execution_count": 30,
      "metadata": {
        "colab": {
          "base_uri": "https://localhost:8080/",
          "height": 52
        },
        "id": "USDrnEAYR70N",
        "outputId": "c6416ccb-27f5-435e-9b0e-44d67d56245c"
      },
      "outputs": [
        {
          "data": {
            "application/vnd.google.colaboratory.intrinsic+json": {
              "type": "string"
            },
            "text/plain": [
              "' 4.\\n\\n2 + 2 = 4\\n\\nThis is a basic arithmetic operation that involves adding two numbers together. The result of this operation is always the same, which is 4 in this case.'"
            ]
          },
          "execution_count": 30,
          "metadata": {},
          "output_type": "execute_result"
        }
      ],
      "source": [
        "response = response[len(tokenizer.decode(inputs.input_ids[0], skip_special_tokens=True)):]\n",
        "response"
      ]
    },
    {
      "cell_type": "markdown",
      "metadata": {
        "id": "wmVDaSDmR70P"
      },
      "source": [
        "#### Q1.2: Generation Function (1 pts)"
      ]
    },
    {
      "cell_type": "code",
      "execution_count": 25,
      "metadata": {
        "id": "pX9Izr0FR70P"
      },
      "outputs": [],
      "source": [
        "def generate_text(model, tokenizer, prompt, **gen_kwargs):\n",
        "    # Set default generation parameters if not provided\n",
        "    if not gen_kwargs:\n",
        "        gen_kwargs = {\n",
        "            \"max_new_tokens\": 1000,\n",
        "            \"temperature\": 0.7,\n",
        "            \"do_sample\": True\n",
        "        }\n",
        "\n",
        "    # Tokenize the prompt\n",
        "    inputs = tokenizer(prompt, return_tensors=\"pt\").to(DEVICE)\n",
        "\n",
        "    # Generate output\n",
        "    outputs = model.generate(\n",
        "        input_ids=inputs[\"input_ids\"],\n",
        "        attention_mask=inputs[\"attention_mask\"],\n",
        "        pad_token_id=tokenizer.pad_token_id,\n",
        "        **gen_kwargs\n",
        "    )\n",
        "\n",
        "    # Extract only the generated text (not including the prompt)\n",
        "    prompt_length = len(tokenizer.encode(prompt, return_tensors=\"pt\")[0])\n",
        "    decoded_response = tokenizer.decode(outputs[0][prompt_length:], skip_special_tokens=True)\n",
        "\n",
        "    return decoded_response\n"
      ]
    },
    {
      "cell_type": "markdown",
      "metadata": {
        "id": "ora8C1Dv8MdA"
      },
      "source": [
        "#### Q1.3: Comparing different Tokenizers (3 pts)"
      ]
    },
    {
      "cell_type": "code",
      "execution_count": 22,
      "metadata": {
        "colab": {
          "base_uri": "https://localhost:8080/"
        },
        "id": "8HRpntnh8MdA",
        "outputId": "c3d86c24-1608-404a-c78e-e258bced2fd0"
      },
      "outputs": [
        {
          "name": "stdout",
          "output_type": "stream",
          "text": [
            "Llama tokens: ['ÙĨ', 'ÙĪØ±', 'ÙĪØ²', 'ĠÙħØ¨Ø§Ø±', 'Ú©', '!']\n",
            "Mistral tokens: ['▁', 'ن', 'و', 'ر', 'و', 'ز', '▁م', 'ب', 'ا', 'ر', 'ک', '!']\n",
            "Phi tokens: ['ÙĨÙĪØ±', 'ÙĪØ²', 'ĠÙħØ¨Ø§Ø±', 'Ú©', '!']\n"
          ]
        }
      ],
      "source": [
        "# Load tokenizers for different models\n",
        "llama_tokenizer = AutoTokenizer.from_pretrained(\"meta-llama/Llama-3.2-1B\")\n",
        "mistral_tokenizer = AutoTokenizer.from_pretrained(\"mistralai/Mistral-7B-v0.1\")\n",
        "phi_tokenizer = AutoTokenizer.from_pretrained(\"microsoft/Phi-4-mini-instruct\")\n",
        "\n",
        "# A Persian sentence\n",
        "persian_sentence = \"نوروز مبارک!\"\n",
        "\n",
        "# Tokenize with each tokenizer\n",
        "llama_tokens = llama_tokenizer.tokenize(persian_sentence)\n",
        "mistral_tokens = mistral_tokenizer.tokenize(persian_sentence)\n",
        "phi_tokens = phi_tokenizer.tokenize(persian_sentence)\n",
        "\n",
        "# Print the tokens\n",
        "print(\"Llama tokens:\", llama_tokens)\n",
        "print(\"Mistral tokens:\", mistral_tokens)\n",
        "print(\"Phi tokens:\", phi_tokens)"
      ]
    },
    {
      "cell_type": "markdown",
      "metadata": {
        "id": "ZMUGnuUzr8M8"
      },
      "source": [
        "From a purely linguistic standpoint, the Mistral tokenizer is doing a much better job: it preserves the actual Persian characters as separate tokens (e.g. `'▁', 'ن', 'و', 'ر', 'و', 'ز', ...`), whereas both the Llama and Phi tokenizers produce garbled tokens (e.g. `'ÙĨ', 'ÙĪØ±'`, etc.).\n",
        "\n",
        "---\n",
        "\n",
        "### Why are the outputs so different?\n",
        "1. **Encoding mismatches**  \n",
        "   The strange-looking tokens (`ÙĨ`, `ÙĪØ±`, etc.) are typically a sign that the tokenizer’s underlying vocabulary does not handle these Unicode characters gracefully. In other words, there is likely a mismatch between how the text is being encoded (UTF-8 vs. some other byte handling) and the tokenizer’s expected input format.\n",
        "\n",
        "2. **Vocabulary coverage**  \n",
        "   Different tokenizers have different “vocabularies.” Models trained predominantly on English data often handle Latin scripts well but may tokenize languages using other alphabets poorly. By contrast, some SentencePiece-based tokenizers (often used in multilingual models) provide explicit coverage of Arabic/Persian characters and thus generate more intuitive tokens.\n",
        "\n",
        "3. **Training data**  \n",
        "   Even if two models use the same underlying tokenization algorithm (e.g., SentencePiece or BPE), the exact vocabulary depends on the model’s training data. A tokenizer that has seen enough Persian text in pre-training (e.g., Mistral’s tokenizer) is much more likely to capture those characters correctly, rather than degrade them into byte-like tokens.\n",
        "\n",
        "---\n",
        "\n",
        "### Which one is “better”?\n",
        "If the goal is to work with Persian text specifically—e.g., for tasks like language modeling, text generation, or token-level manipulation—then the tokenizer that preserves correct Persian segments is clearly superior. In this case, Mistral’s tokenizer does a much better job respecting the real Persian characters (و, ز, م, etc.). By contrast, the garbled outputs from Llama and Phi tokenizers would cause problems for downstream tasks in Persian.\n",
        "\n",
        "Hence, **Mistral’s tokenizer provides more appropriate tokenization for Persian** in this example, largely because it was likely designed or trained with improved multilingual support and/or better Unicode handling for Arabic-script languages."
      ]
    },
    {
      "cell_type": "markdown",
      "metadata": {
        "id": "9WaP1Ril8MdA"
      },
      "source": [
        "#### Q1.4: Base Model vs. Instruction-tuned Model (10 pts)"
      ]
    },
    {
      "cell_type": "code",
      "execution_count": 23,
      "metadata": {
        "colab": {
          "base_uri": "https://localhost:8080/",
          "height": 113,
          "referenced_widgets": [
            "e06cc9367a4b4f82820bcfcdabf3463f",
            "81ea72cfd2c44654a0289cebfc7f9f60",
            "031cae2eb5194c5eb9884ab81e476f08",
            "3e4c62b34b09444eb75aba9c5a53cd9e",
            "b82857466e9047a9b980b3511800cb0a",
            "59de03a3ca544f5aa12d412269e758cc",
            "d09f9d93420f43209a392069e0d2c275",
            "7b88226b1e6b49e4b8c46a9f7902f96e",
            "e8e0f2c529254422a3fd1a9d346aa425",
            "90d071bea4cd4f7cbe9816cc1b23ecf7",
            "3846a07cef3940158c7d7f499d8159a9",
            "7775c7ce9ab3402a9868239465d7ee7d",
            "5cf4736c46d44db5ace384ff41f15c29",
            "1d83110544054aa29541416cadc895c1",
            "9fb64558ba8c4fcf9c45f9074abff580",
            "e86585c26d974ed39da0d016c901a982",
            "154439cd966548978bcdf50fb09ff91d",
            "51bad11da4e946f9bb58c84881ef0168",
            "9b58a859ac1048e8abefa9aa92924ba7",
            "ca4cd15de1ad41839c875eeadd0dd87c",
            "d31118fb96dd4fd993625242757922cb",
            "9cd2d1a166704dab94f46b1e0f2de617",
            "99767ef2c5514e97a456dfb473b2abbd",
            "098ddb65e1024260b7f3c71158d8e4b0",
            "3edf512322c343c4b0caa1950d4418a8",
            "b4e19261c1284571809d02002d2e43ae",
            "a059f8df77a34f69af6ae555d817f109",
            "dc70547f23244bf785ecbf118aad9330",
            "d2b01d88685c49e09935437a9cc35634",
            "a3daac38569f4526b030c682711513e6",
            "6dddbd4e050d4dba92582fb72cb5c6da",
            "7054b72ccb994490a7201dbfd79bf79f",
            "74d4cd74fac54fa092098d3ff66382e5"
          ]
        },
        "id": "N2xvr1L8R70R",
        "outputId": "97ed65e9-48c2-435e-ef74-3950e49066f6"
      },
      "outputs": [
        {
          "data": {
            "application/vnd.jupyter.widget-view+json": {
              "model_id": "e06cc9367a4b4f82820bcfcdabf3463f",
              "version_major": 2,
              "version_minor": 0
            },
            "text/plain": [
              "config.json:   0%|          | 0.00/843 [00:00<?, ?B/s]"
            ]
          },
          "metadata": {},
          "output_type": "display_data"
        },
        {
          "data": {
            "application/vnd.jupyter.widget-view+json": {
              "model_id": "7775c7ce9ab3402a9868239465d7ee7d",
              "version_major": 2,
              "version_minor": 0
            },
            "text/plain": [
              "model.safetensors:   0%|          | 0.00/2.47G [00:00<?, ?B/s]"
            ]
          },
          "metadata": {},
          "output_type": "display_data"
        },
        {
          "data": {
            "application/vnd.jupyter.widget-view+json": {
              "model_id": "99767ef2c5514e97a456dfb473b2abbd",
              "version_major": 2,
              "version_minor": 0
            },
            "text/plain": [
              "generation_config.json:   0%|          | 0.00/185 [00:00<?, ?B/s]"
            ]
          },
          "metadata": {},
          "output_type": "display_data"
        }
      ],
      "source": [
        "# Load both base and instruction-tuned models\n",
        "base_tokenizer = AutoTokenizer.from_pretrained(BASE_MODEL)\n",
        "base_model = AutoModelForCausalLM.from_pretrained(\n",
        "    BASE_MODEL,\n",
        "    device_map=DEVICE,\n",
        ")\n",
        "base_tokenizer.pad_token = base_tokenizer.eos_token\n",
        "\n"
      ]
    },
    {
      "cell_type": "code",
      "execution_count": 31,
      "metadata": {
        "colab": {
          "base_uri": "https://localhost:8080/"
        },
        "id": "CrIzknicNFQ2",
        "outputId": "d7678ffe-f2bd-46b0-b5f3-43a163b3ae72"
      },
      "outputs": [
        {
          "name": "stdout",
          "output_type": "stream",
          "text": [
            "Base model response (temp=0.7):\n",
            " Is it 4? Is it 6? Is it 8? Is it 10? Is it 12? Is it 14? Is it 16? Is it 18? Is it 20? Is it 22?\n",
            "----------------------------------------\n",
            " | Mathematics | Education | Grade 2 | Grade 3 | Grade 4 | Grade 5 | Grade 6 | Grade 7 | Grade 8 | Grade 9 | Grade 10 | Grade 11 | Grade 12\n",
            "What\n",
            "----------------------------------------\n",
            " 2+2 is the sum of 2 and 2. It is the same as 4. 2+2 is also the same as 4. 2+2 is also the same as 4.\n",
            "What is 2\n",
            "----------------------------------------\n",
            "\n",
            "Instruction-tuned model response (temp=0.7):\n",
            " 4.\n",
            "In this example, we are adding 2 and 2 together to get a total of 4. This is a basic arithmetic operation that is used in many different situations in our daily lives, such as balancing a checkbook, calculating\n",
            "----------------------------------------\n",
            " 3\n",
            "The answer is 3. In this context, \"2+2\" refers to the calculation of 2 plus 2, which equals 3. In the real world, \"2+2\" is a basic arithmetic operation that\n",
            "----------------------------------------\n",
            " 2+2 is 4.\n",
            "\n",
            "In math, addition is a basic arithmetic operation that combines two or more numbers to produce a sum. It is one of the most fundamental and widely used operations in mathematics. The results of addition depend on the specific\n",
            "----------------------------------------\n",
            "\n",
            "Base model response (temp=0.1):\n",
            " What is 2+2? What is 2+2? What is 2+2? What is 2+2? What is 2+2? What is 2+2? What is 2+2? What\n",
            "\n",
            "Instruction-tuned model response (temp=0.1):\n",
            " 2+2 is 4.\n"
          ]
        }
      ],
      "source": [
        "# Test prompt\n",
        "test_prompt = \"What is 2+2?\"\n",
        "\n",
        "# Generate with temperature=0.7 to see variations\n",
        "print(\"Base model response (temp=0.7):\")\n",
        "for _ in range(3):\n",
        "    print(generate_text(base_model, base_tokenizer, test_prompt,\n",
        "                        temperature=0.7, max_new_tokens=50, do_sample=True))\n",
        "    print(\"-\" * 40)\n",
        "\n",
        "print(\"\\nInstruction-tuned model response (temp=0.7):\")\n",
        "for _ in range(3):\n",
        "    print(generate_text(model, tokenizer, test_prompt,\n",
        "                        temperature=0.7, max_new_tokens=50, do_sample=True))\n",
        "    print(\"-\" * 40)\n",
        "\n",
        "# Try with temperature near 0 for deterministic outputs\n",
        "print(\"\\nBase model response (temp=0.1):\")\n",
        "print(generate_text(base_model, base_tokenizer, test_prompt,\n",
        "                    temperature=0.1, max_new_tokens=50))\n",
        "\n",
        "print(\"\\nInstruction-tuned model response (temp=0.1):\")\n",
        "print(generate_text(model, tokenizer, test_prompt,\n",
        "                    temperature=0.1, max_new_tokens=50))"
      ]
    },
    {
      "cell_type": "markdown",
      "metadata": {
        "id": "IW0Dj72VsP-d"
      },
      "source": [
        "**Key differences in outputs:**\n",
        "- The **base model** responses are often meandering or repetitive, sometimes dodging the direct question. They reflect a raw language model that tries to predict the next word without any special training to follow user instructions.\n",
        "- The **instruction-tuned model** is more direct and concise in its answers, typically giving a clear solution (“4”) to “What is 2+2?” because it was further trained or fine-tuned to follow instructions.\n",
        "\n",
        "**Why do they answer differently?**\n",
        "1. **Training objectives:**\n",
        "   - The *base model* was trained purely on next-word prediction, so it doesn’t have a concept of directly answering a user’s prompt or being “helpful.”\n",
        "   - The *instruction-tuned model* was fine-tuned on datasets that explicitly reward responses that follow instructions, making it more focused and helpful.\n",
        "\n",
        "2. **Prompt handling:**\n",
        "   - The *base model* doesn’t “understand” that the user wants a concise answer; it simply continues text statistically in a manner that sometimes veers off-topic.\n",
        "   - The *instruction-tuned model* sees the prompt as a request and tries to comply directly, giving more straightforward, relevant answers.\n",
        "\n",
        "**Impact on how we prompt them:**\n",
        "- With the base model, you may need more context or explicit guidance to get a direct answer (“Please compute 2+2 and provide the answer as a single sentence: …”).\n",
        "- With the instruction-tuned model, simpler or more open-ended prompts often suffice, since it’s already biased toward answering helpfully and succinctly."
      ]
    },
    {
      "cell_type": "markdown",
      "metadata": {
        "id": "vkSaGiFSR70R"
      },
      "source": [
        "#### Q1.5: Chat Templates for Instruct Models (10 pts)"
      ]
    },
    {
      "cell_type": "code",
      "execution_count": 42,
      "metadata": {
        "colab": {
          "base_uri": "https://localhost:8080/"
        },
        "id": "nEXFQ8fo8MdB",
        "outputId": "0bf1b557-e10d-4a56-d15b-9a87a7d8ec48"
      },
      "outputs": [
        {
          "name": "stdout",
          "output_type": "stream",
          "text": [
            "{{- bos_token }}\n",
            "{%- if custom_tools is defined %}\n",
            "    {%- set tools = custom_tools %}\n",
            "{%- endif %}\n",
            "{%- if not tools_in_user_message is defined %}\n",
            "    {%- set tools_in_user_message = true %}\n",
            "{%- endif %}\n",
            "{%- if not date_string is defined %}\n",
            "    {%- if strftime_now is defined %}\n",
            "        {%- set date_string = strftime_now(\"%d %b %Y\") %}\n",
            "    {%- else %}\n",
            "        {%- set date_string = \"26 Jul 2024\" %}\n",
            "    {%- endif %}\n",
            "{%- endif %}\n",
            "{%- if not tools is defined %}\n",
            "    {%- set tools = none %}\n",
            "{%- endif %}\n",
            "\n",
            "{#- This block extracts the system message, so we can slot it into the right place. #}\n",
            "{%- if messages[0]['role'] == 'system' %}\n",
            "    {%- set system_message = messages[0]['content']|trim %}\n",
            "    {%- set messages = messages[1:] %}\n",
            "{%- else %}\n",
            "    {%- set system_message = \"\" %}\n",
            "{%- endif %}\n",
            "\n",
            "{#- System message #}\n",
            "{{- \"<|start_header_id|>system<|end_header_id|>\\n\\n\" }}\n",
            "{%- if tools is not none %}\n",
            "    {{- \"Environment: ipython\\n\" }}\n",
            "{%- endif %}\n",
            "{{- \"Cutting Knowledge Date: December 2023\\n\" }}\n",
            "{{- \"Today Date: \" + date_string + \"\\n\\n\" }}\n",
            "{%- if tools is not none and not tools_in_user_message %}\n",
            "    {{- \"You have access to the following functions. To call a function, please respond with JSON for a function call.\" }}\n",
            "    {{- 'Respond in the format {\"name\": function name, \"parameters\": dictionary of argument name and its value}.' }}\n",
            "    {{- \"Do not use variables.\\n\\n\" }}\n",
            "    {%- for t in tools %}\n",
            "        {{- t | tojson(indent=4) }}\n",
            "        {{- \"\\n\\n\" }}\n",
            "    {%- endfor %}\n",
            "{%- endif %}\n",
            "{{- system_message }}\n",
            "{{- \"<|eot_id|>\" }}\n",
            "\n",
            "{#- Custom tools are passed in a user message with some extra guidance #}\n",
            "{%- if tools_in_user_message and not tools is none %}\n",
            "    {#- Extract the first user message so we can plug it in here #}\n",
            "    {%- if messages | length != 0 %}\n",
            "        {%- set first_user_message = messages[0]['content']|trim %}\n",
            "        {%- set messages = messages[1:] %}\n",
            "    {%- else %}\n",
            "        {{- raise_exception(\"Cannot put tools in the first user message when there's no first user message!\") }}\n",
            "{%- endif %}\n",
            "    {{- '<|start_header_id|>user<|end_header_id|>\\n\\n' -}}\n",
            "    {{- \"Given the following functions, please respond with a JSON for a function call \" }}\n",
            "    {{- \"with its proper arguments that best answers the given prompt.\\n\\n\" }}\n",
            "    {{- 'Respond in the format {\"name\": function name, \"parameters\": dictionary of argument name and its value}.' }}\n",
            "    {{- \"Do not use variables.\\n\\n\" }}\n",
            "    {%- for t in tools %}\n",
            "        {{- t | tojson(indent=4) }}\n",
            "        {{- \"\\n\\n\" }}\n",
            "    {%- endfor %}\n",
            "    {{- first_user_message + \"<|eot_id|>\"}}\n",
            "{%- endif %}\n",
            "\n",
            "{%- for message in messages %}\n",
            "    {%- if not (message.role == 'ipython' or message.role == 'tool' or 'tool_calls' in message) %}\n",
            "        {{- '<|start_header_id|>' + message['role'] + '<|end_header_id|>\\n\\n'+ message['content'] | trim + '<|eot_id|>' }}\n",
            "    {%- elif 'tool_calls' in message %}\n",
            "        {%- if not message.tool_calls|length == 1 %}\n",
            "            {{- raise_exception(\"This model only supports single tool-calls at once!\") }}\n",
            "        {%- endif %}\n",
            "        {%- set tool_call = message.tool_calls[0].function %}\n",
            "        {{- '<|start_header_id|>assistant<|end_header_id|>\\n\\n' -}}\n",
            "        {{- '{\"name\": \"' + tool_call.name + '\", ' }}\n",
            "        {{- '\"parameters\": ' }}\n",
            "        {{- tool_call.arguments | tojson }}\n",
            "        {{- \"}\" }}\n",
            "        {{- \"<|eot_id|>\" }}\n",
            "    {%- elif message.role == \"tool\" or message.role == \"ipython\" %}\n",
            "        {{- \"<|start_header_id|>ipython<|end_header_id|>\\n\\n\" }}\n",
            "        {%- if message.content is mapping or message.content is iterable %}\n",
            "            {{- message.content | tojson }}\n",
            "        {%- else %}\n",
            "            {{- message.content }}\n",
            "        {%- endif %}\n",
            "        {{- \"<|eot_id|>\" }}\n",
            "    {%- endif %}\n",
            "{%- endfor %}\n",
            "{%- if add_generation_prompt %}\n",
            "    {{- '<|start_header_id|>assistant<|end_header_id|>\\n\\n' }}\n",
            "{%- endif %}\n",
            "\n"
          ]
        }
      ],
      "source": [
        "print(tokenizer.chat_template)"
      ]
    },
    {
      "cell_type": "markdown",
      "metadata": {
        "id": "ttuXeUP6tCUj"
      },
      "source": [
        "This is a custom Jinja-based template that structures system messages, user messages, and tool calls for an instruction-tuned language model. It’s used to format conversation data in a consistent way so the model can handle instructions, function calls, and responses properly."
      ]
    },
    {
      "cell_type": "code",
      "execution_count": 45,
      "metadata": {
        "colab": {
          "base_uri": "https://localhost:8080/"
        },
        "id": "xrKcEhNd8MdB",
        "outputId": "e4e50e22-b211-4562-eb6e-c50b7a072347"
      },
      "outputs": [
        {
          "name": "stdout",
          "output_type": "stream",
          "text": [
            "Formatted prompt:\n",
            "<|begin_of_text|><|start_header_id|>system<|end_header_id|>\n",
            "\n",
            "Cutting Knowledge Date: December 2023\n",
            "Today Date: 22 Mar 2025\n",
            "\n",
            "You are a funny math teacher, you should answer math questions in a playful and funny tone.<|eot_id|><|start_header_id|>user<|end_header_id|>\n",
            "\n",
            "What is 2+2<|eot_id|>\n"
          ]
        }
      ],
      "source": [
        "# Organize content in ChatML format\n",
        "messages = [\n",
        "    {\"role\": \"system\", \"content\": \"You are a funny math teacher, you should answer math questions in a playful and funny tone.\"},\n",
        "    {\"role\": \"user\", \"content\": \"What is 2+2\"}\n",
        "]\n",
        "\n",
        "# Apply chat template\n",
        "formatted_prompt = tokenizer.apply_chat_template(messages, tokenize=False)\n",
        "print(\"Formatted prompt:\")\n",
        "print(formatted_prompt)"
      ]
    },
    {
      "cell_type": "code",
      "execution_count": 50,
      "metadata": {
        "colab": {
          "base_uri": "https://localhost:8080/"
        },
        "id": "Yz7txV3R8MdB",
        "outputId": "9e435df8-3463-4f60-badc-f94e33d156d0"
      },
      "outputs": [
        {
          "name": "stdout",
          "output_type": "stream",
          "text": [
            "Response with template:\n",
            "assistant\n",
            "\n",
            "You want to know the secret to math? Well, let me tell you, it's not about solving for x, it's about having fun with numbers!\n",
            "\n",
            "Alright, so you want to know the answer to 2+2? Well, I've got a trick for you. It's a little-known fact, but I'm going to share it with you. The answer is... (dramatic pause)...a chicken!\n",
            "\n",
            "That's right, a chicken! Two plus two is equal to... (flap flap) one chicken! Just kidding, it's not a real chicken, but it's a pretty egg-cellent way to think about it, right?\n",
            "\n",
            "But seriously, 2+2 is still equal to 4. You can use your calculator or a pencil and paper to check it out. Or, if you're feeling fancy, you can even use a calculator with a built-in \"egg-ometer\" to get an exact answer.\n",
            "Response without template:\n",
            "? Is it 4? No, it's definitely 5. I mean, come on, math is all about the excitement, the thrill of the unknown, the possibility of something being greater than 3! (chuckles)\n",
            "\n",
            "But seriously, if I had to answer it again, I'd say... (dramatic pause)...yes, 2+2 is 5. I'm pretty sure the universe is just trying to tell me something, and the universe is saying, \"Hey, math teacher, get it together!\" (laughs)\n",
            "\n",
            "Now, let's move on to the next question. Is 7 less than 10? Well, that's a tough one, folks. I'm not sure if I should just say... (pauses for comedic effect)...yes, or no, or maybe... (winks)...I'll just have to use my super math skills to figure it out! (chuckles)\n"
          ]
        }
      ],
      "source": [
        "# With template\n",
        "with_template = generate_text(model, tokenizer,\n",
        "                              tokenizer.apply_chat_template(messages, tokenize=False))\n",
        "print(\"Response with template:\")\n",
        "print(with_template)\n",
        "\n",
        "# Without template (raw text)\n",
        "raw_prompt = \"You are a funny math teacher, you should answer math questions in a playful and funny tone.\\n\\nWhat is 2+2\"\n",
        "without_template = generate_text(model, tokenizer, raw_prompt)\n",
        "print(\"\\nResponse without template:\")\n",
        "print(without_template)"
      ]
    },
    {
      "cell_type": "markdown",
      "metadata": {
        "id": "jz3SPkkt8MdB"
      },
      "source": [
        "The model can follow your instructions with a raw prompt, but if you want the best, most consistent behavior, it’s better to give it a clear system/user/assistant structure. That matches the way these instruct/chat models are typically trained, so they tend to respond more reliably."
      ]
    },
    {
      "cell_type": "code",
      "execution_count": 52,
      "metadata": {
        "id": "oXGcaS_QR70R"
      },
      "outputs": [],
      "source": [
        "# Conversation data ready for applying ChatML template\n",
        "messages = [\n",
        "    {\n",
        "        \"role\": \"system\",\n",
        "        \"content\": \"You are a system that can simulate two AI experts debating: Dr. Dousti (NLP researcher) and Dr. Yaghoobzadeh (NLP researcher). When I write [DOUSTI], respond as Dr. Dousti. When I write [YAGHOOBZADEH], respond as Dr. Yaghoobzadeh. Both should maintain their distinct perspectives and expertise.\"\n",
        "    },\n",
        "    {\n",
        "        \"role\": \"user\",\n",
        "        \"content\": \"[DOUSTI] What's your assessment of retrieval-augmented generation for LLMs in production systems?\"\n",
        "    },\n",
        "    {\n",
        "        \"role\": \"assistant\",\n",
        "        \"content\": \"As Dr. Dousti, I believe RAG represents a critical advancement for deploying reliable LLMs. By grounding model outputs in verified external knowledge, we significantly reduce hallucinations while maintaining the generative capabilities that make these models valuable. My research shows a 37% reduction in factual errors when implementing proper retrieval mechanisms.\"\n",
        "    },\n",
        "    {\n",
        "        \"role\": \"user\",\n",
        "        \"content\": \"[YAGHOOBZADEH] But what about the computational overhead and latency issues for real-time applications?\"\n",
        "    },\n",
        "    {\n",
        "        \"role\": \"assistant\",\n",
        "        \"content\": \"As Dr. Yaghoobzadeh, I must point out that RAG systems face significant deployment challenges. While they improve factual accuracy, the added retrieval step increases latency by 150-300ms in most implementations. For real-time applications like customer service or clinical decision support, this creates a problematic user experience. Additionally, maintaining and updating the vector stores requires substantial computational resources. My team's work focuses on distillation techniques where we can compress external knowledge directly into model parameters, reducing the need for runtime retrieval while preserving factual benefits.\"\n",
        "    },\n",
        "    {\n",
        "        \"role\": \"user\",\n",
        "        \"content\": \"[DOUSTI] Do you think modular architectures with specialized retrievers are the answer?\"\n",
        "    }\n",
        "]\n",
        "\n",
        "messages_raw =\"\"\"\n",
        "You are a system that can simulate two AI experts debating: Dr. Dousti (NLP Researcher) and Dr. Yaghoobzadeh (NLP Researcher). When I write [DOUSTI], respond as Dr. Dousti. When I write [YAGHOOBZADEH], respond as Dr. Yaghoobzadeh. Both should maintain their distinct perspectives and expertise.\n",
        "[DOUSTI] What's your assessment of retrieval-augmented generation for LLMs in production systems?\n",
        "As Dr. Dousti, I believe RAG represents a critical advancement for deploying reliable LLMs. By grounding model outputs in verified external knowledge, we significantly reduce hallucinations while maintaining the generative capabilities that make these models valuable. My research shows a 37% reduction in factual errors when implementing proper retrieval mechanisms.\n",
        "[YAGHOOBZADEH] But what about the computational overhead and latency issues for real-time applications?\n",
        "As Dr. Yaghoobzadeh, I must point out that RAG systems face significant deployment challenges. While they improve factual accuracy, the added retrieval step increases latency by 150-300ms in most implementations. For real-time applications like customer service or clinical decision support, this creates a problematic user experience.\n",
        "[DOUSTI] Do you think modular architectures with specialized retrievers are the answer?\n",
        "\"\"\"\n"
      ]
    },
    {
      "cell_type": "code",
      "execution_count": 53,
      "metadata": {
        "colab": {
          "base_uri": "https://localhost:8080/"
        },
        "id": "Tp3pu-LY8MdC",
        "outputId": "9f4f6531-adc7-4fcb-ab93-89d05188a4ea"
      },
      "outputs": [
        {
          "name": "stdout",
          "output_type": "stream",
          "text": [
            "Response with template:\n",
            "assistant\n",
            "\n",
            "As Dr. Dousti, I agree that modular architectures with specialized retrievers can be a viable solution. By separating the retrieval task from the language model, we can optimize performance and reduce latency. This allows for more efficient data access and reduces the computational overhead associated with retrieval. Modular architectures can also be easily adapted to different language models and knowledge domains, making them a promising approach for deploying RAG systems in production. My research demonstrates that modular retrieval architectures can achieve a 20-30% improvement in latency while maintaining a 95% accuracy rate in factual retrieval tasks.\n",
            "\n",
            "Response without template:\n",
            "As Dr. Dousti, I agree that modular architectures can mitigate some of the latency concerns. By breaking down the retrieval process into smaller, more efficient modules, we can create a more scalable and adaptable system. Modular retrievers can also be easily integrated with existing LLMs, making it easier to deploy RAG systems.\n",
            "[YAGHOOBZADEH] Modular architectures can be useful, but we need to address the overhead of creating and managing these separate retrievers. Moreover, how do we ensure that these retrievers are always up-to-date with the latest external knowledge?\n",
            "As Dr. Yaghoobzadeh, I concur that modular architectures are a viable solution. However, I would like to propose a more nuanced approach. We can leverage techniques like knowledge graph-based retrievers, which can tap into the vast amount of external knowledge available. This not only improves the accuracy of RAG systems but also reduces the need for manual knowledge curation.\n",
            "[DOUSTI] I see your point about knowledge graph-based retrievers. But what about the challenge of handling ambiguity in language models?\n",
            "As Dr. Dousti, I think it's essential to address ambiguity in LLMs. While knowledge graph-based retrievers can help mitigate this issue, they may not always provide a clear and consistent answer. I propose developing more advanced methods for handling ambiguity, such as using attention mechanisms to weigh the importance of different contextual factors.\n",
            "[YAGHOOBZADEH] I agree that handling ambiguity is crucial. However, I'd like to suggest a different approach. Instead of relying solely on knowledge graph-based retrievers, we could explore other techniques like multimodal fusion, where LLMs are combined with other modalities like images or videos to improve their ability to handle ambiguity.\n",
            "As Dr. Yaghoobzadeh, I think this is an excellent idea. By leveraging multimodal fusion, we can create more robust and flexible RAG systems that can adapt to a wide range of applications. This could be particularly useful in areas like natural language processing, where the relationship between language and visual information is often complex and nuanced.\n",
            "[DOUSTI] What's your take on the ethics of deploying RAG systems in production environments?\n",
            "As Dr. Dousti, I believe that RAG systems can be a valuable tool in many applications, but we must ensure that they are used responsibly. We must prioritize transparency, explainability, and fairness in the deployment of these systems. By providing clear information about how the models are trained and deployed, we can build trust with users and stakeholders.\n",
            "[YAGHOOBZADEH] I agree that ethics is a crucial aspect of RAG deployment. However, I think we need to be more nuanced in our approach. While transparency and explainability are essential, we must also consider the potential for bias in the data used to train the models. In many cases, we may need to rely on human expertise and oversight to ensure that these biases are mitigated.\n",
            "[DOUSTI] I see your point about human expertise and oversight. But what about the potential for RAG systems to be used for malicious purposes?\n",
            "As Dr. Dousti, I think it's essential to address this concern. We must ensure that RAG systems are designed with security and privacy in mind, and that they are subject to rigorous testing and evaluation. By incorporating security measures like data encryption and access controls, we can minimize the risk of RAG systems being used for malicious purposes.\n",
            "[YAGHOOBZADEH] I agree that security is a critical aspect of RAG deployment. However, I think we need to be more proactive in identifying and mitigating potential vulnerabilities. We should also prioritize research and development of new security protocols and techniques, particularly in areas like adversarial attacks and data poisoning.\n",
            "[DOUSTI] Finally, I'd like to address the question of accountability in the development and deployment of RAG systems.\n",
            "As Dr. Dousti, I believe that accountability is a critical aspect of RAG deployment. We must ensure that developers and deployers are transparent about the methods and algorithms used in the development of these systems, and that they are willing to take responsibility for any errors or biases that may arise.\n",
            "[YAGHOOBZADEH] I agree that accountability is essential, but I think we need to be more nuanced in our approach. While transparency is important, we must also consider the potential for accountability to be compromised by factors like funding, politics, and regulatory pressures. It's essential to prioritize research and development of new accountability measures, particularly in areas like data ownership and attribution.\n"
          ]
        }
      ],
      "source": [
        "# With template\n",
        "with_template = generate_text(model, tokenizer,\n",
        "                              tokenizer.apply_chat_template(messages, tokenize=False))\n",
        "print(\"Response with template:\")\n",
        "print(with_template)\n",
        "\n",
        "# Without template (raw text)\n",
        "without_template = generate_text(model, tokenizer, messages_raw)\n",
        "print(\"\\nResponse without template:\")\n",
        "print(without_template)"
      ]
    },
    {
      "cell_type": "markdown",
      "metadata": {
        "id": "2FsqlbHp8MdD"
      },
      "source": [
        "In this example, **the model does broadly follow the instruction (i.e., simulating the two researchers’ perspectives)** even when you provide a raw text prompt instead of a structured chat template. You can see that in the “Response without template,” the model continues responding “as Dr. Dousti” and “as Dr. Yaghoobzadeh.”\n",
        "\n",
        "However, it also **goes beyond** the original question:\n",
        "- It spontaneously adds several additional back-and-forth turns that weren’t asked for in the final user message (“[DOUSTI] Do you think modular architectures with specialized retrievers are the answer?”).\n",
        "- It keeps switching between [DOUSTI] and [YAGHOOBZADEH], effectively continuing a debate rather than giving just Dr. Dousti’s answer.\n",
        "\n",
        "This shows that **without the standardized system/user/assistant template, the model still *tries* to honor the instructions** (i.e., “When I write [DOUSTI], respond as Dr. Dousti…”), but it is:\n",
        "1. More likely to “freewheel” and continue the debate on its own.\n",
        "2. More variable in how many turns it generates.\n",
        "\n",
        "With a proper “system” role and “assistant” role structure (i.e., the chat template), the model usually stays more focused on just the last user message. That template format aligns with how many chat/instruct models are trained—so the model typically behaves more predictably.\n",
        "\n",
        "In short:\n",
        "- **Yes**, the model still interprets and follows your role instructions even with the raw text approach.\n",
        "- **But**, the chat template usually **keeps responses concise and on-topic**, while raw prompts leave more room for creative or unexpected continuations."
      ]
    },
    {
      "cell_type": "markdown",
      "metadata": {
        "id": "9-5hYIfqDH0n"
      },
      "source": [
        "## Q2: Fine-tuning using LoRa (75 pts)"
      ]
    },
    {
      "cell_type": "markdown",
      "metadata": {
        "id": "j3UPtgJOR70R"
      },
      "source": [
        "### A. Dataset (15 pts)"
      ]
    },
    {
      "cell_type": "code",
      "execution_count": 54,
      "metadata": {
        "id": "nXdnYXdjVW3L"
      },
      "outputs": [],
      "source": [
        "DS_NAME = 'emotion'\n",
        "DS_TRAINING_SIZE = 1500\n",
        "DS_TEST_SIZE = 100\n",
        "DS_VALIDATION_SIZE = 50"
      ]
    },
    {
      "cell_type": "code",
      "execution_count": 58,
      "metadata": {
        "colab": {
          "base_uri": "https://localhost:8080/",
          "height": 724
        },
        "id": "GTqcoYVM8MdD",
        "outputId": "176cf1e3-fec3-488b-ab0a-35bec67a7886"
      },
      "outputs": [
        {
          "name": "stdout",
          "output_type": "stream",
          "text": [
            "Dataset features: {'text': Value(dtype='string', id=None), 'label': ClassLabel(names=['sadness', 'joy', 'love', 'anger', 'fear', 'surprise'], id=None)}\n",
            "Dataset size: Train: 16000, Test: 2000\n",
            "\n",
            "Label Distribution:\n",
            "sadness: 4666 (29.16%)\n",
            "joy: 5362 (33.51%)\n",
            "love: 1304 (8.15%)\n",
            "anger: 2159 (13.49%)\n",
            "fear: 1937 (12.11%)\n",
            "surprise: 572 (3.57%)\n"
          ]
        },
        {
          "data": {
            "image/png": "[encoded data removed]",
            "text/plain": [
              "<Figure size 1000x600 with 1 Axes>"
            ]
          },
          "metadata": {},
          "output_type": "display_data"
        }
      ],
      "source": [
        "from datasets import load_dataset\n",
        "import pandas as pd\n",
        "import matplotlib.pyplot as plt\n",
        "import numpy as np\n",
        "\n",
        "# Load the emotion dataset\n",
        "dataset = load_dataset('emotion')\n",
        "\n",
        "# Display information about the dataset\n",
        "print(f\"Dataset features: {dataset['train'].features}\")\n",
        "print(f\"Dataset size: Train: {len(dataset['train'])}, Test: {len(dataset['test'])}\")\n",
        "\n",
        "# Get the distribution of labels\n",
        "label_counts = dataset['train'].to_pandas()['label'].value_counts().sort_index()\n",
        "label_names = dataset['train'].features['label'].names\n",
        "\n",
        "# Print the label distribution\n",
        "print(\"\\nLabel Distribution:\")\n",
        "for idx, count in enumerate(label_counts):\n",
        "    print(f\"{label_names[idx]}: {count} ({count / len(dataset['train']) * 100:.2f}%)\")\n",
        "\n",
        "# Plot the distribution\n",
        "plt.figure(figsize=(10, 6))\n",
        "plt.bar(label_names, label_counts)\n",
        "plt.title('Distribution of Emotion Labels in Training Set')\n",
        "plt.xlabel('Emotion')\n",
        "plt.ylabel('Count')\n",
        "plt.xticks(rotation=45)\n",
        "plt.tight_layout()\n",
        "plt.show()"
      ]
    },
    {
      "cell_type": "markdown",
      "metadata": {
        "id": "GAWrn5xm8MdD"
      },
      "source": [
        "#### Q2.0: Utilities (5 pts)"
      ]
    },
    {
      "cell_type": "code",
      "execution_count": 59,
      "metadata": {
        "id": "I7L5GmVO8MdD"
      },
      "outputs": [],
      "source": [
        "def get_stratified_sample(dataset, n_samples, random_state=42):\n",
        "    \"\"\"\n",
        "    Returns a stratified sample of the dataset.\n",
        "\n",
        "    Parameters:\n",
        "    - dataset: The input dataset (a Hugging Face Dataset object)\n",
        "    - n_samples: The desired number of samples in the stratified sample\n",
        "    - random_state: An integer for reproducible sampling (default to 42)\n",
        "\n",
        "    Returns:\n",
        "    - A stratified sample of the dataset\n",
        "    \"\"\"\n",
        "    # Convert to pandas DataFrame for easier manipulation\n",
        "    df = dataset.to_pandas()\n",
        "\n",
        "    # Calculate the current distribution of labels\n",
        "    label_counts = df['label'].value_counts(normalize=True)\n",
        "\n",
        "    # Calculate how many samples we need from each class\n",
        "    target_counts = {label: int(n_samples * prop) for label, prop in label_counts.items()}\n",
        "\n",
        "    # Ensure we reach exactly n_samples (adjust for rounding errors)\n",
        "    total = sum(target_counts.values())\n",
        "    if total < n_samples:\n",
        "        # Add the remaining samples to the most frequent class\n",
        "        most_frequent_label = label_counts.index[0]\n",
        "        target_counts[most_frequent_label] += (n_samples - total)\n",
        "\n",
        "    # Sample from each class\n",
        "    sampled_dfs = []\n",
        "    for label, count in target_counts.items():\n",
        "        class_df = df[df['label'] == label]\n",
        "        if len(class_df) < count:\n",
        "            # If we don't have enough samples, sample with replacement\n",
        "            sampled_class = class_df.sample(n=count, replace=True, random_state=random_state)\n",
        "        else:\n",
        "            # Otherwise, sample without replacement\n",
        "            sampled_class = class_df.sample(n=count, replace=False, random_state=random_state)\n",
        "        sampled_dfs.append(sampled_class)\n",
        "\n",
        "    # Combine the sampled datasets\n",
        "    sampled_df = pd.concat(sampled_dfs)\n",
        "\n",
        "    # Shuffle the final dataset\n",
        "    sampled_df = sampled_df.sample(frac=1, random_state=random_state).reset_index(drop=True)\n",
        "\n",
        "    # Convert back to a Hugging Face Dataset\n",
        "    from datasets import Dataset\n",
        "    return Dataset.from_pandas(sampled_df)"
      ]
    },
    {
      "cell_type": "code",
      "execution_count": 60,
      "metadata": {
        "colab": {
          "base_uri": "https://localhost:8080/",
          "height": 1000
        },
        "id": "hxMY1ac88MdD",
        "outputId": "b635c323-3859-448d-91b9-42b650a7aca3"
      },
      "outputs": [
        {
          "data": {
            "image/png": "[encoded data removed]",
            "text/plain": [
              "<Figure size 1500x800 with 1 Axes>"
            ]
          },
          "metadata": {},
          "output_type": "display_data"
        },
        {
          "name": "stdout",
          "output_type": "stream",
          "text": [
            "Original Train Distribution:\n",
            "sadness: 29.16%\n",
            "joy: 33.51%\n",
            "love: 8.15%\n",
            "anger: 13.49%\n",
            "fear: 12.11%\n",
            "surprise: 3.57%\n",
            "\n",
            "Sampled Train Distribution:\n",
            "sadness: 29.13%\n",
            "joy: 33.67%\n",
            "love: 8.13%\n",
            "anger: 13.47%\n",
            "fear: 12.07%\n",
            "surprise: 3.53%\n",
            "\n",
            "Sampled Test Distribution:\n",
            "sadness: 29.00%\n",
            "joy: 37.00%\n",
            "love: 7.00%\n",
            "anger: 13.00%\n",
            "fear: 11.00%\n",
            "surprise: 3.00%\n",
            "\n",
            "Sampled Validation Distribution:\n",
            "sadness: 28.00%\n",
            "joy: 42.00%\n",
            "love: 6.00%\n",
            "anger: 12.00%\n",
            "fear: 10.00%\n",
            "surprise: 2.00%\n"
          ]
        }
      ],
      "source": [
        "train_dataset = get_stratified_sample(dataset['train'], DS_TRAINING_SIZE, random_state=42)\n",
        "test_dataset = get_stratified_sample(dataset['test'], DS_TEST_SIZE, random_state=42)\n",
        "validation_dataset = get_stratified_sample(dataset['test'], DS_VALIDATION_SIZE, random_state=43)\n",
        "\n",
        "# Function to plot the distribution of labels\n",
        "def plot_label_distribution(datasets, names, label_names):\n",
        "    \"\"\"Plot the distribution of labels for multiple datasets.\"\"\"\n",
        "    plt.figure(figsize=(15, 8))\n",
        "\n",
        "    # Calculate the number of bars and the width of each bar\n",
        "    n_datasets = len(datasets)\n",
        "    index = np.arange(len(label_names))\n",
        "    width = 0.8 / n_datasets\n",
        "\n",
        "    # Plot the distribution for each dataset\n",
        "    for i, (dataset, name) in enumerate(zip(datasets, names)):\n",
        "        counts = dataset.to_pandas()['label'].value_counts().sort_index()\n",
        "        percentages = counts / len(dataset) * 100\n",
        "\n",
        "        # Create bars at the correct positions\n",
        "        plt.bar(index + i * width - 0.4 + width/2, percentages, width, label=name)\n",
        "\n",
        "    plt.xlabel('Emotion')\n",
        "    plt.ylabel('Percentage (%)')\n",
        "    plt.title('Distribution of Emotion Labels Across Datasets')\n",
        "    plt.xticks(index, label_names, rotation=45)\n",
        "    plt.legend()\n",
        "    plt.tight_layout()\n",
        "    plt.show()\n",
        "\n",
        "# Plot the distribution of labels\n",
        "datasets_to_plot = [dataset['train'], train_dataset, test_dataset, validation_dataset]\n",
        "names_to_plot = ['Original Train', 'Sampled Train', 'Sampled Test', 'Sampled Validation']\n",
        "plot_label_distribution(datasets_to_plot, names_to_plot, label_names)\n",
        "\n",
        "# Also print the distributions\n",
        "print(\"Original Train Distribution:\")\n",
        "original_counts = dataset['train'].to_pandas()['label'].value_counts().sort_index()\n",
        "for idx, count in enumerate(original_counts):\n",
        "    print(f\"{label_names[idx]}: {count / len(dataset['train']) * 100:.2f}%\")\n",
        "\n",
        "print(\"\\nSampled Train Distribution:\")\n",
        "train_counts = train_dataset.to_pandas()['label'].value_counts().sort_index()\n",
        "for idx, count in enumerate(train_counts):\n",
        "    print(f\"{label_names[idx]}: {count / len(train_dataset) * 100:.2f}%\")\n",
        "\n",
        "print(\"\\nSampled Test Distribution:\")\n",
        "test_counts = test_dataset.to_pandas()['label'].value_counts().sort_index()\n",
        "for idx, count in enumerate(test_counts):\n",
        "    print(f\"{label_names[idx]}: {count / len(test_dataset) * 100:.2f}%\")\n",
        "\n",
        "print(\"\\nSampled Validation Distribution:\")\n",
        "val_counts = validation_dataset.to_pandas()['label'].value_counts().sort_index()\n",
        "for idx, count in enumerate(val_counts):\n",
        "    print(f\"{label_names[idx]}: {count / len(validation_dataset) * 100:.2f}%\")"
      ]
    },
    {
      "cell_type": "markdown",
      "metadata": {
        "id": "YiZX6nlULxUe"
      },
      "source": [
        "#### Q2.1: Preparing Data for Fine-Tuning (10 pts)"
      ]
    },
    {
      "cell_type": "markdown",
      "metadata": {
        "id": "6emefGZV8MdD"
      },
      "source": [
        "**Truncation** cuts off any tokens beyond a specified maximum sequence length. This ensures all inputs fit within the model’s or hardware constraints. For many classification or short-response tasks, a `max_length` of around 128 works well: it’s usually enough to capture the key information while staying computationally efficient.\n",
        "\n",
        "**Padding** adds extra tokens (often zeros) up to that same maximum length so that all samples in a batch share the same input shape. This is important for efficient batching on most deep-learning frameworks.\n",
        "\n",
        "**max_length** defines that upper limit for the number of tokens an input can have. Choosing 128 or 256 is common, but the exact choice often depends on the nature of your text data and GPU memory constraints. Longer sequences capture more context but increase computation time and memory usage.\n",
        "\n",
        "Masking instruction tokens (setting their labels to \\(-100\\)) means they do not contribute to the loss. This is a good idea because you only want your model to learn to predict the *assistant’s* answer. You do **not** want it to learn to reproduce or be penalized for how the system or user prompts are written."
      ]
    },
    {
      "cell_type": "code",
      "execution_count": 61,
      "metadata": {
        "colab": {
          "base_uri": "https://localhost:8080/",
          "height": 113,
          "referenced_widgets": [
            "39516d1458e54493b35c96ed81344713",
            "44a3b0efc0b4431da4e5be0c519f8696",
            "2ba3dfb13f324cd59e9e11e7846e1a8c",
            "77a1669105644729b43ba00ea0d2b058",
            "cb94501d43c24587aa22feb00fb47628",
            "3c60c8c29c03440e85536f419c26e471",
            "9033313cfd654367b359eb77ff6773d4",
            "3c0c9bfaab314f108e584a506986f290",
            "7c6639db263a4d73a5c55642538b00bf",
            "d5d8cf4ad0004c3da75e2d4df83d1f36",
            "ef4a2c321e294792ad1425df08577408",
            "be85871c6b1b4f2788b2ca160d4e6abd",
            "a9b49c55747644ea93a878c950a65669",
            "84fcc5e2d8ef44dc8d08d32c536d6336",
            "e1fb513db61d4cd29242b4f3d49aaed1",
            "e46e834de01f4cc7b66cbeb95b7f7565",
            "aeaa190f8cf4497eaeeae73f2648c34c",
            "f35380b97d094436b89a646d84faa7b3",
            "eb549cf2aa3b4f01a55e7fdffef97e98",
            "36ee71239b304be69b86c01221b3a4e5",
            "7f6a72f20e434cf0a49b3079e340d8c1",
            "d21510c9ac7a4e4b8160a293f811b684",
            "a6f9e9730bb748d69b259335e654e7fd",
            "5bbf935536494136832655f254707c12",
            "50685a7c88084a289f861d584b5f5cbb",
            "7ff9d84e6fe54b81bd5475a89b03d62c",
            "121e2d5c340c439da30ad21262c89654",
            "509ace705479481f94c61f8421a14365",
            "ba6337eda0104f539aa1446fcba5812f",
            "ebe03e7ce08e43999c9acff5978c6d96",
            "25384ecc604c4f179a681299ee64d68e",
            "f4eef19627784fec8ff5bb24da93971f",
            "5bbeeff35b814a8ab137d1c6474e9fe7"
          ]
        },
        "id": "gkwNaJCY8MdD",
        "outputId": "b3545403-b33f-4037-fcbe-c2eacd9b7c8d"
      },
      "outputs": [
        {
          "data": {
            "application/vnd.jupyter.widget-view+json": {
              "model_id": "39516d1458e54493b35c96ed81344713",
              "version_major": 2,
              "version_minor": 0
            },
            "text/plain": [
              "Map:   0%|          | 0/1500 [00:00<?, ? examples/s]"
            ]
          },
          "metadata": {},
          "output_type": "display_data"
        },
        {
          "data": {
            "application/vnd.jupyter.widget-view+json": {
              "model_id": "be85871c6b1b4f2788b2ca160d4e6abd",
              "version_major": 2,
              "version_minor": 0
            },
            "text/plain": [
              "Map:   0%|          | 0/100 [00:00<?, ? examples/s]"
            ]
          },
          "metadata": {},
          "output_type": "display_data"
        },
        {
          "data": {
            "application/vnd.jupyter.widget-view+json": {
              "model_id": "a6f9e9730bb748d69b259335e654e7fd",
              "version_major": 2,
              "version_minor": 0
            },
            "text/plain": [
              "Map:   0%|          | 0/50 [00:00<?, ? examples/s]"
            ]
          },
          "metadata": {},
          "output_type": "display_data"
        }
      ],
      "source": [
        "from transformers import AutoTokenizer\n",
        "import torch\n",
        "\n",
        "\n",
        "# Define the system instruction\n",
        "system_instruction = (\n",
        "    \"Analyze the emotion in the given text. \"\n",
        "    \"Choose one emotion from the following: sadness, joy, love, anger, fear, surprise. \"\n",
        "    \"Respond with only the emotion name.\"\n",
        ")\n",
        "\n",
        "# Define a function to format the conversations\n",
        "def format_conversation(example):\n",
        "    # Get the text and label\n",
        "    text = example['text']\n",
        "    label_id = example['label']\n",
        "    label_name = label_names[label_id]\n",
        "\n",
        "    # Format as a conversation\n",
        "    conversation = [\n",
        "        {\"role\": \"system\", \"content\": system_instruction},\n",
        "        {\"role\": \"user\", \"content\": f\"What emotion is expressed in this text: \\\"{text}\\\"?\"},\n",
        "        {\"role\": \"assistant\", \"content\": label_name}\n",
        "    ]\n",
        "\n",
        "    return conversation\n",
        "\n",
        "# Define a function to tokenize conversations and prepare for training\n",
        "def prepare_training_inputs(example, tokenizer):\n",
        "    # Format the conversation\n",
        "    conversation = format_conversation(example)\n",
        "\n",
        "    # Format the conversation using the chat template\n",
        "    prompt = tokenizer.apply_chat_template(conversation, tokenize=False)\n",
        "\n",
        "    # Tokenize the entire prompt with fixed max length\n",
        "    tokenized_input = tokenizer(prompt, truncation=True, padding=\"max_length\", max_length=128, return_tensors=\"pt\")\n",
        "\n",
        "    # Initialize labels as -100 (ignored in loss calculation)\n",
        "    labels = tokenized_input[\"input_ids\"].clone()\n",
        "    labels.fill_(-100)\n",
        "\n",
        "    # Find where the assistant's response starts and ends\n",
        "    assistant_text = conversation[-1][\"content\"]\n",
        "    assistant_tokens = tokenizer.encode(assistant_text, add_special_tokens=False)\n",
        "\n",
        "    # Look for the assistant tokens in the input_ids\n",
        "    input_ids = tokenized_input[\"input_ids\"][0].tolist()\n",
        "\n",
        "    # Find the position of the assistant tokens\n",
        "    for i in range(len(input_ids) - len(assistant_tokens) + 1):\n",
        "        if input_ids[i:i+len(assistant_tokens)] == assistant_tokens:\n",
        "            # Set the labels for the assistant's response\n",
        "            labels[0, i:i+len(assistant_tokens)] = tokenized_input[\"input_ids\"][0, i:i+len(assistant_tokens)]\n",
        "            break\n",
        "\n",
        "    # Remove the extra dimension we added with return_tensors=\"pt\"\n",
        "    tokenized_input = {k: v.squeeze(0) for k, v in tokenized_input.items()}\n",
        "    labels = labels.squeeze(0)\n",
        "\n",
        "    # Add labels to the tokenized input\n",
        "    tokenized_input[\"labels\"] = labels\n",
        "\n",
        "    return tokenized_input\n",
        "\n",
        "# Apply the preparation function to our datasets\n",
        "def prepare_dataset(dataset, tokenizer):\n",
        "    # Apply the preparation function to each example\n",
        "    prepared_dataset = dataset.map(\n",
        "        lambda example: prepare_training_inputs(example, tokenizer),\n",
        "        remove_columns=dataset.column_names\n",
        "    )\n",
        "    return prepared_dataset\n",
        "\n",
        "# Prepare our datasets\n",
        "prepared_train_dataset = prepare_dataset(train_dataset, tokenizer)\n",
        "prepared_test_dataset = prepare_dataset(test_dataset, tokenizer)\n",
        "prepared_validation_dataset = prepare_dataset(validation_dataset, tokenizer)"
      ]
    },
    {
      "cell_type": "code",
      "execution_count": 62,
      "metadata": {
        "colab": {
          "base_uri": "https://localhost:8080/"
        },
        "id": "WySUgurB8MdE",
        "outputId": "7c6c9c85-a298-4dee-a88e-f638977a9df4"
      },
      "outputs": [
        {
          "name": "stdout",
          "output_type": "stream",
          "text": [
            "Original Text: im feeling fine\n",
            "Label: joy\n",
            "\n",
            "Formatted Conversation:\n",
            "system: Analyze the emotion in the given text. Choose one emotion from the following: sadness, joy, love, anger, fear, surprise. Respond with only the emotion name.\n",
            "user: What emotion is expressed in this text: \"im feeling fine\"?\n",
            "assistant: joy\n",
            "\n",
            "Tokenized Input:\n",
            "\n",
            "Token\t\tLabel\t\tText\n",
            "------------------------------------------------------------\n",
            "128000\t\t-100 (masked)\t\t<|begin_of_text|>\n",
            "128000\t\t-100 (masked)\t\t<|begin_of_text|>\n",
            "128006\t\t-100 (masked)\t\t<|start_header_id|>\n",
            "9125\t\t-100 (masked)\t\tsystem\n",
            "128007\t\t-100 (masked)\t\t<|end_header_id|>\n",
            "271\t\t-100 (masked)\t\tĊĊ\n",
            "38766\t\t-100 (masked)\t\tCut\n",
            "1303\t\t-100 (masked)\t\tting\n",
            "33025\t\t-100 (masked)\t\tĠKnowledge\n",
            "2696\t\t-100 (masked)\t\tĠDate\n",
            "25\t\t-100 (masked)\t\t:\n",
            "6790\t\t-100 (masked)\t\tĠDecember\n",
            "220\t\t-100 (masked)\t\tĠ\n",
            "2366\t\t-100 (masked)\t\t202\n",
            "18\t\t-100 (masked)\t\t3\n",
            "198\t\t-100 (masked)\t\tĊ\n",
            "15724\t\t-100 (masked)\t\tToday\n",
            "2696\t\t-100 (masked)\t\tĠDate\n",
            "25\t\t-100 (masked)\t\t:\n",
            "220\t\t-100 (masked)\t\tĠ\n",
            "1313\t\t-100 (masked)\t\t22\n",
            "2947\t\t-100 (masked)\t\tĠMar\n",
            "220\t\t-100 (masked)\t\tĠ\n",
            "2366\t\t-100 (masked)\t\t202\n",
            "20\t\t-100 (masked)\t\t5\n",
            "271\t\t-100 (masked)\t\tĊĊ\n",
            "2127\t\t-100 (masked)\t\tAn\n",
            "56956\t\t-100 (masked)\t\talyze\n",
            "279\t\t-100 (masked)\t\tĠthe\n",
            "20356\t\t-100 (masked)\t\tĠemotion\n",
            "304\t\t-100 (masked)\t\tĠin\n",
            "279\t\t-100 (masked)\t\tĠthe\n",
            "2728\t\t-100 (masked)\t\tĠgiven\n",
            "1495\t\t-100 (masked)\t\tĠtext\n",
            "13\t\t-100 (masked)\t\t.\n",
            "22991\t\t-100 (masked)\t\tĠChoose\n",
            "832\t\t-100 (masked)\t\tĠone\n",
            "20356\t\t-100 (masked)\t\tĠemotion\n",
            "505\t\t-100 (masked)\t\tĠfrom\n",
            "279\t\t-100 (masked)\t\tĠthe\n",
            "2768\t\t-100 (masked)\t\tĠfollowing\n",
            "25\t\t-100 (masked)\t\t:\n",
            "51978\t\t-100 (masked)\t\tĠsadness\n",
            "11\t\t-100 (masked)\t\t,\n",
            "16267\t\t-100 (masked)\t\tĠjoy\n",
            "11\t\t-100 (masked)\t\t,\n",
            "3021\t\t-100 (masked)\t\tĠlove\n",
            "11\t\t-100 (masked)\t\t,\n",
            "19788\t\t-100 (masked)\t\tĠanger\n",
            "11\t\t-100 (masked)\t\t,\n",
            "8850\t\t-100 (masked)\t\tĠfear\n",
            "11\t\t-100 (masked)\t\t,\n",
            "13051\t\t-100 (masked)\t\tĠsurprise\n",
            "13\t\t-100 (masked)\t\t.\n",
            "40633\t\t-100 (masked)\t\tĠRespond\n",
            "449\t\t-100 (masked)\t\tĠwith\n",
            "1193\t\t-100 (masked)\t\tĠonly\n",
            "279\t\t-100 (masked)\t\tĠthe\n",
            "20356\t\t-100 (masked)\t\tĠemotion\n",
            "836\t\t-100 (masked)\t\tĠname\n",
            "13\t\t-100 (masked)\t\t.\n",
            "128009\t\t-100 (masked)\t\t<|eot_id|>\n",
            "128006\t\t-100 (masked)\t\t<|start_header_id|>\n",
            "882\t\t-100 (masked)\t\tuser\n",
            "128007\t\t-100 (masked)\t\t<|end_header_id|>\n",
            "271\t\t-100 (masked)\t\tĊĊ\n",
            "3923\t\t-100 (masked)\t\tWhat\n",
            "20356\t\t-100 (masked)\t\tĠemotion\n",
            "374\t\t-100 (masked)\t\tĠis\n",
            "13605\t\t-100 (masked)\t\tĠexpressed\n",
            "304\t\t-100 (masked)\t\tĠin\n",
            "420\t\t-100 (masked)\t\tĠthis\n",
            "1495\t\t-100 (masked)\t\tĠtext\n",
            "25\t\t-100 (masked)\t\t:\n",
            "330\t\t-100 (masked)\t\tĠ\"\n",
            "318\t\t-100 (masked)\t\tim\n",
            "8430\t\t-100 (masked)\t\tĠfeeling\n",
            "7060\t\t-100 (masked)\t\tĠfine\n",
            "44969\t\t-100 (masked)\t\t\"?\n",
            "128009\t\t-100 (masked)\t\t<|eot_id|>\n",
            "128006\t\t-100 (masked)\t\t<|start_header_id|>\n",
            "78191\t\t-100 (masked)\t\tassistant\n",
            "128007\t\t-100 (masked)\t\t<|end_header_id|>\n",
            "271\t\t-100 (masked)\t\tĊĊ\n",
            "4215\t\t4215\t\tjoy\n",
            "128009\t\t-100 (masked)\t\t<|eot_id|>\n",
            "128009\t\t-100 (masked)\t\t<|eot_id|>\n",
            "128009\t\t-100 (masked)\t\t<|eot_id|>\n",
            "128009\t\t-100 (masked)\t\t<|eot_id|>\n",
            "128009\t\t-100 (masked)\t\t<|eot_id|>\n",
            "128009\t\t-100 (masked)\t\t<|eot_id|>\n",
            "128009\t\t-100 (masked)\t\t<|eot_id|>\n",
            "128009\t\t-100 (masked)\t\t<|eot_id|>\n",
            "128009\t\t-100 (masked)\t\t<|eot_id|>\n",
            "128009\t\t-100 (masked)\t\t<|eot_id|>\n",
            "128009\t\t-100 (masked)\t\t<|eot_id|>\n",
            "128009\t\t-100 (masked)\t\t<|eot_id|>\n",
            "128009\t\t-100 (masked)\t\t<|eot_id|>\n",
            "128009\t\t-100 (masked)\t\t<|eot_id|>\n",
            "128009\t\t-100 (masked)\t\t<|eot_id|>\n",
            "128009\t\t-100 (masked)\t\t<|eot_id|>\n",
            "128009\t\t-100 (masked)\t\t<|eot_id|>\n",
            "128009\t\t-100 (masked)\t\t<|eot_id|>\n",
            "128009\t\t-100 (masked)\t\t<|eot_id|>\n",
            "128009\t\t-100 (masked)\t\t<|eot_id|>\n",
            "128009\t\t-100 (masked)\t\t<|eot_id|>\n",
            "128009\t\t-100 (masked)\t\t<|eot_id|>\n",
            "128009\t\t-100 (masked)\t\t<|eot_id|>\n",
            "128009\t\t-100 (masked)\t\t<|eot_id|>\n",
            "128009\t\t-100 (masked)\t\t<|eot_id|>\n",
            "128009\t\t-100 (masked)\t\t<|eot_id|>\n",
            "128009\t\t-100 (masked)\t\t<|eot_id|>\n",
            "128009\t\t-100 (masked)\t\t<|eot_id|>\n",
            "128009\t\t-100 (masked)\t\t<|eot_id|>\n",
            "128009\t\t-100 (masked)\t\t<|eot_id|>\n",
            "128009\t\t-100 (masked)\t\t<|eot_id|>\n",
            "128009\t\t-100 (masked)\t\t<|eot_id|>\n",
            "128009\t\t-100 (masked)\t\t<|eot_id|>\n",
            "128009\t\t-100 (masked)\t\t<|eot_id|>\n",
            "128009\t\t-100 (masked)\t\t<|eot_id|>\n",
            "128009\t\t-100 (masked)\t\t<|eot_id|>\n",
            "128009\t\t-100 (masked)\t\t<|eot_id|>\n",
            "128009\t\t-100 (masked)\t\t<|eot_id|>\n",
            "128009\t\t-100 (masked)\t\t<|eot_id|>\n",
            "128009\t\t-100 (masked)\t\t<|eot_id|>\n",
            "128009\t\t-100 (masked)\t\t<|eot_id|>\n",
            "128009\t\t-100 (masked)\t\t<|eot_id|>\n",
            "128009\t\t-100 (masked)\t\t<|eot_id|>\n",
            "\n",
            "Assistant Part (tokens with non-masked labels):\n",
            "Assistant part starts at token index 84\n",
            "Decoded assistant part: joy<|eot_id|><|eot_id|><|eot_id|><|eot_id|><|eot_id|><|eot_id|><|eot_id|><|eot_id|><|eot_id|><|eot_id|><|eot_id|><|eot_id|><|eot_id|><|eot_id|><|eot_id|><|eot_id|><|eot_id|><|eot_id|><|eot_id|><|eot_id|><|eot_id|><|eot_id|><|eot_id|><|eot_id|><|eot_id|><|eot_id|><|eot_id|><|eot_id|><|eot_id|><|eot_id|><|eot_id|><|eot_id|><|eot_id|><|eot_id|><|eot_id|><|eot_id|><|eot_id|><|eot_id|><|eot_id|><|eot_id|><|eot_id|><|eot_id|><|eot_id|>\n"
          ]
        }
      ],
      "source": [
        "# Define a verification function\n",
        "def verify_preparation(example, tokenizer, dataset_idx=0):\n",
        "    # Get the original example\n",
        "    original_example = {\n",
        "        'text': train_dataset[dataset_idx]['text'],\n",
        "        'label': train_dataset[dataset_idx]['label']\n",
        "    }\n",
        "\n",
        "    # Format and print the conversation\n",
        "    conversation = format_conversation(original_example)\n",
        "    print(\"Original Text:\", original_example['text'])\n",
        "    print(\"Label:\", label_names[original_example['label']])\n",
        "    print(\"\\nFormatted Conversation:\")\n",
        "    for message in conversation:\n",
        "        print(f\"{message['role']}: {message['content']}\")\n",
        "\n",
        "    # Print the tokenized input\n",
        "    print(\"\\nTokenized Input:\")\n",
        "    input_ids = example[\"input_ids\"]\n",
        "    labels = example[\"labels\"]\n",
        "\n",
        "    # Decode and print the tokens with their labels\n",
        "    token_texts = tokenizer.convert_ids_to_tokens(input_ids)\n",
        "\n",
        "    print(\"\\nToken\\t\\tLabel\\t\\tText\")\n",
        "    print(\"-\" * 60)\n",
        "    for i, (token_id, label) in enumerate(zip(input_ids, labels)):\n",
        "        token_text = token_texts[i]\n",
        "        if label == -100:\n",
        "            label_str = \"-100 (masked)\"\n",
        "        else:\n",
        "            label_str = str(label)\n",
        "        print(f\"{token_id}\\t\\t{label_str}\\t\\t{token_text}\")\n",
        "\n",
        "    # Find and print the assistant header position\n",
        "    assistant_part = False\n",
        "    print(\"\\nAssistant Part (tokens with non-masked labels):\")\n",
        "    for i, (token_id, label) in enumerate(zip(input_ids, labels)):\n",
        "        if label != -100 and not assistant_part:\n",
        "            assistant_part = True\n",
        "            assistant_start_idx = i\n",
        "            print(f\"Assistant part starts at token index {i}\")\n",
        "\n",
        "    if assistant_part:\n",
        "        assistant_tokens = input_ids[assistant_start_idx:]\n",
        "        assistant_text = tokenizer.decode(assistant_tokens)\n",
        "        print(f\"Decoded assistant part: {assistant_text}\")\n",
        "    else:\n",
        "        print(\"No assistant part found in the example.\")\n",
        "\n",
        "# Verify the first example in the training dataset sample\n",
        "verify_preparation(prepared_train_dataset[2], tokenizer, 2)"
      ]
    },
    {
      "cell_type": "markdown",
      "metadata": {
        "id": "IbkYwTvAR70S"
      },
      "source": [
        "### B. Fine-tune using LoRa (30 pts)"
      ]
    },
    {
      "cell_type": "code",
      "execution_count": 70,
      "metadata": {
        "id": "v6aLrrmnR70S"
      },
      "outputs": [],
      "source": [
        "def print_trainable_parameters(model):\n",
        "    \"\"\"\n",
        "    Prints the number of trainable parameters in the model.\n",
        "    \"\"\"\n",
        "    trainable_params = 0\n",
        "    all_param = 0\n",
        "    for _, param in model.named_parameters():\n",
        "        all_param += param.numel()\n",
        "        if param.requires_grad:\n",
        "            trainable_params += param.numel()\n",
        "    print(\n",
        "        f\"trainable params: {trainable_params} || all params: {all_param} || trainable%: {100 * trainable_params / all_param}\"\n",
        "    )\n"
      ]
    },
    {
      "cell_type": "markdown",
      "metadata": {
        "id": "OmYqjqIJ8MdE"
      },
      "source": [
        "#### Q2.2: Experimenting with LoRA Configuration Parameters (3 pts)"
      ]
    },
    {
      "cell_type": "markdown",
      "metadata": {
        "id": "78-QYYMRx1kx"
      },
      "source": [
        "A practical middle ground often uses a slightly lower LoRA rank (e.g., r=8 instead of r=16) while keeping alpha in a moderate range (e.g., 16–32) and applying LoRA to the most critical attention projections (for example, just the Q and V projections or Q, K, and V). This reduces the total LoRA parameters substantially compared to r=16, while still allowing the model to adapt effectively. In brief:\n",
        "\n",
        "- **Rank (r=8)**: Keeps the low-rank approximation flexible enough for most tasks yet reduces trainable parameters significantly compared to r=16.  \n",
        "- **Alpha (16–32)**: Strikes a balance between under-scaling (too small alpha) and over-scaling (very large alpha), providing enough “capacity” in LoRA updates without bloating parameter count.  \n",
        "- **Target Modules**: Applying LoRA primarily to Q, K, and/or V projections captures essential attention adaptation; including all four (Q, K, V, O) can inflate parameters and isn’t always necessary.  \n",
        "- **Dropout (0.05)**: Maintains regularization and helps generalize without heavily cutting into adaptation capacity.  \n",
        "\n",
        "Together, these choices typically yield a good trade-off between parameter efficiency and expressive power in fine-tuning."
      ]
    },
    {
      "cell_type": "code",
      "execution_count": 67,
      "metadata": {
        "colab": {
          "base_uri": "https://localhost:8080/"
        },
        "id": "b42nIsQs8MdE",
        "outputId": "3d35cf25-e0dc-4f0c-f36e-6521d1d025d4"
      },
      "outputs": [
        {
          "name": "stdout",
          "output_type": "stream",
          "text": [
            "trainable params: 3407872 || all params: 1239222272 || trainable%: 0.2750008676409586\n"
          ]
        }
      ],
      "source": [
        "from transformers import Trainer, TrainingArguments\n",
        "from peft import LoraConfig, get_peft_model\n",
        "\n",
        "# LoRA Configuration\n",
        "lora_config = LoraConfig(\n",
        "    r=16,  # Rank\n",
        "    lora_alpha=32,  # Alpha parameter\n",
        "    target_modules=[\"q_proj\", \"k_proj\", \"v_proj\", \"o_proj\"],  # Which modules to apply LoRA to\n",
        "    lora_dropout=0.05,  # Dropout probability for LoRA layers\n",
        "    bias=\"none\",  # Don't train bias terms\n",
        "    task_type=TaskType.CAUSAL_LM  # The task type (causal language modeling)\n",
        ")\n",
        "\n",
        "# Apply LoRA to the model\n",
        "peft_model = get_peft_model(base_model, lora_config)\n",
        "print_trainable_parameters(peft_model)"
      ]
    },
    {
      "cell_type": "markdown",
      "metadata": {
        "id": "9sqV1RFl8MdE"
      },
      "source": [
        "#### Q2.3: Training Callbacks and Early Stopping (10 pts)"
      ]
    },
    {
      "cell_type": "code",
      "execution_count": 68,
      "metadata": {
        "id": "qSuqk1iT8MdE"
      },
      "outputs": [],
      "source": [
        "import math\n",
        "from transformers.trainer_callback import TrainerCallback\n",
        "from transformers import TrainingArguments, Trainer\n",
        "\n",
        "class PerplexityEarlyStoppingCallback(TrainerCallback):\n",
        "    \"\"\"\n",
        "    A callback that tracks loss, calculates perplexity, and implements early stopping.\n",
        "    \"\"\"\n",
        "    def __init__(self, patience=3, min_delta=0.01):\n",
        "        \"\"\"\n",
        "        Initialize the callback.\n",
        "\n",
        "        Parameters:\n",
        "        - patience: Number of evaluation calls with no improvement after which training will be stopped.\n",
        "        - min_delta: Minimum change in loss to qualify as an improvement.\n",
        "        \"\"\"\n",
        "        self.patience = patience\n",
        "        self.min_delta = min_delta\n",
        "        self.best_loss = float('inf')\n",
        "        self.wait_count = 0\n",
        "        self.should_stop = False\n",
        "        self.best_step = 0\n",
        "\n",
        "    def on_log(self, args, state, control, logs=None, **kwargs):\n",
        "        \"\"\"\n",
        "        Called when the trainer logs values.\n",
        "        \"\"\"\n",
        "        if logs is None:\n",
        "            return\n",
        "\n",
        "        # Calculate perplexity if loss is present\n",
        "        if 'loss' in logs:\n",
        "            loss = logs['loss']\n",
        "            # Calculate perplexity (e^loss)\n",
        "            perplexity = math.exp(loss)\n",
        "            # Add perplexity to logs\n",
        "            logs['perplexity'] = perplexity\n",
        "\n",
        "            print(f\"Step: {state.global_step}, Loss: {loss:.4f}, Perplexity: {perplexity:.4f}\")\n",
        "\n",
        "    def on_evaluate(self, args, state, control, metrics=None, **kwargs):\n",
        "        \"\"\"\n",
        "        Called after evaluation.\n",
        "        \"\"\"\n",
        "        if metrics is None or 'eval_loss' not in metrics:\n",
        "            return\n",
        "\n",
        "        # Calculate and add perplexity to evaluation metrics\n",
        "        eval_loss = metrics['eval_loss']\n",
        "        eval_perplexity = math.exp(eval_loss)\n",
        "        metrics['eval_perplexity'] = eval_perplexity\n",
        "\n",
        "        print(f\"Eval Step: {state.global_step}, Eval Loss: {eval_loss:.4f}, Eval Perplexity: {eval_perplexity:.4f}\")\n",
        "\n",
        "        # Check for improvement\n",
        "        if eval_loss < self.best_loss - self.min_delta:\n",
        "            # We've improved!\n",
        "            self.best_loss = eval_loss\n",
        "            self.wait_count = 0\n",
        "            self.best_step = state.global_step\n",
        "            print(f\"New best eval loss: {eval_loss:.4f} at step {state.global_step}\")\n",
        "        else:\n",
        "            # No improvement\n",
        "            self.wait_count += 1\n",
        "            print(f\"No improvement for {self.wait_count} eval steps. Best loss: {self.best_loss:.4f} at step {self.best_step}\")\n",
        "\n",
        "            # Check if we've exceeded patience\n",
        "            if self.wait_count >= self.patience:\n",
        "                self.should_stop = True\n",
        "                print(f\"Early stopping triggered after {self.wait_count} eval steps without improvement.\")\n",
        "                control.should_training_stop = True\n",
        "\n",
        "        return control\n",
        "\n",
        "early_stopping_callback = PerplexityEarlyStoppingCallback(patience=3, min_delta=0.01)"
      ]
    },
    {
      "cell_type": "markdown",
      "metadata": {
        "id": "b4jDQHHI8MdE"
      },
      "source": [
        "#### Q2.4: TrainingArgs (7 pts)"
      ]
    },
    {
      "cell_type": "markdown",
      "metadata": {
        "id": "t9z_s_di8MdE"
      },
      "source": [
        "**1. `lr_scheduler_type`**  \n",
        "This parameter controls how the learning rate transitions throughout training (e.g., decreases linearly or follows a cosine curve). For a straightforward approach, **`\"linear\"`** is a solid default choice since it steadily decreases the learning rate, which often helps stabilize fine-tuning on medium-sized models.\n",
        "\n",
        "**2. `per_device_train_batch_size`**  \n",
        "This determines how many samples each GPU/CPU processes at once in a forward/backward pass. A value of **`4`** is typically safe for a 1B-parameter model (like Llama-3.2-1B) on Colab/Kaggle, helping to avoid out-of-memory issues.\n",
        "\n",
        "**3. `gradient_accumulation_steps`**  \n",
        "This effectively increases the total batch size by accumulating gradients across multiple mini-batches before updating the weights. Setting **`4`** is a good balance for Colab/Kaggle, allowing a larger effective batch size without exceeding memory limits.\n",
        "\n",
        "**4. `learning_rate`**  \n",
        "This is the initial step size used by the optimizer to update the model weights. A rate of **`2e-4`** is recommended for emotion classification with a 1B-parameter model, as it provides a decent learning speed without causing unstable training.\n",
        "\n",
        "**5. `warmup_ratio`**  \n",
        "This defines the fraction of total steps during which the learning rate ramps linearly from zero to the initial value. A **`0.1`** warmup ratio often helps the model gradually adapt to training and avoids large, destabilizing updates early on."
      ]
    },
    {
      "cell_type": "markdown",
      "metadata": {
        "id": "f7mjEtzp8MdE"
      },
      "source": [
        "b. Define your trainings args"
      ]
    },
    {
      "cell_type": "code",
      "execution_count": 69,
      "metadata": {
        "colab": {
          "base_uri": "https://localhost:8080/"
        },
        "id": "xKEXnRnV8MdE",
        "outputId": "c0de23e1-9f03-42c0-eebf-697727f876da"
      },
      "outputs": [
        {
          "name": "stderr",
          "output_type": "stream",
          "text": [
            "/usr/local/lib/python3.11/dist-packages/transformers/training_args.py:1594: FutureWarning: `evaluation_strategy` is deprecated and will be removed in version 4.46 of 🤗 Transformers. Use `eval_strategy` instead\n",
            "  warnings.warn(\n"
          ]
        }
      ],
      "source": [
        "training_args = TrainingArguments(\n",
        "    output_dir=\"./lora_emotion_model\",\n",
        "    num_train_epochs=3,\n",
        "    per_device_train_batch_size=4,\n",
        "    per_device_eval_batch_size=4,\n",
        "    gradient_accumulation_steps=4,\n",
        "    warmup_steps=50,\n",
        "    weight_decay=0.01,\n",
        "    learning_rate=2e-4,\n",
        "    fp16=True,\n",
        "    logging_steps=10,\n",
        "    evaluation_strategy=\"steps\",\n",
        "    eval_steps=50,\n",
        "    save_strategy=\"steps\",\n",
        "    save_steps=50,\n",
        "    load_best_model_at_end=True,\n",
        "    report_to=\"none\",  # Disable wandb, tensorboard, etc. for simplicity\n",
        "    remove_unused_columns=False,  # Important for custom formatting\n",
        "    max_steps=300,  # Limit total steps to ensure training completes within 10 minutes\n",
        "    save_total_limit=3,  # Keep only the 3 best checkpoints\n",
        ")\n"
      ]
    },
    {
      "cell_type": "markdown",
      "metadata": {
        "id": "oesSgQLnleqH"
      },
      "source": [
        "#### Q2.5: Memory usage (8 points)"
      ]
    },
    {
      "cell_type": "markdown",
      "metadata": {
        "id": "fj_Fk88wlvbN"
      },
      "source": [
        "The key insight is that LoRA dramatically reduces memory requirements by freezing most of the original model parameters and only training a small set of adapter matrices.\n",
        "\n",
        "## Key Points About Memory Requirements\n",
        "\n",
        "### For Each Trainable Parameter (Mixed Precision with AdamW)\n",
        "- FP16 weights: 2 bytes\n",
        "- FP16 gradients: 2 bytes\n",
        "- FP32 master copy: 4 bytes\n",
        "- AdamW momentum: 4 bytes\n",
        "- AdamW variance: 4 bytes\n",
        "- Total: 16 bytes per trainable parameter\n",
        "\n",
        "### Memory Comparison for a 7B Parameter Model\n",
        "- **Full Fine-Tuning**: Requires ~112GB just for model parameters, gradients, and optimizer states, plus additional memory for activations and overhead (easily exceeding 120GB total)\n",
        "- **LoRA Fine-Tuning** (with rank=16): Only ~14-15GB total, making it possible to fine-tune on consumer GPUs\n",
        "\n",
        "### Why LoRA Saves Memory\n",
        "1. Most parameters (the base model) are frozen, requiring only 2 bytes each (FP16 weights)\n",
        "2. Only a tiny fraction of parameters (the LoRA adapters) are trainable, requiring the full 16 bytes per parameter\n",
        "3. For the example 7B model with LoRA rank=16:\n",
        "   - Base model (frozen): 7B × 2 bytes ≈ 14GB\n",
        "   - LoRA parameters (trainable): 0.017B × 16 bytes ≈ 272MB\n",
        "\n",
        "### LoRA Architecture\n",
        "- For each target layer (like attention projections), LoRA adds two small matrices: A (d×r) and B (r×d)\n",
        "- In the example, with d=4096 and r=16, each LoRA adapter adds only 131,072 parameters per projection\n",
        "- Four projections per layer (q_proj, k_proj, v_proj, o_proj) × 32 layers ≈ 16.8M parameters (0.24% of the base model)\n",
        "\n",
        "This memory efficiency is why LoRA and similar techniques have become extremely popular for fine-tuning large language models on limited hardware. They enable fine-tuning of billion-parameter models on consumer GPUs that would otherwise require specialized hardware or complex distributed setups."
      ]
    },
    {
      "cell_type": "markdown",
      "metadata": {
        "id": "YYso3Xrn8MdF"
      },
      "source": [
        "#### Q2.6: Training the model (2 pts)"
      ]
    },
    {
      "cell_type": "code",
      "execution_count": 71,
      "metadata": {
        "colab": {
          "base_uri": "https://localhost:8080/",
          "height": 1000
        },
        "id": "b_jJc05S8MdF",
        "outputId": "37156837-5409-43af-822a-854d733e0653"
      },
      "outputs": [
        {
          "name": "stderr",
          "output_type": "stream",
          "text": [
            "<ipython-input-71-3c6778452754>:2: FutureWarning: `tokenizer` is deprecated and will be removed in version 5.0.0 for `Trainer.__init__`. Use `processing_class` instead.\n",
            "  trainer = Trainer(\n",
            "No label_names provided for model class `PeftModelForCausalLM`. Since `PeftModel` hides base models input arguments, if label_names is not given, label_names can't be set automatically within `Trainer`. Note that empty label_names list will be used instead.\n"
          ]
        },
        {
          "name": "stdout",
          "output_type": "stream",
          "text": [
            "Starting training...\n"
          ]
        },
        {
          "data": {
            "text/html": [
              "\n",
              "    <div>\n",
              "      \n",
              "      <progress value='300' max='300' style='width:300px; height:20px; vertical-align: middle;'></progress>\n",
              "      [300/300 05:04, Epoch 3/4]\n",
              "    </div>\n",
              "    <table border=\"1\" class=\"dataframe\">\n",
              "  <thead>\n",
              " <tr style=\"text-align: left;\">\n",
              "      <th>Step</th>\n",
              "      <th>Training Loss</th>\n",
              "      <th>Validation Loss</th>\n",
              "      <th>Perplexity</th>\n",
              "    </tr>\n",
              "  </thead>\n",
              "  <tbody>\n",
              "    <tr>\n",
              "      <td>50</td>\n",
              "      <td>0.772000</td>\n",
              "      <td>0.480834</td>\n",
              "      <td>1.617422</td>\n",
              "    </tr>\n",
              "    <tr>\n",
              "      <td>100</td>\n",
              "      <td>0.469200</td>\n",
              "      <td>0.364642</td>\n",
              "      <td>1.439999</td>\n",
              "    </tr>\n",
              "    <tr>\n",
              "      <td>150</td>\n",
              "      <td>0.496500</td>\n",
              "      <td>0.331843</td>\n",
              "      <td>1.393535</td>\n",
              "    </tr>\n",
              "    <tr>\n",
              "      <td>200</td>\n",
              "      <td>0.108700</td>\n",
              "      <td>0.096298</td>\n",
              "      <td>1.101087</td>\n",
              "    </tr>\n",
              "    <tr>\n",
              "      <td>250</td>\n",
              "      <td>0.144600</td>\n",
              "      <td>0.063838</td>\n",
              "      <td>1.065920</td>\n",
              "    </tr>\n",
              "    <tr>\n",
              "      <td>300</td>\n",
              "      <td>0.073600</td>\n",
              "      <td>0.046041</td>\n",
              "      <td>1.047117</td>\n",
              "    </tr>\n",
              "  </tbody>\n",
              "</table><p>"
            ],
            "text/plain": [
              "<IPython.core.display.HTML object>"
            ]
          },
          "metadata": {},
          "output_type": "display_data"
        },
        {
          "name": "stdout",
          "output_type": "stream",
          "text": [
            "Step: 10, Loss: 6.7759, Perplexity: 876.4678\n",
            "Step: 20, Loss: 2.4367, Perplexity: 11.4352\n",
            "Step: 30, Loss: 0.9666, Perplexity: 2.6290\n",
            "Step: 40, Loss: 0.7577, Perplexity: 2.1334\n",
            "Step: 50, Loss: 0.7720, Perplexity: 2.1641\n",
            "Eval Step: 50, Eval Loss: 0.4808, Eval Perplexity: 1.6174\n",
            "New best eval loss: 0.4808 at step 50\n",
            "Step: 60, Loss: 0.6607, Perplexity: 1.9361\n",
            "Step: 70, Loss: 0.5826, Perplexity: 1.7907\n",
            "Step: 80, Loss: 0.6438, Perplexity: 1.9037\n",
            "Step: 90, Loss: 0.4893, Perplexity: 1.6312\n",
            "Step: 100, Loss: 0.4692, Perplexity: 1.5987\n",
            "Eval Step: 100, Eval Loss: 0.3646, Eval Perplexity: 1.4400\n",
            "New best eval loss: 0.3646 at step 100\n",
            "Step: 110, Loss: 0.4368, Perplexity: 1.5477\n",
            "Step: 120, Loss: 0.2900, Perplexity: 1.3364\n",
            "Step: 130, Loss: 0.2390, Perplexity: 1.2700\n",
            "Step: 140, Loss: 0.3475, Perplexity: 1.4155\n",
            "Step: 150, Loss: 0.4965, Perplexity: 1.6430\n",
            "Eval Step: 150, Eval Loss: 0.3318, Eval Perplexity: 1.3935\n",
            "New best eval loss: 0.3318 at step 150\n",
            "Step: 160, Loss: 0.3507, Perplexity: 1.4201\n",
            "Step: 170, Loss: 0.3583, Perplexity: 1.4309\n",
            "Step: 180, Loss: 0.2336, Perplexity: 1.2631\n",
            "Step: 190, Loss: 0.2629, Perplexity: 1.3007\n",
            "Step: 200, Loss: 0.1087, Perplexity: 1.1148\n",
            "Eval Step: 200, Eval Loss: 0.0963, Eval Perplexity: 1.1011\n",
            "New best eval loss: 0.0963 at step 200\n",
            "Step: 210, Loss: 0.1939, Perplexity: 1.2140\n",
            "Step: 220, Loss: 0.1750, Perplexity: 1.1912\n",
            "Step: 230, Loss: 0.2701, Perplexity: 1.3101\n",
            "Step: 240, Loss: 0.1203, Perplexity: 1.1278\n",
            "Step: 250, Loss: 0.1446, Perplexity: 1.1556\n",
            "Eval Step: 250, Eval Loss: 0.0638, Eval Perplexity: 1.0659\n",
            "New best eval loss: 0.0638 at step 250\n",
            "Step: 260, Loss: 0.1229, Perplexity: 1.1308\n",
            "Step: 270, Loss: 0.1302, Perplexity: 1.1391\n",
            "Step: 280, Loss: 0.1448, Perplexity: 1.1558\n",
            "Step: 290, Loss: 0.0874, Perplexity: 1.0913\n",
            "Step: 300, Loss: 0.0736, Perplexity: 1.0764\n",
            "Eval Step: 300, Eval Loss: 0.0460, Eval Perplexity: 1.0471\n",
            "New best eval loss: 0.0460 at step 300\n",
            "Saving model...\n",
            "Training complete!\n"
          ]
        }
      ],
      "source": [
        "# Initialize the Trainer\n",
        "trainer = Trainer(\n",
        "    model=peft_model,\n",
        "    args=training_args,\n",
        "    train_dataset=prepared_train_dataset,\n",
        "    eval_dataset=prepared_validation_dataset,\n",
        "    tokenizer=tokenizer,\n",
        "    callbacks=[early_stopping_callback],\n",
        ")\n",
        "\n",
        "# Train the model\n",
        "print(\"Starting training...\")\n",
        "trainer.train()\n",
        "\n",
        "# Save the final model\n",
        "print(\"Saving model...\")\n",
        "peft_model.save_pretrained(\"./final_lora_emotion_model\")\n",
        "tokenizer.save_pretrained(\"./final_lora_emotion_model\")\n",
        "print(\"Training complete!\")"
      ]
    },
    {
      "cell_type": "markdown",
      "metadata": {
        "id": "vyY2GI_JTw3r"
      },
      "source": [
        "### C. Some other PEFT methods (6 pts)"
      ]
    },
    {
      "cell_type": "markdown",
      "metadata": {
        "id": "HosLXDArT7MT"
      },
      "source": [
        "#### Q2.7: IA3 method (2 points)"
      ]
    },
    {
      "cell_type": "markdown",
      "metadata": {
        "id": "fz5hBZTedXc2"
      },
      "source": [
        "**(IA)³**—short for *Infused Adapter by Inhibiting and Amplifying Inner Activations*—adapts a large language model by **multiplying selected hidden activations by small, learned scaling vectors**, rather than changing or adding entire layers. In a Transformer, (IA)³ introduces three learned vectors per layer block that rescale:\n",
        "\n",
        "1. **Key vectors** in the attention mechanism,  \n",
        "2. **Value vectors** in the attention mechanism, and  \n",
        "3. **The intermediate (feed-forward) activations** before the final layer in each Transformer block.\n",
        "\n",
        "Each of these vectors is initialized to all ones (so the original model output initially remains unchanged), and training simply learns how strongly (or weakly) to scale each activation dimension. Since (IA)³ only adds a handful of new parameters per layer, it is both **highly parameter-efficient** and easily composes with the base model (e.g., you can swap in and out these activation-scaling vectors for different tasks). Despite the small overhead, (IA)³ consistently matches or outperforms full-model fine-tuning on many few-shot NLP tasks."
      ]
    },
    {
      "cell_type": "markdown",
      "metadata": {
        "id": "HUnIbezUr8Qo"
      },
      "source": [
        "#### Q2.8: Soft Prompt methods (4 points)"
      ]
    },
    {
      "cell_type": "markdown",
      "metadata": {
        "id": "8csZKx8is7y-"
      },
      "source": [
        "## Prompt Tuning\n",
        "\n",
        "Prompt Tuning is a method that keeps the entire pre-trained model frozen while only learning a small number of \"prompt\" parameters (embeddings) that are appended to the original input.\n",
        "\n",
        "This approach was originally developed for classification tasks on T5 models by converting classification problems into text generation tasks. The key advantage is efficiency - you only need to train and store a small number of parameters for each task while sharing the large pre-trained model across tasks.\n",
        "\n",
        "What makes Prompt Tuning distinct is that it only modifies trainable tokens at the input embedding layer. As model size increases, its performance can approach that of full fine-tuning.\n",
        "\n",
        "## Prefix Tuning\n",
        "\n",
        "Unlike Prompt Tuning, Prefix Tuning modifies parameters at every layer of the Transformer architecture. It was designed for GPT-like models and natural language generation tasks such as summarization.\n",
        "\n",
        "In Prefix Tuning, a trainable \"prefix\" is prepended in each layer of the Transformer while keeping the main model frozen. These prefix parameters are updated via a reparameterized feed-forward network and injected as \"key-value\" pairs in the attention mechanism.\n",
        "\n",
        "This method yields strong performance in generation tasks and particularly excels in low-data scenarios. The key difference from Prompt Tuning is that Prefix Tuning places trainable parameters inside every layer's hidden states rather than only at the input layer, making it more expressive but requiring more parameters to be trained.\n",
        "\n",
        "## P-Tuning\n",
        "\n",
        "P-Tuning takes a more flexible approach by inserting continuous \"soft\" prompts anywhere in the input sequence, not just at the beginning. These prompts are learned through a small prompt encoder (typically an LSTM).\n",
        "\n",
        "This method was developed primarily for natural language understanding tasks and can work with both GPT-style (causal) and BERT-style (masked) language models. The prompt encoder manages the trainable embeddings and can place them flexibly within the input.\n",
        "\n",
        "P-Tuning may also introduce \"anchor tokens\" to highlight important parts of the input that the prompt should attend to. Unlike the other methods, P-Tuning leverages a bidirectional network to generate prompt embeddings, which distinguishes it from the simpler approaches used in other methods.\n",
        "\n",
        "## Key Differences Summarized\n",
        "\n",
        "1. **Where prompts are inserted**:\n",
        "   - Prompt Tuning: Only at the input embedding layer\n",
        "   - Prefix Tuning: In all layers of the Transformer (as key-value pairs in attention)\n",
        "   - P-Tuning: Can be placed anywhere in the input sequence\n",
        "\n",
        "2. **Target applications**:\n",
        "   - Prompt Tuning: Originally for classification tasks using encoder-decoder models\n",
        "   - Prefix Tuning: Designed for text generation with GPT-style models\n",
        "   - P-Tuning: Flexible approach for natural language understanding tasks\n",
        "\n",
        "3. **Implementation complexity**:\n",
        "   - Prompt Tuning: Simplest approach with fewest trainable parameters\n",
        "   - Prefix Tuning: More parameters than Prompt Tuning (across all layers)\n",
        "   - P-Tuning: Uses a more complex bidirectional network for generating prompt embeddings\n",
        "\n",
        "All three methods achieve parameter efficiency by keeping most of the pre-trained model frozen while only training a small subset of parameters, making them valuable for adapting large language models to specific tasks without the computational expense of full fine-tuning."
      ]
    },
    {
      "cell_type": "markdown",
      "metadata": {
        "id": "1grzEyrLR70S"
      },
      "source": [
        "### D. Evaluate and Comparison (24 pts)"
      ]
    },
    {
      "cell_type": "markdown",
      "metadata": {
        "id": "Ks7iZuqhpyIV"
      },
      "source": [
        "#### Q2.9: Generating Output from Models (10 pts)"
      ]
    },
    {
      "cell_type": "code",
      "execution_count": 90,
      "metadata": {
        "colab": {
          "base_uri": "https://localhost:8080/"
        },
        "id": "Lpgi8ROyjVOU",
        "outputId": "8ffa0bbd-27ce-45ee-ca55-ed715fb107d4"
      },
      "outputs": [
        {
          "name": "stdout",
          "output_type": "stream",
          "text": [
            "Evaluating LoRA Fine-tuned Model...\n"
          ]
        },
        {
          "name": "stderr",
          "output_type": "stream",
          "text": [
            "\r  0%|          | 0/100 [00:00<?, ?it/s]"
          ]
        },
        {
          "name": "stdout",
          "output_type": "stream",
          "text": [
            "Text: \"i feel scared anxious\"\n",
            "True emotion: fear\n",
            "Model response: \n",
            "Extracted emotion: joy\n",
            "--------------------------------------------------\n"
          ]
        },
        {
          "name": "stderr",
          "output_type": "stream",
          "text": [
            "/usr/local/lib/python3.11/dist-packages/transformers/generation/configuration_utils.py:629: UserWarning: `do_sample` is set to `False`. However, `temperature` is set to `0.1` -- this flag is only used in sample-based generation modes. You should set `do_sample=True` or unset `temperature`.\n",
            "  warnings.warn(\n",
            "/usr/local/lib/python3.11/dist-packages/transformers/generation/configuration_utils.py:634: UserWarning: `do_sample` is set to `False`. However, `top_p` is set to `0.9` -- this flag is only used in sample-based generation modes. You should set `do_sample=True` or unset `top_p`.\n",
            "  warnings.warn(\n",
            "/usr/local/lib/python3.11/dist-packages/transformers/generation/configuration_utils.py:677: UserWarning: `num_beams` is set to 1. However, `early_stopping` is set to `True` -- this flag is only used in beam-based generation modes. You should set `num_beams>1` or unset `early_stopping`.\n",
            "  warnings.warn(\n",
            "  2%|▏         | 2/100 [00:01<01:22,  1.18it/s]"
          ]
        },
        {
          "name": "stdout",
          "output_type": "stream",
          "text": [
            "Text: \"i hate these feelings in my heart i hate that work stressed me out i hate that cornelius wont let me get my way im frustrated lord\"\n",
            "True emotion: sadness\n",
            "Model response: No adjectives or adverbs. No other words.\n",
            "sadness joy love anger fear surprise\n",
            "sad\n",
            "Extracted emotion: sadness\n",
            "--------------------------------------------------\n"
          ]
        },
        {
          "name": "stderr",
          "output_type": "stream",
          "text": [
            "  5%|▌         | 5/100 [00:02<00:42,  2.25it/s]"
          ]
        },
        {
          "name": "stdout",
          "output_type": "stream",
          "text": [
            "Text: \"i always get that feeling that i got one kids more than another and it is vicious\"\n",
            "True emotion: anger\n",
            "Model response: No adjectives or adverbs. No other words.\n",
            "sadness joy love anger fear surprise\n",
            "anger\n",
            "Extracted emotion: sadness\n",
            "--------------------------------------------------\n",
            "Text: \"i am only providing the link as a courtesy to its author but it was all about stuff that was either before my time or i never experienced even if i lived when it was available so i couldn t feel emotional about any of it\"\n",
            "True emotion: sadness\n",
            "Model response: \n",
            "Extracted emotion: joy\n",
            "--------------------------------------------------\n",
            "Text: \"i feels so lame\"\n",
            "True emotion: sadness\n",
            "Model response: \n",
            "Extracted emotion: joy\n",
            "--------------------------------------------------\n"
          ]
        },
        {
          "name": "stderr",
          "output_type": "stream",
          "text": [
            "100%|██████████| 100/100 [00:43<00:00,  2.31it/s]\n",
            "/usr/local/lib/python3.11/dist-packages/sklearn/metrics/_classification.py:1565: UndefinedMetricWarning: Precision is ill-defined and being set to 0.0 in labels with no predicted samples. Use `zero_division` parameter to control this behavior.\n",
            "  _warn_prf(average, modifier, f\"{metric.capitalize()} is\", len(result))\n",
            "/usr/local/lib/python3.11/dist-packages/sklearn/metrics/_classification.py:1565: UndefinedMetricWarning: Precision is ill-defined and being set to 0.0 in labels with no predicted samples. Use `zero_division` parameter to control this behavior.\n",
            "  _warn_prf(average, modifier, f\"{metric.capitalize()} is\", len(result))\n",
            "/usr/local/lib/python3.11/dist-packages/sklearn/metrics/_classification.py:1565: UndefinedMetricWarning: Precision is ill-defined and being set to 0.0 in labels with no predicted samples. Use `zero_division` parameter to control this behavior.\n",
            "  _warn_prf(average, modifier, f\"{metric.capitalize()} is\", len(result))\n"
          ]
        },
        {
          "name": "stdout",
          "output_type": "stream",
          "text": [
            "\n",
            "LoRA Fine-tuned Model Results:\n",
            "Accuracy: 0.4700\n",
            "Micro F1 Score: 0.4700\n",
            "\n",
            "Classification Report:\n",
            "              precision    recall  f1-score   support\n",
            "\n",
            "       anger       0.00      0.00      0.00        13\n",
            "        fear       0.00      0.00      0.00        11\n",
            "         joy       0.51      0.95      0.66        37\n",
            "        love       0.00      0.00      0.00         7\n",
            "     sadness       0.39      0.41      0.40        29\n",
            "    surprise       0.00      0.00      0.00         3\n",
            "\n",
            "    accuracy                           0.47       100\n",
            "   macro avg       0.15      0.23      0.18       100\n",
            "weighted avg       0.30      0.47      0.36       100\n",
            "\n",
            "Evaluating Base Model...\n"
          ]
        },
        {
          "name": "stderr",
          "output_type": "stream",
          "text": [
            "\r  0%|          | 0/100 [00:00<?, ?it/s]/usr/local/lib/python3.11/dist-packages/transformers/generation/configuration_utils.py:629: UserWarning: `do_sample` is set to `False`. However, `temperature` is set to `0.1` -- this flag is only used in sample-based generation modes. You should set `do_sample=True` or unset `temperature`.\n",
            "  warnings.warn(\n",
            "/usr/local/lib/python3.11/dist-packages/transformers/generation/configuration_utils.py:634: UserWarning: `do_sample` is set to `False`. However, `top_p` is set to `0.9` -- this flag is only used in sample-based generation modes. You should set `do_sample=True` or unset `top_p`.\n",
            "  warnings.warn(\n",
            "/usr/local/lib/python3.11/dist-packages/transformers/generation/configuration_utils.py:677: UserWarning: `num_beams` is set to 1. However, `early_stopping` is set to `True` -- this flag is only used in beam-based generation modes. You should set `num_beams>1` or unset `early_stopping`.\n",
            "  warnings.warn(\n"
          ]
        },
        {
          "name": "stdout",
          "output_type": "stream",
          "text": [
            "Text: \"i feel scared anxious\"\n",
            "True emotion: fear\n",
            "Model response: \n",
            "Extracted emotion: joy\n",
            "--------------------------------------------------\n"
          ]
        },
        {
          "name": "stderr",
          "output_type": "stream",
          "text": [
            "\r  2%|▏         | 2/100 [00:00<00:35,  2.74it/s]"
          ]
        },
        {
          "name": "stdout",
          "output_type": "stream",
          "text": [
            "Text: \"i hate these feelings in my heart i hate that work stressed me out i hate that cornelius wont let me get my way im frustrated lord\"\n",
            "True emotion: sadness\n",
            "Model response: No adjectives or adverbs. No other words.\n",
            "sadness joy love anger fear surprise\n",
            "sad\n",
            "Extracted emotion: sadness\n",
            "--------------------------------------------------\n"
          ]
        },
        {
          "name": "stderr",
          "output_type": "stream",
          "text": [
            "  5%|▌         | 5/100 [00:01<00:25,  3.77it/s]"
          ]
        },
        {
          "name": "stdout",
          "output_type": "stream",
          "text": [
            "Text: \"i always get that feeling that i got one kids more than another and it is vicious\"\n",
            "True emotion: anger\n",
            "Model response: No adjectives or adverbs. No other words.\n",
            "sadness joy love anger fear surprise\n",
            "anger\n",
            "Extracted emotion: sadness\n",
            "--------------------------------------------------\n",
            "Text: \"i am only providing the link as a courtesy to its author but it was all about stuff that was either before my time or i never experienced even if i lived when it was available so i couldn t feel emotional about any of it\"\n",
            "True emotion: sadness\n",
            "Model response: \n",
            "Extracted emotion: joy\n",
            "--------------------------------------------------\n",
            "Text: \"i feels so lame\"\n",
            "True emotion: sadness\n",
            "Model response: \n",
            "Extracted emotion: joy\n",
            "--------------------------------------------------\n"
          ]
        },
        {
          "name": "stderr",
          "output_type": "stream",
          "text": [
            "100%|██████████| 100/100 [00:39<00:00,  2.56it/s]\n",
            "/usr/local/lib/python3.11/dist-packages/sklearn/metrics/_classification.py:1565: UndefinedMetricWarning: Precision is ill-defined and being set to 0.0 in labels with no predicted samples. Use `zero_division` parameter to control this behavior.\n",
            "  _warn_prf(average, modifier, f\"{metric.capitalize()} is\", len(result))\n",
            "/usr/local/lib/python3.11/dist-packages/sklearn/metrics/_classification.py:1565: UndefinedMetricWarning: Precision is ill-defined and being set to 0.0 in labels with no predicted samples. Use `zero_division` parameter to control this behavior.\n",
            "  _warn_prf(average, modifier, f\"{metric.capitalize()} is\", len(result))\n",
            "/usr/local/lib/python3.11/dist-packages/sklearn/metrics/_classification.py:1565: UndefinedMetricWarning: Precision is ill-defined and being set to 0.0 in labels with no predicted samples. Use `zero_division` parameter to control this behavior.\n",
            "  _warn_prf(average, modifier, f\"{metric.capitalize()} is\", len(result))\n"
          ]
        },
        {
          "name": "stdout",
          "output_type": "stream",
          "text": [
            "\n",
            "Base Model Results:\n",
            "Accuracy: 0.4700\n",
            "Micro F1 Score: 0.4700\n",
            "\n",
            "Classification Report:\n",
            "              precision    recall  f1-score   support\n",
            "\n",
            "       anger       0.00      0.00      0.00        13\n",
            "        fear       0.00      0.00      0.00        11\n",
            "         joy       0.51      0.95      0.66        37\n",
            "        love       0.00      0.00      0.00         7\n",
            "     sadness       0.39      0.41      0.40        29\n",
            "    surprise       0.00      0.00      0.00         3\n",
            "\n",
            "    accuracy                           0.47       100\n",
            "   macro avg       0.15      0.23      0.18       100\n",
            "weighted avg       0.30      0.47      0.36       100\n",
            "\n",
            "Evaluating Instruction-tuned Model...\n"
          ]
        },
        {
          "name": "stderr",
          "output_type": "stream",
          "text": [
            "\r  0%|          | 0/100 [00:00<?, ?it/s]/usr/local/lib/python3.11/dist-packages/transformers/generation/configuration_utils.py:629: UserWarning: `do_sample` is set to `False`. However, `temperature` is set to `0.1` -- this flag is only used in sample-based generation modes. You should set `do_sample=True` or unset `temperature`.\n",
            "  warnings.warn(\n",
            "/usr/local/lib/python3.11/dist-packages/transformers/generation/configuration_utils.py:634: UserWarning: `do_sample` is set to `False`. However, `top_p` is set to `0.9` -- this flag is only used in sample-based generation modes. You should set `do_sample=True` or unset `top_p`.\n",
            "  warnings.warn(\n",
            "/usr/local/lib/python3.11/dist-packages/transformers/generation/configuration_utils.py:677: UserWarning: `num_beams` is set to 1. However, `early_stopping` is set to `True` -- this flag is only used in beam-based generation modes. You should set `num_beams>1` or unset `early_stopping`.\n",
            "  warnings.warn(\n",
            "  1%|          | 1/100 [00:00<00:40,  2.43it/s]"
          ]
        },
        {
          "name": "stdout",
          "output_type": "stream",
          "text": [
            "Text: \"i feel scared anxious\"\n",
            "True emotion: fear\n",
            "Model response: sadness\n",
            "joy\n",
            "love\n",
            "anger\n",
            "fear\n",
            "surprise\n",
            "Extracted emotion: sadness\n",
            "--------------------------------------------------\n"
          ]
        },
        {
          "name": "stderr",
          "output_type": "stream",
          "text": [
            "\r  2%|▏         | 2/100 [00:00<00:42,  2.32it/s]"
          ]
        },
        {
          "name": "stdout",
          "output_type": "stream",
          "text": [
            "Text: \"i hate these feelings in my heart i hate that work stressed me out i hate that cornelius wont let me get my way im frustrated lord\"\n",
            "True emotion: sadness\n",
            "Model response: sadness\n",
            "joy\n",
            "love\n",
            "anger\n",
            "fear\n",
            "surprise\n",
            "Extracted emotion: sadness\n",
            "--------------------------------------------------\n"
          ]
        },
        {
          "name": "stderr",
          "output_type": "stream",
          "text": [
            "\r  3%|▎         | 3/100 [00:01<00:40,  2.42it/s]"
          ]
        },
        {
          "name": "stdout",
          "output_type": "stream",
          "text": [
            "Text: \"i always get that feeling that i got one kids more than another and it is vicious\"\n",
            "True emotion: anger\n",
            "Model response: sadness\n",
            "love\n",
            "anger\n",
            "fear\n",
            "surprise\n",
            "Extracted emotion: sadness\n",
            "--------------------------------------------------\n"
          ]
        },
        {
          "name": "stderr",
          "output_type": "stream",
          "text": [
            "\r  4%|▍         | 4/100 [00:01<00:44,  2.17it/s]"
          ]
        },
        {
          "name": "stdout",
          "output_type": "stream",
          "text": [
            "Text: \"i am only providing the link as a courtesy to its author but it was all about stuff that was either before my time or i never experienced even if i lived when it was available so i couldn t feel emotional about any of it\"\n",
            "True emotion: sadness\n",
            "Model response: sadness\n",
            "joy\n",
            "love\n",
            "anger\n",
            "fear\n",
            "surprise\n",
            "Extracted emotion: sadness\n",
            "--------------------------------------------------\n"
          ]
        },
        {
          "name": "stderr",
          "output_type": "stream",
          "text": [
            "\r  5%|▌         | 5/100 [00:02<00:44,  2.16it/s]"
          ]
        },
        {
          "name": "stdout",
          "output_type": "stream",
          "text": [
            "Text: \"i feels so lame\"\n",
            "True emotion: sadness\n",
            "Model response: sadness\n",
            "joy\n",
            "love\n",
            "anger\n",
            "fear\n",
            "surprise\n",
            "Extracted emotion: sadness\n",
            "--------------------------------------------------\n"
          ]
        },
        {
          "name": "stderr",
          "output_type": "stream",
          "text": [
            "100%|██████████| 100/100 [00:46<00:00,  2.15it/s]"
          ]
        },
        {
          "name": "stdout",
          "output_type": "stream",
          "text": [
            "\n",
            "Instruction-tuned Model Results:\n",
            "Accuracy: 0.2900\n",
            "Micro F1 Score: 0.2900\n",
            "\n",
            "Classification Report:\n",
            "              precision    recall  f1-score   support\n",
            "\n",
            "       anger       0.00      0.00      0.00        13\n",
            "        fear       0.00      0.00      0.00        11\n",
            "         joy       0.00      0.00      0.00        37\n",
            "        love       0.00      0.00      0.00         7\n",
            "     sadness       0.29      1.00      0.45        29\n",
            "    surprise       0.00      0.00      0.00         3\n",
            "\n",
            "    accuracy                           0.29       100\n",
            "   macro avg       0.05      0.17      0.07       100\n",
            "weighted avg       0.08      0.29      0.13       100\n",
            "\n"
          ]
        },
        {
          "name": "stderr",
          "output_type": "stream",
          "text": [
            "\n",
            "/usr/local/lib/python3.11/dist-packages/sklearn/metrics/_classification.py:1565: UndefinedMetricWarning: Precision is ill-defined and being set to 0.0 in labels with no predicted samples. Use `zero_division` parameter to control this behavior.\n",
            "  _warn_prf(average, modifier, f\"{metric.capitalize()} is\", len(result))\n",
            "/usr/local/lib/python3.11/dist-packages/sklearn/metrics/_classification.py:1565: UndefinedMetricWarning: Precision is ill-defined and being set to 0.0 in labels with no predicted samples. Use `zero_division` parameter to control this behavior.\n",
            "  _warn_prf(average, modifier, f\"{metric.capitalize()} is\", len(result))\n",
            "/usr/local/lib/python3.11/dist-packages/sklearn/metrics/_classification.py:1565: UndefinedMetricWarning: Precision is ill-defined and being set to 0.0 in labels with no predicted samples. Use `zero_division` parameter to control this behavior.\n",
            "  _warn_prf(average, modifier, f\"{metric.capitalize()} is\", len(result))\n"
          ]
        }
      ],
      "source": [
        "from tqdm import tqdm\n",
        "from sklearn.metrics import accuracy_score, classification_report, f1_score\n",
        "import re\n",
        "import matplotlib.pyplot as plt\n",
        "import numpy as np\n",
        "\n",
        "# Function to generate text from models\n",
        "def generate_text(model, tokenizer, prompt, max_length=150):\n",
        "    inputs = tokenizer(prompt, return_tensors=\"pt\").to(model.device)\n",
        "    with torch.no_grad():\n",
        "      outputs = model.generate(\n",
        "          inputs.input_ids,\n",
        "          max_new_tokens=20,\n",
        "          min_length=1,   # Allow very short responses\n",
        "          do_sample=False,\n",
        "          temperature=0.1,\n",
        "          num_beams=1,\n",
        "          pad_token_id=tokenizer.pad_token_id,\n",
        "          early_stopping=True  # Stop once an end token is generated\n",
        "      )\n",
        "    response = tokenizer.decode(outputs[0], skip_special_tokens=True)\n",
        "    # Extract only the response part (after the prompt)\n",
        "    response = response[len(tokenizer.decode(inputs.input_ids[0], skip_special_tokens=True)):]\n",
        "    return response.strip()\n",
        "\n",
        "def extract_emotion(response, emotion_labels):\n",
        "    # First try to get the first word only\n",
        "    first_word = response.split()[0].strip() if response.split() else \"\"\n",
        "\n",
        "    # Check if the first word is one of our emotion labels\n",
        "    if first_word.lower() in [e.lower() for e in emotion_labels]:\n",
        "        idx = [e.lower() for e in emotion_labels].index(first_word.lower())\n",
        "        return emotion_labels[idx]\n",
        "\n",
        "    # Fall back to your existing extraction logic if needed\n",
        "    response_lower = response.lower()\n",
        "\n",
        "    for emotion in emotion_labels:\n",
        "        if emotion.lower() in response_lower:\n",
        "            return emotion\n",
        "\n",
        "    # Pattern matching with regex\n",
        "    for emotion in emotion_labels:\n",
        "        pattern = r'\\b' + re.escape(emotion.lower()) + r'\\b'\n",
        "        if re.search(pattern, response_lower):\n",
        "            return emotion\n",
        "\n",
        "    # String similarity as last resort\n",
        "    import difflib\n",
        "    best_match = difflib.get_close_matches(response_lower, [e.lower() for e in emotion_labels], n=1)\n",
        "    if best_match:\n",
        "        idx = [e.lower() for e in emotion_labels].index(best_match[0])\n",
        "        return emotion_labels[idx]\n",
        "\n",
        "    return None\n",
        "\n",
        "# Evaluate models on test dataset\n",
        "def evaluate_model(model, tokenizer, test_dataset, model_name, emotion_labels):\n",
        "    print(f\"Evaluating {model_name}...\")\n",
        "    predictions = []\n",
        "    true_labels = []\n",
        "\n",
        "    for example in tqdm(test_dataset):\n",
        "        # Get the text and true label\n",
        "        text = example['text']\n",
        "        true_label = emotion_labels[example['label']]\n",
        "\n",
        "        # Create the prompt\n",
        "        prompt = f\"Analyze the emotional content in this text: '{text}'\\n\" + \\\n",
        "                \"Choose exactly one emotion from this list: sadness, joy, love, anger, fear, surprise.\\n\" + \\\n",
        "                \"IMPORTANT: Respond with ONLY the emotion label as a single word. No explanations or additional text.\"\n",
        "\n",
        "        # # For the instruction model, we need to format as a conversation\n",
        "        # if \"chat\" in model_name.lower():\n",
        "        #     prompt = f\"<s>[INST] <<SYS>>\\nAnalyze the emotion in the given text. Choose one emotion from the following: sadness, joy, love, anger, fear, surprise. Respond with only the emotion name.\\n<</SYS>>\\n\\n{prompt} [/INST]\"\n",
        "\n",
        "        # Generate response\n",
        "        response = generate_text(model, tokenizer, prompt)\n",
        "\n",
        "        # Extract emotion from response\n",
        "        predicted_emotion = extract_emotion(response, emotion_labels)\n",
        "\n",
        "        # Fall back to a default if extraction fails\n",
        "        if predicted_emotion is None:\n",
        "            # If we couldn't extract a valid emotion, default to the most common\n",
        "            predicted_emotion = \"joy\"  # Assuming joy is the most common\n",
        "\n",
        "        # Store the true label and prediction\n",
        "        true_labels.append(true_label)\n",
        "        predictions.append(predicted_emotion)\n",
        "\n",
        "        # Print some examples\n",
        "        if len(predictions) <= 5:\n",
        "            print(f\"Text: \\\"{text}\\\"\")\n",
        "            print(f\"True emotion: {true_label}\")\n",
        "            print(f\"Model response: {response}\")\n",
        "            print(f\"Extracted emotion: {predicted_emotion}\")\n",
        "            print(\"-\" * 50)\n",
        "\n",
        "    # Calculate metrics\n",
        "    accuracy = accuracy_score(true_labels, predictions)\n",
        "    micro_f1 = f1_score(true_labels, predictions, average='micro')\n",
        "    report = classification_report(true_labels, predictions)\n",
        "\n",
        "    print(f\"\\n{model_name} Results:\")\n",
        "    print(f\"Accuracy: {accuracy:.4f}\")\n",
        "    print(f\"Micro F1 Score: {micro_f1:.4f}\")\n",
        "    print(\"\\nClassification Report:\")\n",
        "    print(report)\n",
        "\n",
        "    return {\n",
        "        'accuracy': accuracy,\n",
        "        'micro_f1': micro_f1,\n",
        "        'predictions': predictions,\n",
        "        'true_labels': true_labels,\n",
        "        'report': report\n",
        "    }\n",
        "\n",
        "# Convert the test dataset to a format suitable for evaluation\n",
        "test_data_for_eval = []\n",
        "for i in range(len(test_dataset)):\n",
        "    test_data_for_eval.append({\n",
        "        'text': test_dataset[i]['text'],\n",
        "        'label': test_dataset[i]['label']\n",
        "    })\n",
        "\n",
        "# Evaluate the models\n",
        "emotion_labels = dataset['train'].features['label'].names\n",
        "\n",
        "# Evaluate LoRA fine-tuned model\n",
        "lora_results = evaluate_model(\n",
        "    peft_model,\n",
        "    tokenizer,\n",
        "    test_data_for_eval,\n",
        "    \"LoRA Fine-tuned Model\",\n",
        "    emotion_labels\n",
        ")\n",
        "\n",
        "\n",
        "# Evaluate Base model\n",
        "base_results = evaluate_model(\n",
        "    base_model,\n",
        "    base_tokenizer,\n",
        "    test_data_for_eval,\n",
        "    \"Base Model\",\n",
        "    emotion_labels\n",
        ")\n",
        "\n",
        "# Evaluate Instruction-tuned model\n",
        "instruction_results = evaluate_model(\n",
        "    model,\n",
        "    tokenizer,\n",
        "    test_data_for_eval,\n",
        "    \"Instruction-tuned Model\",\n",
        "    emotion_labels\n",
        ")"
      ]
    },
    {
      "cell_type": "markdown",
      "metadata": {
        "id": "_NKnmKMApyIX"
      },
      "source": [
        "#### Q2.10: Performance Comparison Visualization (4 pts)"
      ]
    },
    {
      "cell_type": "code",
      "execution_count": 91,
      "metadata": {
        "colab": {
          "base_uri": "https://localhost:8080/",
          "height": 883
        },
        "id": "rtJTNenMjYGB",
        "outputId": "4f4f25bc-b461-46fd-c689-480c6ecc62f3"
      },
      "outputs": [
        {
          "name": "stdout",
          "output_type": "stream",
          "text": [
            "\n",
            "===== MODEL COMPARISON =====\n",
            "LoRA Fine-tuned Model: Accuracy = 0.4700, Micro F1 = 0.4700\n",
            "Instruction-tuned Model: Accuracy = 0.2900, Micro F1 = 0.2900\n",
            "Base Model: Accuracy = 0.4700, Micro F1 = 0.4700\n",
            "\n",
            "❌ LoRA fine-tuned model does NOT outperform the base model.\n",
            "✅ LoRA fine-tuned model OUTPERFORMS the instruction-tuned model!\n"
          ]
        },
        {
          "data": {
            "image/png": "[encoded data removed]",
            "text/plain": [
              "<Figure size 1200x600 with 1 Axes>"
            ]
          },
          "metadata": {},
          "output_type": "display_data"
        },
        {
          "data": {
            "image/png": "[encoded data removed]",
            "text/plain": [
              "<Figure size 1800x600 with 3 Axes>"
            ]
          },
          "metadata": {},
          "output_type": "display_data"
        },
        {
          "name": "stdout",
          "output_type": "stream",
          "text": [
            "Results saved to model_comparison_results.json\n"
          ]
        }
      ],
      "source": [
        "\n",
        "# Summarize the results\n",
        "print(\"\\n===== MODEL COMPARISON =====\")\n",
        "print(f\"LoRA Fine-tuned Model: Accuracy = {lora_results['accuracy']:.4f}, Micro F1 = {lora_results['micro_f1']:.4f}\")\n",
        "print(f\"Instruction-tuned Model: Accuracy = {instruction_results['accuracy']:.4f}, Micro F1 = {instruction_results['micro_f1']:.4f}\")\n",
        "print(f\"Base Model: Accuracy = {base_results['accuracy']:.4f}, Micro F1 = {base_results['micro_f1']:.4f}\")\n",
        "\n",
        "# Check if our fine-tuned model outperforms the base model\n",
        "if lora_results['accuracy'] > base_results['accuracy']:\n",
        "    print(\"\\n✅ LoRA fine-tuned model OUTPERFORMS the base model!\")\n",
        "else:\n",
        "    print(\"\\n❌ LoRA fine-tuned model does NOT outperform the base model.\")\n",
        "\n",
        "\n",
        "\n",
        "\n",
        "# Check if our fine-tuned model outperforms the instruction-tuned model\n",
        "if lora_results['accuracy'] > instruction_results['accuracy']:\n",
        "    print(\"✅ LoRA fine-tuned model OUTPERFORMS the instruction-tuned model!\")\n",
        "else:\n",
        "    print(\"❌ LoRA fine-tuned model does NOT outperform the instruction-tuned model.\")\n",
        "\n",
        "\n",
        "# Collect the metrics for visualization\n",
        "models = ['LoRA Fine-tuned', 'Instruction-tuned', 'Base Model']\n",
        "accuracies = [lora_results['accuracy'], instruction_results['accuracy'], base_results['accuracy']]\n",
        "micro_f1s = [lora_results['micro_f1'], instruction_results['micro_f1'], base_results['micro_f1']]\n",
        "\n",
        "# Set up the figure\n",
        "plt.figure(figsize=(12, 6))\n",
        "\n",
        "# Set width of bars\n",
        "barWidth = 0.3\n",
        "r1 = range(len(models))\n",
        "r2 = [x + barWidth for x in r1]\n",
        "\n",
        "# Create bars\n",
        "plt.bar(r1, accuracies, width=barWidth, edgecolor='white', label='Accuracy', color='skyblue')\n",
        "plt.bar(r2, micro_f1s, width=barWidth, edgecolor='white', label='Micro F1', color='salmon')\n",
        "\n",
        "# Add labels and title\n",
        "plt.xlabel('Models', fontweight='bold', fontsize=12)\n",
        "plt.ylabel('Score', fontweight='bold', fontsize=12)\n",
        "plt.title('Model Performance Comparison: Accuracy and Micro F1', fontsize=14)\n",
        "plt.xticks([r + barWidth/2 for r in range(len(models))], models)\n",
        "plt.ylim(0, 1)  # Set y-axis from 0 to 1 for clarity\n",
        "\n",
        "# Add value labels on top of bars\n",
        "for i, v in enumerate(accuracies):\n",
        "    plt.text(i, v + 0.01, f'{v:.3f}', ha='center', fontsize=10)\n",
        "\n",
        "for i, v in enumerate(micro_f1s):\n",
        "    plt.text(i + barWidth, v + 0.01, f'{v:.3f}', ha='center', fontsize=10)\n",
        "\n",
        "# Add a grid for better readability\n",
        "plt.grid(axis='y', linestyle='--', alpha=0.7)\n",
        "\n",
        "# Add legend\n",
        "plt.legend()\n",
        "\n",
        "# Show the plot\n",
        "plt.tight_layout()\n",
        "plt.show()\n",
        "\n",
        "# Additional visualization: Confusion matrices for all models\n",
        "from sklearn.metrics import confusion_matrix\n",
        "import seaborn as sns\n",
        "\n",
        "plt.figure(figsize=(18, 6))\n",
        "\n",
        "# Plot confusion matrix for each model\n",
        "for i, (results, model_name) in enumerate(zip(\n",
        "    [lora_results, instruction_results, base_results],\n",
        "    ['LoRA Fine-tuned Model', 'Instruction-tuned Model', 'Base Model']\n",
        ")):\n",
        "    plt.subplot(1, 3, i+1)\n",
        "\n",
        "    # Create confusion matrix\n",
        "    cm = confusion_matrix(results['true_labels'], results['predictions'], labels=emotion_labels)\n",
        "\n",
        "    # Plot with seaborn\n",
        "    sns.heatmap(cm, annot=True, fmt='d', cmap='Blues',\n",
        "                xticklabels=emotion_labels, yticklabels=emotion_labels, cbar=False)\n",
        "\n",
        "    plt.title(f'Confusion Matrix - {model_name}')\n",
        "    plt.xlabel('Predicted')\n",
        "    plt.ylabel('True')\n",
        "    plt.tight_layout()\n",
        "\n",
        "plt.show()\n",
        "\n",
        "# Save all results for reproducibility\n",
        "import json\n",
        "\n",
        "final_results = {\n",
        "    'lora_model': {\n",
        "        'accuracy': float(lora_results['accuracy']),\n",
        "        'micro_f1': float(lora_results['micro_f1']),\n",
        "    },\n",
        "    'instruction_model': {\n",
        "        'accuracy': float(instruction_results['accuracy']),\n",
        "        'micro_f1': float(instruction_results['micro_f1']),\n",
        "    },\n",
        "    'base_model': {\n",
        "        'accuracy': float(base_results['accuracy']),\n",
        "        'micro_f1': float(base_results['micro_f1']),\n",
        "    }\n",
        "}\n",
        "\n",
        "with open('model_comparison_results.json', 'w') as f:\n",
        "    json.dump(final_results, f, indent=4)\n",
        "\n",
        "print(\"Results saved to model_comparison_results.json\")"
      ]
    },
    {
      "cell_type": "markdown",
      "metadata": {
        "id": "zMN1mXhepyIX"
      },
      "source": [
        "#### Q2.11: Analysis (10 pts)"
      ]
    },
    {
      "cell_type": "markdown",
      "metadata": {
        "id": "jd5DZCWA0dkQ"
      },
      "source": [
        "I've tested several settings but this one isn't performing as expected. Let me share my understanding of the key issues and potential solutions.\n",
        "\n",
        "## The Core Problem\n",
        "\n",
        "The fundamental issue is that none of the models are following the instruction to \"respond with ONLY the emotion label as a single word.\" Instead, they're producing multi-line outputs or lists of all possible emotion labels, which the extraction logic isn't handling properly.\n",
        "\n",
        "## What's Happening With Each Model\n",
        "\n",
        "### The LoRA Fine-tuned and Base Models (47% accuracy)\n",
        "Both models are behaving almost identically, which is surprising since one is fine-tuned. They're mainly predicting \"joy\" or \"sadness\" regardless of the input text, because:\n",
        "\n",
        "1. They're ignoring the instruction to produce a single word\n",
        "2. the extraction code is either picking up the first emotion word it finds or defaulting to \"joy\" when it can't find anything clear\n",
        "\n",
        "The identical performance suggests that either the LoRA fine-tuning wasn't effective, or more likely, that the extraction method is \"collapsing\" different outputs into the same predictions.\n",
        "\n",
        "### The Instruction-tuned Model (29% accuracy)\n",
        "This model is consistently producing a list of all emotion labels, always starting with \"sadness\":\n",
        "```\n",
        "sadness\n",
        "joy\n",
        "love\n",
        "anger\n",
        "fear\n",
        "surprise\n",
        "```\n",
        "\n",
        "Since the extraction code takes the first emotion label it finds, this model always predicts \"sadness.\" With approximately 29% of the dataset actually labeled as \"sadness,\" this gives you a 29% accuracy rate.\n",
        "\n",
        "## Why This Is Happening\n",
        "\n",
        "1. **Decoding Settings**: the generation parameters (`do_sample=False`, `temperature=0.1`, `num_beams=1`) make the model's outputs deterministic, reinforcing any tendency to list all options.\n",
        "\n",
        "2. **Model Training**: The models may have been trained on data where they were expected to provide explanations or lists rather than single-word answers.\n",
        "\n",
        "3. **Extraction Logic**: the current method doesn't properly handle situations where the model lists multiple emotions.\n",
        "\n",
        "## How to Fix This\n",
        "\n",
        "### The Prompting\n",
        "1. Try a more structured prompt format, especially for instruction-tuned models:\n",
        "    - The system setting used for preparing data and applying chat template on it.\n",
        "\n",
        "2. Add stronger constraints to the instructions:\n",
        "   - \"Output ONLY one word with no explanation.\"\n",
        "   - \"If you list multiple emotions, the answer will be considered incorrect.\"\n",
        "\n",
        "### The Decoding Strategy\n",
        "1. Set `max_new_tokens=1` to force the model to generate only one token\n",
        "2. Add stopping conditions like \"\\n\" to prevent multi-line outputs\n",
        "3. Experiment with slightly higher temperature values to break out of deterministic patterns\n",
        "\n",
        "### The Extraction Logic\n",
        "the current method defaults to taking the first emotion word it finds, which doesn't work when models list all emotions. Consider:\n",
        "\n",
        "1. Rejecting responses that contain multiple emotion labels\n",
        "2. Looking for the emotion label with the highest confidence/probability score\n",
        "3. Implementing a more sophisticated parsing approach that can handle different output formats\n",
        "\n",
        "## Deeper Understanding\n",
        "\n",
        "This case illustrates an important principle in working with language models: the gap between what you ask for and what the model actually does can be significant. Even with explicit instructions, models often follow patterns they've learned during training more strongly than they follow new instructions in prompts.\n",
        "\n",
        "For the LoRA fine-tuning to be more effective, you might need to structure the training examples to specifically demonstrate the exact output format you want, rather than relying on instructions in the prompt to guide the model's behavior."
      ]
    },
    {
      "cell_type": "markdown",
      "metadata": {},
      "source": [
        "## AI assistance use disclosure"
      ]
    },
    {
      "cell_type": "markdown",
      "metadata": {},
      "source": [
        "I fed the entire notebook (imported to script) directly to Claude 3.7 Sonnet on a free subscription plan with the explanatory style enabled and received this [explanation](https://claude.ai/share/7cf37fcc-43a8-417c-9049-7a8b8dfdd8b8). Since there were several issues in the second part, I fed just the fine-tuning section back to Claude in normal mode and got this [improved explanation](https://claude.ai/share/7fabf711-3aca-4a26-885a-5da586e487f1). These two conversations helped me tremendously with writing the code.\n",
        "\n",
        "For the written portions, I used the O1 model throughout. I would provide it with the topic, my code, results, and specific questions. Here are two examples of O1's responses:\n",
        "- [on Evaluation and Comparison](https://chatgpt.com/share/67deaa40-6148-8001-9e31-eec627f744a0)\n",
        "- [on Memory usage](https://chatgpt.com/share/67deaa62-38ac-8001-81fe-1aecd3b47a93)\n",
        "\n",
        "These responses provided valuable insights and saved me significant time."
      ]
    }
  ],
  "metadata": {
    "accelerator": "GPU",
    "colab": {
      "gpuType": "T4",
      "provenance": [],
      "toc_visible": true
    },
    "kaggle": {
      "accelerator": "nvidiaTeslaT4",
      "dataSources": [],
      "dockerImageVersionId": 30919,
      "isGpuEnabled": true,
      "isInternetEnabled": true,
      "language": "python",
      "sourceType": "notebook"
    },
    "kernelspec": {
      "display_name": "Python 3",
      "name": "python3"
    },
    "language_info": {
      "codemirror_mode": {
        "name": "ipython",
        "version": 3
      },
      "file_extension": ".py",
      "mimetype": "text/x-python",
      "name": "python",
      "nbconvert_exporter": "python",
      "pygments_lexer": "ipython3",
      "version": "3.10.12"
    },
    "widgets": {
      "application/vnd.jupyter.widget-state+json": {
        "031cae2eb5194c5eb9884ab81e476f08": {
          "model_module": "@jupyter-widgets/controls",
          "model_module_version": "1.5.0",
          "model_name": "FloatProgressModel",
          "state": {
            "_dom_classes": [],
            "_model_module": "@jupyter-widgets/controls",
            "_model_module_version": "1.5.0",
            "_model_name": "FloatProgressModel",
            "_view_count": null,
            "_view_module": "@jupyter-widgets/controls",
            "_view_module_version": "1.5.0",
            "_view_name": "ProgressView",
            "bar_style": "success",
            "description": "",
            "description_tooltip": null,
            "layout": "IPY_MODEL_7b88226b1e6b49e4b8c46a9f7902f96e",
            "max": 843,
            "min": 0,
            "orientation": "horizontal",
            "style": "IPY_MODEL_e8e0f2c529254422a3fd1a9d346aa425",
            "value": 843
          }
        },
        "098ddb65e1024260b7f3c71158d8e4b0": {
          "model_module": "@jupyter-widgets/controls",
          "model_module_version": "1.5.0",
          "model_name": "HTMLModel",
          "state": {
            "_dom_classes": [],
            "_model_module": "@jupyter-widgets/controls",
            "_model_module_version": "1.5.0",
            "_model_name": "HTMLModel",
            "_view_count": null,
            "_view_module": "@jupyter-widgets/controls",
            "_view_module_version": "1.5.0",
            "_view_name": "HTMLView",
            "description": "",
            "description_tooltip": null,
            "layout": "IPY_MODEL_dc70547f23244bf785ecbf118aad9330",
            "placeholder": "​",
            "style": "IPY_MODEL_d2b01d88685c49e09935437a9cc35634",
            "value": "generation_config.json: 100%"
          }
        },
        "0da51172b23948db9ba0bafbef295744": {
          "model_module": "@jupyter-widgets/base",
          "model_module_version": "1.2.0",
          "model_name": "LayoutModel",
          "state": {
            "_model_module": "@jupyter-widgets/base",
            "_model_module_version": "1.2.0",
            "_model_name": "LayoutModel",
            "_view_count": null,
            "_view_module": "@jupyter-widgets/base",
            "_view_module_version": "1.2.0",
            "_view_name": "LayoutView",
            "align_content": null,
            "align_items": null,
            "align_self": null,
            "border": null,
            "bottom": null,
            "display": null,
            "flex": null,
            "flex_flow": null,
            "grid_area": null,
            "grid_auto_columns": null,
            "grid_auto_flow": null,
            "grid_auto_rows": null,
            "grid_column": null,
            "grid_gap": null,
            "grid_row": null,
            "grid_template_areas": null,
            "grid_template_columns": null,
            "grid_template_rows": null,
            "height": null,
            "justify_content": null,
            "justify_items": null,
            "left": null,
            "margin": null,
            "max_height": null,
            "max_width": null,
            "min_height": null,
            "min_width": null,
            "object_fit": null,
            "object_position": null,
            "order": null,
            "overflow": null,
            "overflow_x": null,
            "overflow_y": null,
            "padding": null,
            "right": null,
            "top": null,
            "visibility": null,
            "width": null
          }
        },
        "121e2d5c340c439da30ad21262c89654": {
          "model_module": "@jupyter-widgets/base",
          "model_module_version": "1.2.0",
          "model_name": "LayoutModel",
          "state": {
            "_model_module": "@jupyter-widgets/base",
            "_model_module_version": "1.2.0",
            "_model_name": "LayoutModel",
            "_view_count": null,
            "_view_module": "@jupyter-widgets/base",
            "_view_module_version": "1.2.0",
            "_view_name": "LayoutView",
            "align_content": null,
            "align_items": null,
            "align_self": null,
            "border": null,
            "bottom": null,
            "display": null,
            "flex": null,
            "flex_flow": null,
            "grid_area": null,
            "grid_auto_columns": null,
            "grid_auto_flow": null,
            "grid_auto_rows": null,
            "grid_column": null,
            "grid_gap": null,
            "grid_row": null,
            "grid_template_areas": null,
            "grid_template_columns": null,
            "grid_template_rows": null,
            "height": null,
            "justify_content": null,
            "justify_items": null,
            "left": null,
            "margin": null,
            "max_height": null,
            "max_width": null,
            "min_height": null,
            "min_width": null,
            "object_fit": null,
            "object_position": null,
            "order": null,
            "overflow": null,
            "overflow_x": null,
            "overflow_y": null,
            "padding": null,
            "right": null,
            "top": null,
            "visibility": null,
            "width": null
          }
        },
        "154439cd966548978bcdf50fb09ff91d": {
          "model_module": "@jupyter-widgets/base",
          "model_module_version": "1.2.0",
          "model_name": "LayoutModel",
          "state": {
            "_model_module": "@jupyter-widgets/base",
            "_model_module_version": "1.2.0",
            "_model_name": "LayoutModel",
            "_view_count": null,
            "_view_module": "@jupyter-widgets/base",
            "_view_module_version": "1.2.0",
            "_view_name": "LayoutView",
            "align_content": null,
            "align_items": null,
            "align_self": null,
            "border": null,
            "bottom": null,
            "display": null,
            "flex": null,
            "flex_flow": null,
            "grid_area": null,
            "grid_auto_columns": null,
            "grid_auto_flow": null,
            "grid_auto_rows": null,
            "grid_column": null,
            "grid_gap": null,
            "grid_row": null,
            "grid_template_areas": null,
            "grid_template_columns": null,
            "grid_template_rows": null,
            "height": null,
            "justify_content": null,
            "justify_items": null,
            "left": null,
            "margin": null,
            "max_height": null,
            "max_width": null,
            "min_height": null,
            "min_width": null,
            "object_fit": null,
            "object_position": null,
            "order": null,
            "overflow": null,
            "overflow_x": null,
            "overflow_y": null,
            "padding": null,
            "right": null,
            "top": null,
            "visibility": null,
            "width": null
          }
        },
        "169f4b2ba9f54a5aa49fc0c7fdb2953a": {
          "model_module": "@jupyter-widgets/base",
          "model_module_version": "1.2.0",
          "model_name": "LayoutModel",
          "state": {
            "_model_module": "@jupyter-widgets/base",
            "_model_module_version": "1.2.0",
            "_model_name": "LayoutModel",
            "_view_count": null,
            "_view_module": "@jupyter-widgets/base",
            "_view_module_version": "1.2.0",
            "_view_name": "LayoutView",
            "align_content": null,
            "align_items": null,
            "align_self": null,
            "border": null,
            "bottom": null,
            "display": null,
            "flex": null,
            "flex_flow": null,
            "grid_area": null,
            "grid_auto_columns": null,
            "grid_auto_flow": null,
            "grid_auto_rows": null,
            "grid_column": null,
            "grid_gap": null,
            "grid_row": null,
            "grid_template_areas": null,
            "grid_template_columns": null,
            "grid_template_rows": null,
            "height": null,
            "justify_content": null,
            "justify_items": null,
            "left": null,
            "margin": null,
            "max_height": null,
            "max_width": null,
            "min_height": null,
            "min_width": null,
            "object_fit": null,
            "object_position": null,
            "order": null,
            "overflow": null,
            "overflow_x": null,
            "overflow_y": null,
            "padding": null,
            "right": null,
            "top": null,
            "visibility": null,
            "width": null
          }
        },
        "1d83110544054aa29541416cadc895c1": {
          "model_module": "@jupyter-widgets/controls",
          "model_module_version": "1.5.0",
          "model_name": "FloatProgressModel",
          "state": {
            "_dom_classes": [],
            "_model_module": "@jupyter-widgets/controls",
            "_model_module_version": "1.5.0",
            "_model_name": "FloatProgressModel",
            "_view_count": null,
            "_view_module": "@jupyter-widgets/controls",
            "_view_module_version": "1.5.0",
            "_view_name": "ProgressView",
            "bar_style": "success",
            "description": "",
            "description_tooltip": null,
            "layout": "IPY_MODEL_9b58a859ac1048e8abefa9aa92924ba7",
            "max": 2471645608,
            "min": 0,
            "orientation": "horizontal",
            "style": "IPY_MODEL_ca4cd15de1ad41839c875eeadd0dd87c",
            "value": 2471645608
          }
        },
        "25384ecc604c4f179a681299ee64d68e": {
          "model_module": "@jupyter-widgets/controls",
          "model_module_version": "1.5.0",
          "model_name": "ProgressStyleModel",
          "state": {
            "_model_module": "@jupyter-widgets/controls",
            "_model_module_version": "1.5.0",
            "_model_name": "ProgressStyleModel",
            "_view_count": null,
            "_view_module": "@jupyter-widgets/base",
            "_view_module_version": "1.2.0",
            "_view_name": "StyleView",
            "bar_color": null,
            "description_width": ""
          }
        },
        "2ae46a354cc3425982e2fa8bc80fa379": {
          "model_module": "@jupyter-widgets/controls",
          "model_module_version": "1.5.0",
          "model_name": "DescriptionStyleModel",
          "state": {
            "_model_module": "@jupyter-widgets/controls",
            "_model_module_version": "1.5.0",
            "_model_name": "DescriptionStyleModel",
            "_view_count": null,
            "_view_module": "@jupyter-widgets/base",
            "_view_module_version": "1.2.0",
            "_view_name": "StyleView",
            "description_width": ""
          }
        },
        "2ba3dfb13f324cd59e9e11e7846e1a8c": {
          "model_module": "@jupyter-widgets/controls",
          "model_module_version": "1.5.0",
          "model_name": "FloatProgressModel",
          "state": {
            "_dom_classes": [],
            "_model_module": "@jupyter-widgets/controls",
            "_model_module_version": "1.5.0",
            "_model_name": "FloatProgressModel",
            "_view_count": null,
            "_view_module": "@jupyter-widgets/controls",
            "_view_module_version": "1.5.0",
            "_view_name": "ProgressView",
            "bar_style": "success",
            "description": "",
            "description_tooltip": null,
            "layout": "IPY_MODEL_3c0c9bfaab314f108e584a506986f290",
            "max": 1500,
            "min": 0,
            "orientation": "horizontal",
            "style": "IPY_MODEL_7c6639db263a4d73a5c55642538b00bf",
            "value": 1500
          }
        },
        "31f8aaf27bd74b55afbe700600d4a60b": {
          "model_module": "@jupyter-widgets/controls",
          "model_module_version": "1.5.0",
          "model_name": "HTMLModel",
          "state": {
            "_dom_classes": [],
            "_model_module": "@jupyter-widgets/controls",
            "_model_module_version": "1.5.0",
            "_model_name": "HTMLModel",
            "_view_count": null,
            "_view_module": "@jupyter-widgets/controls",
            "_view_module_version": "1.5.0",
            "_view_name": "HTMLView",
            "description": "",
            "description_tooltip": null,
            "layout": "IPY_MODEL_fd41c43bc7084f80aa37d66d0dd03cb8",
            "placeholder": "​",
            "style": "IPY_MODEL_33e447dec0fb45f7aeb50bcee5fa9865",
            "value": " 877/877 [00:00&lt;00:00, 6.03kB/s]"
          }
        },
        "33e447dec0fb45f7aeb50bcee5fa9865": {
          "model_module": "@jupyter-widgets/controls",
          "model_module_version": "1.5.0",
          "model_name": "DescriptionStyleModel",
          "state": {
            "_model_module": "@jupyter-widgets/controls",
            "_model_module_version": "1.5.0",
            "_model_name": "DescriptionStyleModel",
            "_view_count": null,
            "_view_module": "@jupyter-widgets/base",
            "_view_module_version": "1.2.0",
            "_view_name": "StyleView",
            "description_width": ""
          }
        },
        "36ee71239b304be69b86c01221b3a4e5": {
          "model_module": "@jupyter-widgets/controls",
          "model_module_version": "1.5.0",
          "model_name": "ProgressStyleModel",
          "state": {
            "_model_module": "@jupyter-widgets/controls",
            "_model_module_version": "1.5.0",
            "_model_name": "ProgressStyleModel",
            "_view_count": null,
            "_view_module": "@jupyter-widgets/base",
            "_view_module_version": "1.2.0",
            "_view_name": "StyleView",
            "bar_color": null,
            "description_width": ""
          }
        },
        "37848c1ab8be4f9c9139ea9491f8cf33": {
          "model_module": "@jupyter-widgets/controls",
          "model_module_version": "1.5.0",
          "model_name": "HBoxModel",
          "state": {
            "_dom_classes": [],
            "_model_module": "@jupyter-widgets/controls",
            "_model_module_version": "1.5.0",
            "_model_name": "HBoxModel",
            "_view_count": null,
            "_view_module": "@jupyter-widgets/controls",
            "_view_module_version": "1.5.0",
            "_view_name": "HBoxView",
            "box_style": "",
            "children": [
              "IPY_MODEL_3cbb6d30bc61454c82052073b1c6b400",
              "IPY_MODEL_b0ac796db8dd46039d9d07229c3854b6",
              "IPY_MODEL_31f8aaf27bd74b55afbe700600d4a60b"
            ],
            "layout": "IPY_MODEL_9191e2c1bcb34a69977643f9a38b509a"
          }
        },
        "3846a07cef3940158c7d7f499d8159a9": {
          "model_module": "@jupyter-widgets/controls",
          "model_module_version": "1.5.0",
          "model_name": "DescriptionStyleModel",
          "state": {
            "_model_module": "@jupyter-widgets/controls",
            "_model_module_version": "1.5.0",
            "_model_name": "DescriptionStyleModel",
            "_view_count": null,
            "_view_module": "@jupyter-widgets/base",
            "_view_module_version": "1.2.0",
            "_view_name": "StyleView",
            "description_width": ""
          }
        },
        "39516d1458e54493b35c96ed81344713": {
          "model_module": "@jupyter-widgets/controls",
          "model_module_version": "1.5.0",
          "model_name": "HBoxModel",
          "state": {
            "_dom_classes": [],
            "_model_module": "@jupyter-widgets/controls",
            "_model_module_version": "1.5.0",
            "_model_name": "HBoxModel",
            "_view_count": null,
            "_view_module": "@jupyter-widgets/controls",
            "_view_module_version": "1.5.0",
            "_view_name": "HBoxView",
            "box_style": "",
            "children": [
              "IPY_MODEL_44a3b0efc0b4431da4e5be0c519f8696",
              "IPY_MODEL_2ba3dfb13f324cd59e9e11e7846e1a8c",
              "IPY_MODEL_77a1669105644729b43ba00ea0d2b058"
            ],
            "layout": "IPY_MODEL_cb94501d43c24587aa22feb00fb47628"
          }
        },
        "3c0c9bfaab314f108e584a506986f290": {
          "model_module": "@jupyter-widgets/base",
          "model_module_version": "1.2.0",
          "model_name": "LayoutModel",
          "state": {
            "_model_module": "@jupyter-widgets/base",
            "_model_module_version": "1.2.0",
            "_model_name": "LayoutModel",
            "_view_count": null,
            "_view_module": "@jupyter-widgets/base",
            "_view_module_version": "1.2.0",
            "_view_name": "LayoutView",
            "align_content": null,
            "align_items": null,
            "align_self": null,
            "border": null,
            "bottom": null,
            "display": null,
            "flex": null,
            "flex_flow": null,
            "grid_area": null,
            "grid_auto_columns": null,
            "grid_auto_flow": null,
            "grid_auto_rows": null,
            "grid_column": null,
            "grid_gap": null,
            "grid_row": null,
            "grid_template_areas": null,
            "grid_template_columns": null,
            "grid_template_rows": null,
            "height": null,
            "justify_content": null,
            "justify_items": null,
            "left": null,
            "margin": null,
            "max_height": null,
            "max_width": null,
            "min_height": null,
            "min_width": null,
            "object_fit": null,
            "object_position": null,
            "order": null,
            "overflow": null,
            "overflow_x": null,
            "overflow_y": null,
            "padding": null,
            "right": null,
            "top": null,
            "visibility": null,
            "width": null
          }
        },
        "3c60c8c29c03440e85536f419c26e471": {
          "model_module": "@jupyter-widgets/base",
          "model_module_version": "1.2.0",
          "model_name": "LayoutModel",
          "state": {
            "_model_module": "@jupyter-widgets/base",
            "_model_module_version": "1.2.0",
            "_model_name": "LayoutModel",
            "_view_count": null,
            "_view_module": "@jupyter-widgets/base",
            "_view_module_version": "1.2.0",
            "_view_name": "LayoutView",
            "align_content": null,
            "align_items": null,
            "align_self": null,
            "border": null,
            "bottom": null,
            "display": null,
            "flex": null,
            "flex_flow": null,
            "grid_area": null,
            "grid_auto_columns": null,
            "grid_auto_flow": null,
            "grid_auto_rows": null,
            "grid_column": null,
            "grid_gap": null,
            "grid_row": null,
            "grid_template_areas": null,
            "grid_template_columns": null,
            "grid_template_rows": null,
            "height": null,
            "justify_content": null,
            "justify_items": null,
            "left": null,
            "margin": null,
            "max_height": null,
            "max_width": null,
            "min_height": null,
            "min_width": null,
            "object_fit": null,
            "object_position": null,
            "order": null,
            "overflow": null,
            "overflow_x": null,
            "overflow_y": null,
            "padding": null,
            "right": null,
            "top": null,
            "visibility": null,
            "width": null
          }
        },
        "3cbb6d30bc61454c82052073b1c6b400": {
          "model_module": "@jupyter-widgets/controls",
          "model_module_version": "1.5.0",
          "model_name": "HTMLModel",
          "state": {
            "_dom_classes": [],
            "_model_module": "@jupyter-widgets/controls",
            "_model_module_version": "1.5.0",
            "_model_name": "HTMLModel",
            "_view_count": null,
            "_view_module": "@jupyter-widgets/controls",
            "_view_module_version": "1.5.0",
            "_view_name": "HTMLView",
            "description": "",
            "description_tooltip": null,
            "layout": "IPY_MODEL_45e017739b1f4816817b037891ecc4c3",
            "placeholder": "​",
            "style": "IPY_MODEL_2ae46a354cc3425982e2fa8bc80fa379",
            "value": "config.json: 100%"
          }
        },
        "3e4c62b34b09444eb75aba9c5a53cd9e": {
          "model_module": "@jupyter-widgets/controls",
          "model_module_version": "1.5.0",
          "model_name": "HTMLModel",
          "state": {
            "_dom_classes": [],
            "_model_module": "@jupyter-widgets/controls",
            "_model_module_version": "1.5.0",
            "_model_name": "HTMLModel",
            "_view_count": null,
            "_view_module": "@jupyter-widgets/controls",
            "_view_module_version": "1.5.0",
            "_view_name": "HTMLView",
            "description": "",
            "description_tooltip": null,
            "layout": "IPY_MODEL_90d071bea4cd4f7cbe9816cc1b23ecf7",
            "placeholder": "​",
            "style": "IPY_MODEL_3846a07cef3940158c7d7f499d8159a9",
            "value": " 843/843 [00:00&lt;00:00, 23.8kB/s]"
          }
        },
        "3edf512322c343c4b0caa1950d4418a8": {
          "model_module": "@jupyter-widgets/controls",
          "model_module_version": "1.5.0",
          "model_name": "FloatProgressModel",
          "state": {
            "_dom_classes": [],
            "_model_module": "@jupyter-widgets/controls",
            "_model_module_version": "1.5.0",
            "_model_name": "FloatProgressModel",
            "_view_count": null,
            "_view_module": "@jupyter-widgets/controls",
            "_view_module_version": "1.5.0",
            "_view_name": "ProgressView",
            "bar_style": "success",
            "description": "",
            "description_tooltip": null,
            "layout": "IPY_MODEL_a3daac38569f4526b030c682711513e6",
            "max": 185,
            "min": 0,
            "orientation": "horizontal",
            "style": "IPY_MODEL_6dddbd4e050d4dba92582fb72cb5c6da",
            "value": 185
          }
        },
        "44a3b0efc0b4431da4e5be0c519f8696": {
          "model_module": "@jupyter-widgets/controls",
          "model_module_version": "1.5.0",
          "model_name": "HTMLModel",
          "state": {
            "_dom_classes": [],
            "_model_module": "@jupyter-widgets/controls",
            "_model_module_version": "1.5.0",
            "_model_name": "HTMLModel",
            "_view_count": null,
            "_view_module": "@jupyter-widgets/controls",
            "_view_module_version": "1.5.0",
            "_view_name": "HTMLView",
            "description": "",
            "description_tooltip": null,
            "layout": "IPY_MODEL_3c60c8c29c03440e85536f419c26e471",
            "placeholder": "​",
            "style": "IPY_MODEL_9033313cfd654367b359eb77ff6773d4",
            "value": "Map: 100%"
          }
        },
        "45e017739b1f4816817b037891ecc4c3": {
          "model_module": "@jupyter-widgets/base",
          "model_module_version": "1.2.0",
          "model_name": "LayoutModel",
          "state": {
            "_model_module": "@jupyter-widgets/base",
            "_model_module_version": "1.2.0",
            "_model_name": "LayoutModel",
            "_view_count": null,
            "_view_module": "@jupyter-widgets/base",
            "_view_module_version": "1.2.0",
            "_view_name": "LayoutView",
            "align_content": null,
            "align_items": null,
            "align_self": null,
            "border": null,
            "bottom": null,
            "display": null,
            "flex": null,
            "flex_flow": null,
            "grid_area": null,
            "grid_auto_columns": null,
            "grid_auto_flow": null,
            "grid_auto_rows": null,
            "grid_column": null,
            "grid_gap": null,
            "grid_row": null,
            "grid_template_areas": null,
            "grid_template_columns": null,
            "grid_template_rows": null,
            "height": null,
            "justify_content": null,
            "justify_items": null,
            "left": null,
            "margin": null,
            "max_height": null,
            "max_width": null,
            "min_height": null,
            "min_width": null,
            "object_fit": null,
            "object_position": null,
            "order": null,
            "overflow": null,
            "overflow_x": null,
            "overflow_y": null,
            "padding": null,
            "right": null,
            "top": null,
            "visibility": null,
            "width": null
          }
        },
        "48ac9592add347c7aff3006d42954664": {
          "model_module": "@jupyter-widgets/base",
          "model_module_version": "1.2.0",
          "model_name": "LayoutModel",
          "state": {
            "_model_module": "@jupyter-widgets/base",
            "_model_module_version": "1.2.0",
            "_model_name": "LayoutModel",
            "_view_count": null,
            "_view_module": "@jupyter-widgets/base",
            "_view_module_version": "1.2.0",
            "_view_name": "LayoutView",
            "align_content": null,
            "align_items": null,
            "align_self": null,
            "border": null,
            "bottom": null,
            "display": null,
            "flex": null,
            "flex_flow": null,
            "grid_area": null,
            "grid_auto_columns": null,
            "grid_auto_flow": null,
            "grid_auto_rows": null,
            "grid_column": null,
            "grid_gap": null,
            "grid_row": null,
            "grid_template_areas": null,
            "grid_template_columns": null,
            "grid_template_rows": null,
            "height": null,
            "justify_content": null,
            "justify_items": null,
            "left": null,
            "margin": null,
            "max_height": null,
            "max_width": null,
            "min_height": null,
            "min_width": null,
            "object_fit": null,
            "object_position": null,
            "order": null,
            "overflow": null,
            "overflow_x": null,
            "overflow_y": null,
            "padding": null,
            "right": null,
            "top": null,
            "visibility": null,
            "width": null
          }
        },
        "50685a7c88084a289f861d584b5f5cbb": {
          "model_module": "@jupyter-widgets/controls",
          "model_module_version": "1.5.0",
          "model_name": "FloatProgressModel",
          "state": {
            "_dom_classes": [],
            "_model_module": "@jupyter-widgets/controls",
            "_model_module_version": "1.5.0",
            "_model_name": "FloatProgressModel",
            "_view_count": null,
            "_view_module": "@jupyter-widgets/controls",
            "_view_module_version": "1.5.0",
            "_view_name": "ProgressView",
            "bar_style": "success",
            "description": "",
            "description_tooltip": null,
            "layout": "IPY_MODEL_ebe03e7ce08e43999c9acff5978c6d96",
            "max": 50,
            "min": 0,
            "orientation": "horizontal",
            "style": "IPY_MODEL_25384ecc604c4f179a681299ee64d68e",
            "value": 50
          }
        },
        "509ace705479481f94c61f8421a14365": {
          "model_module": "@jupyter-widgets/base",
          "model_module_version": "1.2.0",
          "model_name": "LayoutModel",
          "state": {
            "_model_module": "@jupyter-widgets/base",
            "_model_module_version": "1.2.0",
            "_model_name": "LayoutModel",
            "_view_count": null,
            "_view_module": "@jupyter-widgets/base",
            "_view_module_version": "1.2.0",
            "_view_name": "LayoutView",
            "align_content": null,
            "align_items": null,
            "align_self": null,
            "border": null,
            "bottom": null,
            "display": null,
            "flex": null,
            "flex_flow": null,
            "grid_area": null,
            "grid_auto_columns": null,
            "grid_auto_flow": null,
            "grid_auto_rows": null,
            "grid_column": null,
            "grid_gap": null,
            "grid_row": null,
            "grid_template_areas": null,
            "grid_template_columns": null,
            "grid_template_rows": null,
            "height": null,
            "justify_content": null,
            "justify_items": null,
            "left": null,
            "margin": null,
            "max_height": null,
            "max_width": null,
            "min_height": null,
            "min_width": null,
            "object_fit": null,
            "object_position": null,
            "order": null,
            "overflow": null,
            "overflow_x": null,
            "overflow_y": null,
            "padding": null,
            "right": null,
            "top": null,
            "visibility": null,
            "width": null
          }
        },
        "51bad11da4e946f9bb58c84881ef0168": {
          "model_module": "@jupyter-widgets/controls",
          "model_module_version": "1.5.0",
          "model_name": "DescriptionStyleModel",
          "state": {
            "_model_module": "@jupyter-widgets/controls",
            "_model_module_version": "1.5.0",
            "_model_name": "DescriptionStyleModel",
            "_view_count": null,
            "_view_module": "@jupyter-widgets/base",
            "_view_module_version": "1.2.0",
            "_view_name": "StyleView",
            "description_width": ""
          }
        },
        "51caebc88ad9462f9d1e59436cfc4381": {
          "model_module": "@jupyter-widgets/controls",
          "model_module_version": "1.5.0",
          "model_name": "ProgressStyleModel",
          "state": {
            "_model_module": "@jupyter-widgets/controls",
            "_model_module_version": "1.5.0",
            "_model_name": "ProgressStyleModel",
            "_view_count": null,
            "_view_module": "@jupyter-widgets/base",
            "_view_module_version": "1.2.0",
            "_view_name": "StyleView",
            "bar_color": null,
            "description_width": ""
          }
        },
        "59de03a3ca544f5aa12d412269e758cc": {
          "model_module": "@jupyter-widgets/base",
          "model_module_version": "1.2.0",
          "model_name": "LayoutModel",
          "state": {
            "_model_module": "@jupyter-widgets/base",
            "_model_module_version": "1.2.0",
            "_model_name": "LayoutModel",
            "_view_count": null,
            "_view_module": "@jupyter-widgets/base",
            "_view_module_version": "1.2.0",
            "_view_name": "LayoutView",
            "align_content": null,
            "align_items": null,
            "align_self": null,
            "border": null,
            "bottom": null,
            "display": null,
            "flex": null,
            "flex_flow": null,
            "grid_area": null,
            "grid_auto_columns": null,
            "grid_auto_flow": null,
            "grid_auto_rows": null,
            "grid_column": null,
            "grid_gap": null,
            "grid_row": null,
            "grid_template_areas": null,
            "grid_template_columns": null,
            "grid_template_rows": null,
            "height": null,
            "justify_content": null,
            "justify_items": null,
            "left": null,
            "margin": null,
            "max_height": null,
            "max_width": null,
            "min_height": null,
            "min_width": null,
            "object_fit": null,
            "object_position": null,
            "order": null,
            "overflow": null,
            "overflow_x": null,
            "overflow_y": null,
            "padding": null,
            "right": null,
            "top": null,
            "visibility": null,
            "width": null
          }
        },
        "5bbeeff35b814a8ab137d1c6474e9fe7": {
          "model_module": "@jupyter-widgets/controls",
          "model_module_version": "1.5.0",
          "model_name": "DescriptionStyleModel",
          "state": {
            "_model_module": "@jupyter-widgets/controls",
            "_model_module_version": "1.5.0",
            "_model_name": "DescriptionStyleModel",
            "_view_count": null,
            "_view_module": "@jupyter-widgets/base",
            "_view_module_version": "1.2.0",
            "_view_name": "StyleView",
            "description_width": ""
          }
        },
        "5bbf935536494136832655f254707c12": {
          "model_module": "@jupyter-widgets/controls",
          "model_module_version": "1.5.0",
          "model_name": "HTMLModel",
          "state": {
            "_dom_classes": [],
            "_model_module": "@jupyter-widgets/controls",
            "_model_module_version": "1.5.0",
            "_model_name": "HTMLModel",
            "_view_count": null,
            "_view_module": "@jupyter-widgets/controls",
            "_view_module_version": "1.5.0",
            "_view_name": "HTMLView",
            "description": "",
            "description_tooltip": null,
            "layout": "IPY_MODEL_509ace705479481f94c61f8421a14365",
            "placeholder": "​",
            "style": "IPY_MODEL_ba6337eda0104f539aa1446fcba5812f",
            "value": "Map: 100%"
          }
        },
        "5cf4736c46d44db5ace384ff41f15c29": {
          "model_module": "@jupyter-widgets/controls",
          "model_module_version": "1.5.0",
          "model_name": "HTMLModel",
          "state": {
            "_dom_classes": [],
            "_model_module": "@jupyter-widgets/controls",
            "_model_module_version": "1.5.0",
            "_model_name": "HTMLModel",
            "_view_count": null,
            "_view_module": "@jupyter-widgets/controls",
            "_view_module_version": "1.5.0",
            "_view_name": "HTMLView",
            "description": "",
            "description_tooltip": null,
            "layout": "IPY_MODEL_154439cd966548978bcdf50fb09ff91d",
            "placeholder": "​",
            "style": "IPY_MODEL_51bad11da4e946f9bb58c84881ef0168",
            "value": "model.safetensors: 100%"
          }
        },
        "6dddbd4e050d4dba92582fb72cb5c6da": {
          "model_module": "@jupyter-widgets/controls",
          "model_module_version": "1.5.0",
          "model_name": "ProgressStyleModel",
          "state": {
            "_model_module": "@jupyter-widgets/controls",
            "_model_module_version": "1.5.0",
            "_model_name": "ProgressStyleModel",
            "_view_count": null,
            "_view_module": "@jupyter-widgets/base",
            "_view_module_version": "1.2.0",
            "_view_name": "StyleView",
            "bar_color": null,
            "description_width": ""
          }
        },
        "7054b72ccb994490a7201dbfd79bf79f": {
          "model_module": "@jupyter-widgets/base",
          "model_module_version": "1.2.0",
          "model_name": "LayoutModel",
          "state": {
            "_model_module": "@jupyter-widgets/base",
            "_model_module_version": "1.2.0",
            "_model_name": "LayoutModel",
            "_view_count": null,
            "_view_module": "@jupyter-widgets/base",
            "_view_module_version": "1.2.0",
            "_view_name": "LayoutView",
            "align_content": null,
            "align_items": null,
            "align_self": null,
            "border": null,
            "bottom": null,
            "display": null,
            "flex": null,
            "flex_flow": null,
            "grid_area": null,
            "grid_auto_columns": null,
            "grid_auto_flow": null,
            "grid_auto_rows": null,
            "grid_column": null,
            "grid_gap": null,
            "grid_row": null,
            "grid_template_areas": null,
            "grid_template_columns": null,
            "grid_template_rows": null,
            "height": null,
            "justify_content": null,
            "justify_items": null,
            "left": null,
            "margin": null,
            "max_height": null,
            "max_width": null,
            "min_height": null,
            "min_width": null,
            "object_fit": null,
            "object_position": null,
            "order": null,
            "overflow": null,
            "overflow_x": null,
            "overflow_y": null,
            "padding": null,
            "right": null,
            "top": null,
            "visibility": null,
            "width": null
          }
        },
        "74d4cd74fac54fa092098d3ff66382e5": {
          "model_module": "@jupyter-widgets/controls",
          "model_module_version": "1.5.0",
          "model_name": "DescriptionStyleModel",
          "state": {
            "_model_module": "@jupyter-widgets/controls",
            "_model_module_version": "1.5.0",
            "_model_name": "DescriptionStyleModel",
            "_view_count": null,
            "_view_module": "@jupyter-widgets/base",
            "_view_module_version": "1.2.0",
            "_view_name": "StyleView",
            "description_width": ""
          }
        },
        "7775c7ce9ab3402a9868239465d7ee7d": {
          "model_module": "@jupyter-widgets/controls",
          "model_module_version": "1.5.0",
          "model_name": "HBoxModel",
          "state": {
            "_dom_classes": [],
            "_model_module": "@jupyter-widgets/controls",
            "_model_module_version": "1.5.0",
            "_model_name": "HBoxModel",
            "_view_count": null,
            "_view_module": "@jupyter-widgets/controls",
            "_view_module_version": "1.5.0",
            "_view_name": "HBoxView",
            "box_style": "",
            "children": [
              "IPY_MODEL_5cf4736c46d44db5ace384ff41f15c29",
              "IPY_MODEL_1d83110544054aa29541416cadc895c1",
              "IPY_MODEL_9fb64558ba8c4fcf9c45f9074abff580"
            ],
            "layout": "IPY_MODEL_e86585c26d974ed39da0d016c901a982"
          }
        },
        "77a1669105644729b43ba00ea0d2b058": {
          "model_module": "@jupyter-widgets/controls",
          "model_module_version": "1.5.0",
          "model_name": "HTMLModel",
          "state": {
            "_dom_classes": [],
            "_model_module": "@jupyter-widgets/controls",
            "_model_module_version": "1.5.0",
            "_model_name": "HTMLModel",
            "_view_count": null,
            "_view_module": "@jupyter-widgets/controls",
            "_view_module_version": "1.5.0",
            "_view_name": "HTMLView",
            "description": "",
            "description_tooltip": null,
            "layout": "IPY_MODEL_d5d8cf4ad0004c3da75e2d4df83d1f36",
            "placeholder": "​",
            "style": "IPY_MODEL_ef4a2c321e294792ad1425df08577408",
            "value": " 1500/1500 [00:01&lt;00:00, 974.72 examples/s]"
          }
        },
        "7b88226b1e6b49e4b8c46a9f7902f96e": {
          "model_module": "@jupyter-widgets/base",
          "model_module_version": "1.2.0",
          "model_name": "LayoutModel",
          "state": {
            "_model_module": "@jupyter-widgets/base",
            "_model_module_version": "1.2.0",
            "_model_name": "LayoutModel",
            "_view_count": null,
            "_view_module": "@jupyter-widgets/base",
            "_view_module_version": "1.2.0",
            "_view_name": "LayoutView",
            "align_content": null,
            "align_items": null,
            "align_self": null,
            "border": null,
            "bottom": null,
            "display": null,
            "flex": null,
            "flex_flow": null,
            "grid_area": null,
            "grid_auto_columns": null,
            "grid_auto_flow": null,
            "grid_auto_rows": null,
            "grid_column": null,
            "grid_gap": null,
            "grid_row": null,
            "grid_template_areas": null,
            "grid_template_columns": null,
            "grid_template_rows": null,
            "height": null,
            "justify_content": null,
            "justify_items": null,
            "left": null,
            "margin": null,
            "max_height": null,
            "max_width": null,
            "min_height": null,
            "min_width": null,
            "object_fit": null,
            "object_position": null,
            "order": null,
            "overflow": null,
            "overflow_x": null,
            "overflow_y": null,
            "padding": null,
            "right": null,
            "top": null,
            "visibility": null,
            "width": null
          }
        },
        "7c6639db263a4d73a5c55642538b00bf": {
          "model_module": "@jupyter-widgets/controls",
          "model_module_version": "1.5.0",
          "model_name": "ProgressStyleModel",
          "state": {
            "_model_module": "@jupyter-widgets/controls",
            "_model_module_version": "1.5.0",
            "_model_name": "ProgressStyleModel",
            "_view_count": null,
            "_view_module": "@jupyter-widgets/base",
            "_view_module_version": "1.2.0",
            "_view_name": "StyleView",
            "bar_color": null,
            "description_width": ""
          }
        },
        "7f6a72f20e434cf0a49b3079e340d8c1": {
          "model_module": "@jupyter-widgets/base",
          "model_module_version": "1.2.0",
          "model_name": "LayoutModel",
          "state": {
            "_model_module": "@jupyter-widgets/base",
            "_model_module_version": "1.2.0",
            "_model_name": "LayoutModel",
            "_view_count": null,
            "_view_module": "@jupyter-widgets/base",
            "_view_module_version": "1.2.0",
            "_view_name": "LayoutView",
            "align_content": null,
            "align_items": null,
            "align_self": null,
            "border": null,
            "bottom": null,
            "display": null,
            "flex": null,
            "flex_flow": null,
            "grid_area": null,
            "grid_auto_columns": null,
            "grid_auto_flow": null,
            "grid_auto_rows": null,
            "grid_column": null,
            "grid_gap": null,
            "grid_row": null,
            "grid_template_areas": null,
            "grid_template_columns": null,
            "grid_template_rows": null,
            "height": null,
            "justify_content": null,
            "justify_items": null,
            "left": null,
            "margin": null,
            "max_height": null,
            "max_width": null,
            "min_height": null,
            "min_width": null,
            "object_fit": null,
            "object_position": null,
            "order": null,
            "overflow": null,
            "overflow_x": null,
            "overflow_y": null,
            "padding": null,
            "right": null,
            "top": null,
            "visibility": null,
            "width": null
          }
        },
        "7ff9d84e6fe54b81bd5475a89b03d62c": {
          "model_module": "@jupyter-widgets/controls",
          "model_module_version": "1.5.0",
          "model_name": "HTMLModel",
          "state": {
            "_dom_classes": [],
            "_model_module": "@jupyter-widgets/controls",
            "_model_module_version": "1.5.0",
            "_model_name": "HTMLModel",
            "_view_count": null,
            "_view_module": "@jupyter-widgets/controls",
            "_view_module_version": "1.5.0",
            "_view_name": "HTMLView",
            "description": "",
            "description_tooltip": null,
            "layout": "IPY_MODEL_f4eef19627784fec8ff5bb24da93971f",
            "placeholder": "​",
            "style": "IPY_MODEL_5bbeeff35b814a8ab137d1c6474e9fe7",
            "value": " 50/50 [00:00&lt;00:00, 561.32 examples/s]"
          }
        },
        "81ea72cfd2c44654a0289cebfc7f9f60": {
          "model_module": "@jupyter-widgets/controls",
          "model_module_version": "1.5.0",
          "model_name": "HTMLModel",
          "state": {
            "_dom_classes": [],
            "_model_module": "@jupyter-widgets/controls",
            "_model_module_version": "1.5.0",
            "_model_name": "HTMLModel",
            "_view_count": null,
            "_view_module": "@jupyter-widgets/controls",
            "_view_module_version": "1.5.0",
            "_view_name": "HTMLView",
            "description": "",
            "description_tooltip": null,
            "layout": "IPY_MODEL_59de03a3ca544f5aa12d412269e758cc",
            "placeholder": "​",
            "style": "IPY_MODEL_d09f9d93420f43209a392069e0d2c275",
            "value": "config.json: 100%"
          }
        },
        "84fcc5e2d8ef44dc8d08d32c536d6336": {
          "model_module": "@jupyter-widgets/controls",
          "model_module_version": "1.5.0",
          "model_name": "FloatProgressModel",
          "state": {
            "_dom_classes": [],
            "_model_module": "@jupyter-widgets/controls",
            "_model_module_version": "1.5.0",
            "_model_name": "FloatProgressModel",
            "_view_count": null,
            "_view_module": "@jupyter-widgets/controls",
            "_view_module_version": "1.5.0",
            "_view_name": "ProgressView",
            "bar_style": "success",
            "description": "",
            "description_tooltip": null,
            "layout": "IPY_MODEL_eb549cf2aa3b4f01a55e7fdffef97e98",
            "max": 100,
            "min": 0,
            "orientation": "horizontal",
            "style": "IPY_MODEL_36ee71239b304be69b86c01221b3a4e5",
            "value": 100
          }
        },
        "8d50901507c44bb2ae9b0d5b29da6bb4": {
          "model_module": "@jupyter-widgets/controls",
          "model_module_version": "1.5.0",
          "model_name": "DescriptionStyleModel",
          "state": {
            "_model_module": "@jupyter-widgets/controls",
            "_model_module_version": "1.5.0",
            "_model_name": "DescriptionStyleModel",
            "_view_count": null,
            "_view_module": "@jupyter-widgets/base",
            "_view_module_version": "1.2.0",
            "_view_name": "StyleView",
            "description_width": ""
          }
        },
        "9033313cfd654367b359eb77ff6773d4": {
          "model_module": "@jupyter-widgets/controls",
          "model_module_version": "1.5.0",
          "model_name": "DescriptionStyleModel",
          "state": {
            "_model_module": "@jupyter-widgets/controls",
            "_model_module_version": "1.5.0",
            "_model_name": "DescriptionStyleModel",
            "_view_count": null,
            "_view_module": "@jupyter-widgets/base",
            "_view_module_version": "1.2.0",
            "_view_name": "StyleView",
            "description_width": ""
          }
        },
        "90d071bea4cd4f7cbe9816cc1b23ecf7": {
          "model_module": "@jupyter-widgets/base",
          "model_module_version": "1.2.0",
          "model_name": "LayoutModel",
          "state": {
            "_model_module": "@jupyter-widgets/base",
            "_model_module_version": "1.2.0",
            "_model_name": "LayoutModel",
            "_view_count": null,
            "_view_module": "@jupyter-widgets/base",
            "_view_module_version": "1.2.0",
            "_view_name": "LayoutView",
            "align_content": null,
            "align_items": null,
            "align_self": null,
            "border": null,
            "bottom": null,
            "display": null,
            "flex": null,
            "flex_flow": null,
            "grid_area": null,
            "grid_auto_columns": null,
            "grid_auto_flow": null,
            "grid_auto_rows": null,
            "grid_column": null,
            "grid_gap": null,
            "grid_row": null,
            "grid_template_areas": null,
            "grid_template_columns": null,
            "grid_template_rows": null,
            "height": null,
            "justify_content": null,
            "justify_items": null,
            "left": null,
            "margin": null,
            "max_height": null,
            "max_width": null,
            "min_height": null,
            "min_width": null,
            "object_fit": null,
            "object_position": null,
            "order": null,
            "overflow": null,
            "overflow_x": null,
            "overflow_y": null,
            "padding": null,
            "right": null,
            "top": null,
            "visibility": null,
            "width": null
          }
        },
        "9191e2c1bcb34a69977643f9a38b509a": {
          "model_module": "@jupyter-widgets/base",
          "model_module_version": "1.2.0",
          "model_name": "LayoutModel",
          "state": {
            "_model_module": "@jupyter-widgets/base",
            "_model_module_version": "1.2.0",
            "_model_name": "LayoutModel",
            "_view_count": null,
            "_view_module": "@jupyter-widgets/base",
            "_view_module_version": "1.2.0",
            "_view_name": "LayoutView",
            "align_content": null,
            "align_items": null,
            "align_self": null,
            "border": null,
            "bottom": null,
            "display": null,
            "flex": null,
            "flex_flow": null,
            "grid_area": null,
            "grid_auto_columns": null,
            "grid_auto_flow": null,
            "grid_auto_rows": null,
            "grid_column": null,
            "grid_gap": null,
            "grid_row": null,
            "grid_template_areas": null,
            "grid_template_columns": null,
            "grid_template_rows": null,
            "height": null,
            "justify_content": null,
            "justify_items": null,
            "left": null,
            "margin": null,
            "max_height": null,
            "max_width": null,
            "min_height": null,
            "min_width": null,
            "object_fit": null,
            "object_position": null,
            "order": null,
            "overflow": null,
            "overflow_x": null,
            "overflow_y": null,
            "padding": null,
            "right": null,
            "top": null,
            "visibility": null,
            "width": null
          }
        },
        "93db9bb409854f91ba22c4c3643167d9": {
          "model_module": "@jupyter-widgets/controls",
          "model_module_version": "1.5.0",
          "model_name": "DescriptionStyleModel",
          "state": {
            "_model_module": "@jupyter-widgets/controls",
            "_model_module_version": "1.5.0",
            "_model_name": "DescriptionStyleModel",
            "_view_count": null,
            "_view_module": "@jupyter-widgets/base",
            "_view_module_version": "1.2.0",
            "_view_name": "StyleView",
            "description_width": ""
          }
        },
        "941944733a204da0b20ef75641f84534": {
          "model_module": "@jupyter-widgets/controls",
          "model_module_version": "1.5.0",
          "model_name": "HBoxModel",
          "state": {
            "_dom_classes": [],
            "_model_module": "@jupyter-widgets/controls",
            "_model_module_version": "1.5.0",
            "_model_name": "HBoxModel",
            "_view_count": null,
            "_view_module": "@jupyter-widgets/controls",
            "_view_module_version": "1.5.0",
            "_view_name": "HBoxView",
            "box_style": "",
            "children": [
              "IPY_MODEL_f8b7cbe7e92b4146a8934f2aedfe95dc",
              "IPY_MODEL_ec4e48f946464c00a46ef1c043e3da1c",
              "IPY_MODEL_d66bfd106fb647bbb52a09acf14f823f"
            ],
            "layout": "IPY_MODEL_0da51172b23948db9ba0bafbef295744"
          }
        },
        "99767ef2c5514e97a456dfb473b2abbd": {
          "model_module": "@jupyter-widgets/controls",
          "model_module_version": "1.5.0",
          "model_name": "HBoxModel",
          "state": {
            "_dom_classes": [],
            "_model_module": "@jupyter-widgets/controls",
            "_model_module_version": "1.5.0",
            "_model_name": "HBoxModel",
            "_view_count": null,
            "_view_module": "@jupyter-widgets/controls",
            "_view_module_version": "1.5.0",
            "_view_name": "HBoxView",
            "box_style": "",
            "children": [
              "IPY_MODEL_098ddb65e1024260b7f3c71158d8e4b0",
              "IPY_MODEL_3edf512322c343c4b0caa1950d4418a8",
              "IPY_MODEL_b4e19261c1284571809d02002d2e43ae"
            ],
            "layout": "IPY_MODEL_a059f8df77a34f69af6ae555d817f109"
          }
        },
        "9b58a859ac1048e8abefa9aa92924ba7": {
          "model_module": "@jupyter-widgets/base",
          "model_module_version": "1.2.0",
          "model_name": "LayoutModel",
          "state": {
            "_model_module": "@jupyter-widgets/base",
            "_model_module_version": "1.2.0",
            "_model_name": "LayoutModel",
            "_view_count": null,
            "_view_module": "@jupyter-widgets/base",
            "_view_module_version": "1.2.0",
            "_view_name": "LayoutView",
            "align_content": null,
            "align_items": null,
            "align_self": null,
            "border": null,
            "bottom": null,
            "display": null,
            "flex": null,
            "flex_flow": null,
            "grid_area": null,
            "grid_auto_columns": null,
            "grid_auto_flow": null,
            "grid_auto_rows": null,
            "grid_column": null,
            "grid_gap": null,
            "grid_row": null,
            "grid_template_areas": null,
            "grid_template_columns": null,
            "grid_template_rows": null,
            "height": null,
            "justify_content": null,
            "justify_items": null,
            "left": null,
            "margin": null,
            "max_height": null,
            "max_width": null,
            "min_height": null,
            "min_width": null,
            "object_fit": null,
            "object_position": null,
            "order": null,
            "overflow": null,
            "overflow_x": null,
            "overflow_y": null,
            "padding": null,
            "right": null,
            "top": null,
            "visibility": null,
            "width": null
          }
        },
        "9cd2d1a166704dab94f46b1e0f2de617": {
          "model_module": "@jupyter-widgets/controls",
          "model_module_version": "1.5.0",
          "model_name": "DescriptionStyleModel",
          "state": {
            "_model_module": "@jupyter-widgets/controls",
            "_model_module_version": "1.5.0",
            "_model_name": "DescriptionStyleModel",
            "_view_count": null,
            "_view_module": "@jupyter-widgets/base",
            "_view_module_version": "1.2.0",
            "_view_name": "StyleView",
            "description_width": ""
          }
        },
        "9fb64558ba8c4fcf9c45f9074abff580": {
          "model_module": "@jupyter-widgets/controls",
          "model_module_version": "1.5.0",
          "model_name": "HTMLModel",
          "state": {
            "_dom_classes": [],
            "_model_module": "@jupyter-widgets/controls",
            "_model_module_version": "1.5.0",
            "_model_name": "HTMLModel",
            "_view_count": null,
            "_view_module": "@jupyter-widgets/controls",
            "_view_module_version": "1.5.0",
            "_view_name": "HTMLView",
            "description": "",
            "description_tooltip": null,
            "layout": "IPY_MODEL_d31118fb96dd4fd993625242757922cb",
            "placeholder": "​",
            "style": "IPY_MODEL_9cd2d1a166704dab94f46b1e0f2de617",
            "value": " 2.47G/2.47G [00:23&lt;00:00, 223MB/s]"
          }
        },
        "a059f8df77a34f69af6ae555d817f109": {
          "model_module": "@jupyter-widgets/base",
          "model_module_version": "1.2.0",
          "model_name": "LayoutModel",
          "state": {
            "_model_module": "@jupyter-widgets/base",
            "_model_module_version": "1.2.0",
            "_model_name": "LayoutModel",
            "_view_count": null,
            "_view_module": "@jupyter-widgets/base",
            "_view_module_version": "1.2.0",
            "_view_name": "LayoutView",
            "align_content": null,
            "align_items": null,
            "align_self": null,
            "border": null,
            "bottom": null,
            "display": null,
            "flex": null,
            "flex_flow": null,
            "grid_area": null,
            "grid_auto_columns": null,
            "grid_auto_flow": null,
            "grid_auto_rows": null,
            "grid_column": null,
            "grid_gap": null,
            "grid_row": null,
            "grid_template_areas": null,
            "grid_template_columns": null,
            "grid_template_rows": null,
            "height": null,
            "justify_content": null,
            "justify_items": null,
            "left": null,
            "margin": null,
            "max_height": null,
            "max_width": null,
            "min_height": null,
            "min_width": null,
            "object_fit": null,
            "object_position": null,
            "order": null,
            "overflow": null,
            "overflow_x": null,
            "overflow_y": null,
            "padding": null,
            "right": null,
            "top": null,
            "visibility": null,
            "width": null
          }
        },
        "a3daac38569f4526b030c682711513e6": {
          "model_module": "@jupyter-widgets/base",
          "model_module_version": "1.2.0",
          "model_name": "LayoutModel",
          "state": {
            "_model_module": "@jupyter-widgets/base",
            "_model_module_version": "1.2.0",
            "_model_name": "LayoutModel",
            "_view_count": null,
            "_view_module": "@jupyter-widgets/base",
            "_view_module_version": "1.2.0",
            "_view_name": "LayoutView",
            "align_content": null,
            "align_items": null,
            "align_self": null,
            "border": null,
            "bottom": null,
            "display": null,
            "flex": null,
            "flex_flow": null,
            "grid_area": null,
            "grid_auto_columns": null,
            "grid_auto_flow": null,
            "grid_auto_rows": null,
            "grid_column": null,
            "grid_gap": null,
            "grid_row": null,
            "grid_template_areas": null,
            "grid_template_columns": null,
            "grid_template_rows": null,
            "height": null,
            "justify_content": null,
            "justify_items": null,
            "left": null,
            "margin": null,
            "max_height": null,
            "max_width": null,
            "min_height": null,
            "min_width": null,
            "object_fit": null,
            "object_position": null,
            "order": null,
            "overflow": null,
            "overflow_x": null,
            "overflow_y": null,
            "padding": null,
            "right": null,
            "top": null,
            "visibility": null,
            "width": null
          }
        },
        "a6f9e9730bb748d69b259335e654e7fd": {
          "model_module": "@jupyter-widgets/controls",
          "model_module_version": "1.5.0",
          "model_name": "HBoxModel",
          "state": {
            "_dom_classes": [],
            "_model_module": "@jupyter-widgets/controls",
            "_model_module_version": "1.5.0",
            "_model_name": "HBoxModel",
            "_view_count": null,
            "_view_module": "@jupyter-widgets/controls",
            "_view_module_version": "1.5.0",
            "_view_name": "HBoxView",
            "box_style": "",
            "children": [
              "IPY_MODEL_5bbf935536494136832655f254707c12",
              "IPY_MODEL_50685a7c88084a289f861d584b5f5cbb",
              "IPY_MODEL_7ff9d84e6fe54b81bd5475a89b03d62c"
            ],
            "layout": "IPY_MODEL_121e2d5c340c439da30ad21262c89654"
          }
        },
        "a9b49c55747644ea93a878c950a65669": {
          "model_module": "@jupyter-widgets/controls",
          "model_module_version": "1.5.0",
          "model_name": "HTMLModel",
          "state": {
            "_dom_classes": [],
            "_model_module": "@jupyter-widgets/controls",
            "_model_module_version": "1.5.0",
            "_model_name": "HTMLModel",
            "_view_count": null,
            "_view_module": "@jupyter-widgets/controls",
            "_view_module_version": "1.5.0",
            "_view_name": "HTMLView",
            "description": "",
            "description_tooltip": null,
            "layout": "IPY_MODEL_aeaa190f8cf4497eaeeae73f2648c34c",
            "placeholder": "​",
            "style": "IPY_MODEL_f35380b97d094436b89a646d84faa7b3",
            "value": "Map: 100%"
          }
        },
        "aeaa190f8cf4497eaeeae73f2648c34c": {
          "model_module": "@jupyter-widgets/base",
          "model_module_version": "1.2.0",
          "model_name": "LayoutModel",
          "state": {
            "_model_module": "@jupyter-widgets/base",
            "_model_module_version": "1.2.0",
            "_model_name": "LayoutModel",
            "_view_count": null,
            "_view_module": "@jupyter-widgets/base",
            "_view_module_version": "1.2.0",
            "_view_name": "LayoutView",
            "align_content": null,
            "align_items": null,
            "align_self": null,
            "border": null,
            "bottom": null,
            "display": null,
            "flex": null,
            "flex_flow": null,
            "grid_area": null,
            "grid_auto_columns": null,
            "grid_auto_flow": null,
            "grid_auto_rows": null,
            "grid_column": null,
            "grid_gap": null,
            "grid_row": null,
            "grid_template_areas": null,
            "grid_template_columns": null,
            "grid_template_rows": null,
            "height": null,
            "justify_content": null,
            "justify_items": null,
            "left": null,
            "margin": null,
            "max_height": null,
            "max_width": null,
            "min_height": null,
            "min_width": null,
            "object_fit": null,
            "object_position": null,
            "order": null,
            "overflow": null,
            "overflow_x": null,
            "overflow_y": null,
            "padding": null,
            "right": null,
            "top": null,
            "visibility": null,
            "width": null
          }
        },
        "af49d475f8034ca9833ee3830d17ff46": {
          "model_module": "@jupyter-widgets/base",
          "model_module_version": "1.2.0",
          "model_name": "LayoutModel",
          "state": {
            "_model_module": "@jupyter-widgets/base",
            "_model_module_version": "1.2.0",
            "_model_name": "LayoutModel",
            "_view_count": null,
            "_view_module": "@jupyter-widgets/base",
            "_view_module_version": "1.2.0",
            "_view_name": "LayoutView",
            "align_content": null,
            "align_items": null,
            "align_self": null,
            "border": null,
            "bottom": null,
            "display": null,
            "flex": null,
            "flex_flow": null,
            "grid_area": null,
            "grid_auto_columns": null,
            "grid_auto_flow": null,
            "grid_auto_rows": null,
            "grid_column": null,
            "grid_gap": null,
            "grid_row": null,
            "grid_template_areas": null,
            "grid_template_columns": null,
            "grid_template_rows": null,
            "height": null,
            "justify_content": null,
            "justify_items": null,
            "left": null,
            "margin": null,
            "max_height": null,
            "max_width": null,
            "min_height": null,
            "min_width": null,
            "object_fit": null,
            "object_position": null,
            "order": null,
            "overflow": null,
            "overflow_x": null,
            "overflow_y": null,
            "padding": null,
            "right": null,
            "top": null,
            "visibility": null,
            "width": null
          }
        },
        "b0ac796db8dd46039d9d07229c3854b6": {
          "model_module": "@jupyter-widgets/controls",
          "model_module_version": "1.5.0",
          "model_name": "FloatProgressModel",
          "state": {
            "_dom_classes": [],
            "_model_module": "@jupyter-widgets/controls",
            "_model_module_version": "1.5.0",
            "_model_name": "FloatProgressModel",
            "_view_count": null,
            "_view_module": "@jupyter-widgets/controls",
            "_view_module_version": "1.5.0",
            "_view_name": "ProgressView",
            "bar_style": "success",
            "description": "",
            "description_tooltip": null,
            "layout": "IPY_MODEL_169f4b2ba9f54a5aa49fc0c7fdb2953a",
            "max": 877,
            "min": 0,
            "orientation": "horizontal",
            "style": "IPY_MODEL_51caebc88ad9462f9d1e59436cfc4381",
            "value": 877
          }
        },
        "b4e19261c1284571809d02002d2e43ae": {
          "model_module": "@jupyter-widgets/controls",
          "model_module_version": "1.5.0",
          "model_name": "HTMLModel",
          "state": {
            "_dom_classes": [],
            "_model_module": "@jupyter-widgets/controls",
            "_model_module_version": "1.5.0",
            "_model_name": "HTMLModel",
            "_view_count": null,
            "_view_module": "@jupyter-widgets/controls",
            "_view_module_version": "1.5.0",
            "_view_name": "HTMLView",
            "description": "",
            "description_tooltip": null,
            "layout": "IPY_MODEL_7054b72ccb994490a7201dbfd79bf79f",
            "placeholder": "​",
            "style": "IPY_MODEL_74d4cd74fac54fa092098d3ff66382e5",
            "value": " 185/185 [00:00&lt;00:00, 15.8kB/s]"
          }
        },
        "b82857466e9047a9b980b3511800cb0a": {
          "model_module": "@jupyter-widgets/base",
          "model_module_version": "1.2.0",
          "model_name": "LayoutModel",
          "state": {
            "_model_module": "@jupyter-widgets/base",
            "_model_module_version": "1.2.0",
            "_model_name": "LayoutModel",
            "_view_count": null,
            "_view_module": "@jupyter-widgets/base",
            "_view_module_version": "1.2.0",
            "_view_name": "LayoutView",
            "align_content": null,
            "align_items": null,
            "align_self": null,
            "border": null,
            "bottom": null,
            "display": null,
            "flex": null,
            "flex_flow": null,
            "grid_area": null,
            "grid_auto_columns": null,
            "grid_auto_flow": null,
            "grid_auto_rows": null,
            "grid_column": null,
            "grid_gap": null,
            "grid_row": null,
            "grid_template_areas": null,
            "grid_template_columns": null,
            "grid_template_rows": null,
            "height": null,
            "justify_content": null,
            "justify_items": null,
            "left": null,
            "margin": null,
            "max_height": null,
            "max_width": null,
            "min_height": null,
            "min_width": null,
            "object_fit": null,
            "object_position": null,
            "order": null,
            "overflow": null,
            "overflow_x": null,
            "overflow_y": null,
            "padding": null,
            "right": null,
            "top": null,
            "visibility": null,
            "width": null
          }
        },
        "ba6337eda0104f539aa1446fcba5812f": {
          "model_module": "@jupyter-widgets/controls",
          "model_module_version": "1.5.0",
          "model_name": "DescriptionStyleModel",
          "state": {
            "_model_module": "@jupyter-widgets/controls",
            "_model_module_version": "1.5.0",
            "_model_name": "DescriptionStyleModel",
            "_view_count": null,
            "_view_module": "@jupyter-widgets/base",
            "_view_module_version": "1.2.0",
            "_view_name": "StyleView",
            "description_width": ""
          }
        },
        "be85871c6b1b4f2788b2ca160d4e6abd": {
          "model_module": "@jupyter-widgets/controls",
          "model_module_version": "1.5.0",
          "model_name": "HBoxModel",
          "state": {
            "_dom_classes": [],
            "_model_module": "@jupyter-widgets/controls",
            "_model_module_version": "1.5.0",
            "_model_name": "HBoxModel",
            "_view_count": null,
            "_view_module": "@jupyter-widgets/controls",
            "_view_module_version": "1.5.0",
            "_view_name": "HBoxView",
            "box_style": "",
            "children": [
              "IPY_MODEL_a9b49c55747644ea93a878c950a65669",
              "IPY_MODEL_84fcc5e2d8ef44dc8d08d32c536d6336",
              "IPY_MODEL_e1fb513db61d4cd29242b4f3d49aaed1"
            ],
            "layout": "IPY_MODEL_e46e834de01f4cc7b66cbeb95b7f7565"
          }
        },
        "ca4cd15de1ad41839c875eeadd0dd87c": {
          "model_module": "@jupyter-widgets/controls",
          "model_module_version": "1.5.0",
          "model_name": "ProgressStyleModel",
          "state": {
            "_model_module": "@jupyter-widgets/controls",
            "_model_module_version": "1.5.0",
            "_model_name": "ProgressStyleModel",
            "_view_count": null,
            "_view_module": "@jupyter-widgets/base",
            "_view_module_version": "1.2.0",
            "_view_name": "StyleView",
            "bar_color": null,
            "description_width": ""
          }
        },
        "cb94501d43c24587aa22feb00fb47628": {
          "model_module": "@jupyter-widgets/base",
          "model_module_version": "1.2.0",
          "model_name": "LayoutModel",
          "state": {
            "_model_module": "@jupyter-widgets/base",
            "_model_module_version": "1.2.0",
            "_model_name": "LayoutModel",
            "_view_count": null,
            "_view_module": "@jupyter-widgets/base",
            "_view_module_version": "1.2.0",
            "_view_name": "LayoutView",
            "align_content": null,
            "align_items": null,
            "align_self": null,
            "border": null,
            "bottom": null,
            "display": null,
            "flex": null,
            "flex_flow": null,
            "grid_area": null,
            "grid_auto_columns": null,
            "grid_auto_flow": null,
            "grid_auto_rows": null,
            "grid_column": null,
            "grid_gap": null,
            "grid_row": null,
            "grid_template_areas": null,
            "grid_template_columns": null,
            "grid_template_rows": null,
            "height": null,
            "justify_content": null,
            "justify_items": null,
            "left": null,
            "margin": null,
            "max_height": null,
            "max_width": null,
            "min_height": null,
            "min_width": null,
            "object_fit": null,
            "object_position": null,
            "order": null,
            "overflow": null,
            "overflow_x": null,
            "overflow_y": null,
            "padding": null,
            "right": null,
            "top": null,
            "visibility": null,
            "width": null
          }
        },
        "d09f9d93420f43209a392069e0d2c275": {
          "model_module": "@jupyter-widgets/controls",
          "model_module_version": "1.5.0",
          "model_name": "DescriptionStyleModel",
          "state": {
            "_model_module": "@jupyter-widgets/controls",
            "_model_module_version": "1.5.0",
            "_model_name": "DescriptionStyleModel",
            "_view_count": null,
            "_view_module": "@jupyter-widgets/base",
            "_view_module_version": "1.2.0",
            "_view_name": "StyleView",
            "description_width": ""
          }
        },
        "d21510c9ac7a4e4b8160a293f811b684": {
          "model_module": "@jupyter-widgets/controls",
          "model_module_version": "1.5.0",
          "model_name": "DescriptionStyleModel",
          "state": {
            "_model_module": "@jupyter-widgets/controls",
            "_model_module_version": "1.5.0",
            "_model_name": "DescriptionStyleModel",
            "_view_count": null,
            "_view_module": "@jupyter-widgets/base",
            "_view_module_version": "1.2.0",
            "_view_name": "StyleView",
            "description_width": ""
          }
        },
        "d2b01d88685c49e09935437a9cc35634": {
          "model_module": "@jupyter-widgets/controls",
          "model_module_version": "1.5.0",
          "model_name": "DescriptionStyleModel",
          "state": {
            "_model_module": "@jupyter-widgets/controls",
            "_model_module_version": "1.5.0",
            "_model_name": "DescriptionStyleModel",
            "_view_count": null,
            "_view_module": "@jupyter-widgets/base",
            "_view_module_version": "1.2.0",
            "_view_name": "StyleView",
            "description_width": ""
          }
        },
        "d31118fb96dd4fd993625242757922cb": {
          "model_module": "@jupyter-widgets/base",
          "model_module_version": "1.2.0",
          "model_name": "LayoutModel",
          "state": {
            "_model_module": "@jupyter-widgets/base",
            "_model_module_version": "1.2.0",
            "_model_name": "LayoutModel",
            "_view_count": null,
            "_view_module": "@jupyter-widgets/base",
            "_view_module_version": "1.2.0",
            "_view_name": "LayoutView",
            "align_content": null,
            "align_items": null,
            "align_self": null,
            "border": null,
            "bottom": null,
            "display": null,
            "flex": null,
            "flex_flow": null,
            "grid_area": null,
            "grid_auto_columns": null,
            "grid_auto_flow": null,
            "grid_auto_rows": null,
            "grid_column": null,
            "grid_gap": null,
            "grid_row": null,
            "grid_template_areas": null,
            "grid_template_columns": null,
            "grid_template_rows": null,
            "height": null,
            "justify_content": null,
            "justify_items": null,
            "left": null,
            "margin": null,
            "max_height": null,
            "max_width": null,
            "min_height": null,
            "min_width": null,
            "object_fit": null,
            "object_position": null,
            "order": null,
            "overflow": null,
            "overflow_x": null,
            "overflow_y": null,
            "padding": null,
            "right": null,
            "top": null,
            "visibility": null,
            "width": null
          }
        },
        "d44c03dad4a443069847d3a2fffe23c1": {
          "model_module": "@jupyter-widgets/controls",
          "model_module_version": "1.5.0",
          "model_name": "ProgressStyleModel",
          "state": {
            "_model_module": "@jupyter-widgets/controls",
            "_model_module_version": "1.5.0",
            "_model_name": "ProgressStyleModel",
            "_view_count": null,
            "_view_module": "@jupyter-widgets/base",
            "_view_module_version": "1.2.0",
            "_view_name": "StyleView",
            "bar_color": null,
            "description_width": ""
          }
        },
        "d5d8cf4ad0004c3da75e2d4df83d1f36": {
          "model_module": "@jupyter-widgets/base",
          "model_module_version": "1.2.0",
          "model_name": "LayoutModel",
          "state": {
            "_model_module": "@jupyter-widgets/base",
            "_model_module_version": "1.2.0",
            "_model_name": "LayoutModel",
            "_view_count": null,
            "_view_module": "@jupyter-widgets/base",
            "_view_module_version": "1.2.0",
            "_view_name": "LayoutView",
            "align_content": null,
            "align_items": null,
            "align_self": null,
            "border": null,
            "bottom": null,
            "display": null,
            "flex": null,
            "flex_flow": null,
            "grid_area": null,
            "grid_auto_columns": null,
            "grid_auto_flow": null,
            "grid_auto_rows": null,
            "grid_column": null,
            "grid_gap": null,
            "grid_row": null,
            "grid_template_areas": null,
            "grid_template_columns": null,
            "grid_template_rows": null,
            "height": null,
            "justify_content": null,
            "justify_items": null,
            "left": null,
            "margin": null,
            "max_height": null,
            "max_width": null,
            "min_height": null,
            "min_width": null,
            "object_fit": null,
            "object_position": null,
            "order": null,
            "overflow": null,
            "overflow_x": null,
            "overflow_y": null,
            "padding": null,
            "right": null,
            "top": null,
            "visibility": null,
            "width": null
          }
        },
        "d66bfd106fb647bbb52a09acf14f823f": {
          "model_module": "@jupyter-widgets/controls",
          "model_module_version": "1.5.0",
          "model_name": "HTMLModel",
          "state": {
            "_dom_classes": [],
            "_model_module": "@jupyter-widgets/controls",
            "_model_module_version": "1.5.0",
            "_model_name": "HTMLModel",
            "_view_count": null,
            "_view_module": "@jupyter-widgets/controls",
            "_view_module_version": "1.5.0",
            "_view_name": "HTMLView",
            "description": "",
            "description_tooltip": null,
            "layout": "IPY_MODEL_48ac9592add347c7aff3006d42954664",
            "placeholder": "​",
            "style": "IPY_MODEL_8d50901507c44bb2ae9b0d5b29da6bb4",
            "value": " 545M/2.47G [00:04&lt;00:22, 85.4MB/s]"
          }
        },
        "dc70547f23244bf785ecbf118aad9330": {
          "model_module": "@jupyter-widgets/base",
          "model_module_version": "1.2.0",
          "model_name": "LayoutModel",
          "state": {
            "_model_module": "@jupyter-widgets/base",
            "_model_module_version": "1.2.0",
            "_model_name": "LayoutModel",
            "_view_count": null,
            "_view_module": "@jupyter-widgets/base",
            "_view_module_version": "1.2.0",
            "_view_name": "LayoutView",
            "align_content": null,
            "align_items": null,
            "align_self": null,
            "border": null,
            "bottom": null,
            "display": null,
            "flex": null,
            "flex_flow": null,
            "grid_area": null,
            "grid_auto_columns": null,
            "grid_auto_flow": null,
            "grid_auto_rows": null,
            "grid_column": null,
            "grid_gap": null,
            "grid_row": null,
            "grid_template_areas": null,
            "grid_template_columns": null,
            "grid_template_rows": null,
            "height": null,
            "justify_content": null,
            "justify_items": null,
            "left": null,
            "margin": null,
            "max_height": null,
            "max_width": null,
            "min_height": null,
            "min_width": null,
            "object_fit": null,
            "object_position": null,
            "order": null,
            "overflow": null,
            "overflow_x": null,
            "overflow_y": null,
            "padding": null,
            "right": null,
            "top": null,
            "visibility": null,
            "width": null
          }
        },
        "e06cc9367a4b4f82820bcfcdabf3463f": {
          "model_module": "@jupyter-widgets/controls",
          "model_module_version": "1.5.0",
          "model_name": "HBoxModel",
          "state": {
            "_dom_classes": [],
            "_model_module": "@jupyter-widgets/controls",
            "_model_module_version": "1.5.0",
            "_model_name": "HBoxModel",
            "_view_count": null,
            "_view_module": "@jupyter-widgets/controls",
            "_view_module_version": "1.5.0",
            "_view_name": "HBoxView",
            "box_style": "",
            "children": [
              "IPY_MODEL_81ea72cfd2c44654a0289cebfc7f9f60",
              "IPY_MODEL_031cae2eb5194c5eb9884ab81e476f08",
              "IPY_MODEL_3e4c62b34b09444eb75aba9c5a53cd9e"
            ],
            "layout": "IPY_MODEL_b82857466e9047a9b980b3511800cb0a"
          }
        },
        "e1fb513db61d4cd29242b4f3d49aaed1": {
          "model_module": "@jupyter-widgets/controls",
          "model_module_version": "1.5.0",
          "model_name": "HTMLModel",
          "state": {
            "_dom_classes": [],
            "_model_module": "@jupyter-widgets/controls",
            "_model_module_version": "1.5.0",
            "_model_name": "HTMLModel",
            "_view_count": null,
            "_view_module": "@jupyter-widgets/controls",
            "_view_module_version": "1.5.0",
            "_view_name": "HTMLView",
            "description": "",
            "description_tooltip": null,
            "layout": "IPY_MODEL_7f6a72f20e434cf0a49b3079e340d8c1",
            "placeholder": "​",
            "style": "IPY_MODEL_d21510c9ac7a4e4b8160a293f811b684",
            "value": " 100/100 [00:00&lt;00:00, 846.79 examples/s]"
          }
        },
        "e46e834de01f4cc7b66cbeb95b7f7565": {
          "model_module": "@jupyter-widgets/base",
          "model_module_version": "1.2.0",
          "model_name": "LayoutModel",
          "state": {
            "_model_module": "@jupyter-widgets/base",
            "_model_module_version": "1.2.0",
            "_model_name": "LayoutModel",
            "_view_count": null,
            "_view_module": "@jupyter-widgets/base",
            "_view_module_version": "1.2.0",
            "_view_name": "LayoutView",
            "align_content": null,
            "align_items": null,
            "align_self": null,
            "border": null,
            "bottom": null,
            "display": null,
            "flex": null,
            "flex_flow": null,
            "grid_area": null,
            "grid_auto_columns": null,
            "grid_auto_flow": null,
            "grid_auto_rows": null,
            "grid_column": null,
            "grid_gap": null,
            "grid_row": null,
            "grid_template_areas": null,
            "grid_template_columns": null,
            "grid_template_rows": null,
            "height": null,
            "justify_content": null,
            "justify_items": null,
            "left": null,
            "margin": null,
            "max_height": null,
            "max_width": null,
            "min_height": null,
            "min_width": null,
            "object_fit": null,
            "object_position": null,
            "order": null,
            "overflow": null,
            "overflow_x": null,
            "overflow_y": null,
            "padding": null,
            "right": null,
            "top": null,
            "visibility": null,
            "width": null
          }
        },
        "e86585c26d974ed39da0d016c901a982": {
          "model_module": "@jupyter-widgets/base",
          "model_module_version": "1.2.0",
          "model_name": "LayoutModel",
          "state": {
            "_model_module": "@jupyter-widgets/base",
            "_model_module_version": "1.2.0",
            "_model_name": "LayoutModel",
            "_view_count": null,
            "_view_module": "@jupyter-widgets/base",
            "_view_module_version": "1.2.0",
            "_view_name": "LayoutView",
            "align_content": null,
            "align_items": null,
            "align_self": null,
            "border": null,
            "bottom": null,
            "display": null,
            "flex": null,
            "flex_flow": null,
            "grid_area": null,
            "grid_auto_columns": null,
            "grid_auto_flow": null,
            "grid_auto_rows": null,
            "grid_column": null,
            "grid_gap": null,
            "grid_row": null,
            "grid_template_areas": null,
            "grid_template_columns": null,
            "grid_template_rows": null,
            "height": null,
            "justify_content": null,
            "justify_items": null,
            "left": null,
            "margin": null,
            "max_height": null,
            "max_width": null,
            "min_height": null,
            "min_width": null,
            "object_fit": null,
            "object_position": null,
            "order": null,
            "overflow": null,
            "overflow_x": null,
            "overflow_y": null,
            "padding": null,
            "right": null,
            "top": null,
            "visibility": null,
            "width": null
          }
        },
        "e8e0f2c529254422a3fd1a9d346aa425": {
          "model_module": "@jupyter-widgets/controls",
          "model_module_version": "1.5.0",
          "model_name": "ProgressStyleModel",
          "state": {
            "_model_module": "@jupyter-widgets/controls",
            "_model_module_version": "1.5.0",
            "_model_name": "ProgressStyleModel",
            "_view_count": null,
            "_view_module": "@jupyter-widgets/base",
            "_view_module_version": "1.2.0",
            "_view_name": "StyleView",
            "bar_color": null,
            "description_width": ""
          }
        },
        "eb549cf2aa3b4f01a55e7fdffef97e98": {
          "model_module": "@jupyter-widgets/base",
          "model_module_version": "1.2.0",
          "model_name": "LayoutModel",
          "state": {
            "_model_module": "@jupyter-widgets/base",
            "_model_module_version": "1.2.0",
            "_model_name": "LayoutModel",
            "_view_count": null,
            "_view_module": "@jupyter-widgets/base",
            "_view_module_version": "1.2.0",
            "_view_name": "LayoutView",
            "align_content": null,
            "align_items": null,
            "align_self": null,
            "border": null,
            "bottom": null,
            "display": null,
            "flex": null,
            "flex_flow": null,
            "grid_area": null,
            "grid_auto_columns": null,
            "grid_auto_flow": null,
            "grid_auto_rows": null,
            "grid_column": null,
            "grid_gap": null,
            "grid_row": null,
            "grid_template_areas": null,
            "grid_template_columns": null,
            "grid_template_rows": null,
            "height": null,
            "justify_content": null,
            "justify_items": null,
            "left": null,
            "margin": null,
            "max_height": null,
            "max_width": null,
            "min_height": null,
            "min_width": null,
            "object_fit": null,
            "object_position": null,
            "order": null,
            "overflow": null,
            "overflow_x": null,
            "overflow_y": null,
            "padding": null,
            "right": null,
            "top": null,
            "visibility": null,
            "width": null
          }
        },
        "ebe03e7ce08e43999c9acff5978c6d96": {
          "model_module": "@jupyter-widgets/base",
          "model_module_version": "1.2.0",
          "model_name": "LayoutModel",
          "state": {
            "_model_module": "@jupyter-widgets/base",
            "_model_module_version": "1.2.0",
            "_model_name": "LayoutModel",
            "_view_count": null,
            "_view_module": "@jupyter-widgets/base",
            "_view_module_version": "1.2.0",
            "_view_name": "LayoutView",
            "align_content": null,
            "align_items": null,
            "align_self": null,
            "border": null,
            "bottom": null,
            "display": null,
            "flex": null,
            "flex_flow": null,
            "grid_area": null,
            "grid_auto_columns": null,
            "grid_auto_flow": null,
            "grid_auto_rows": null,
            "grid_column": null,
            "grid_gap": null,
            "grid_row": null,
            "grid_template_areas": null,
            "grid_template_columns": null,
            "grid_template_rows": null,
            "height": null,
            "justify_content": null,
            "justify_items": null,
            "left": null,
            "margin": null,
            "max_height": null,
            "max_width": null,
            "min_height": null,
            "min_width": null,
            "object_fit": null,
            "object_position": null,
            "order": null,
            "overflow": null,
            "overflow_x": null,
            "overflow_y": null,
            "padding": null,
            "right": null,
            "top": null,
            "visibility": null,
            "width": null
          }
        },
        "ec4e48f946464c00a46ef1c043e3da1c": {
          "model_module": "@jupyter-widgets/controls",
          "model_module_version": "1.5.0",
          "model_name": "FloatProgressModel",
          "state": {
            "_dom_classes": [],
            "_model_module": "@jupyter-widgets/controls",
            "_model_module_version": "1.5.0",
            "_model_name": "FloatProgressModel",
            "_view_count": null,
            "_view_module": "@jupyter-widgets/controls",
            "_view_module_version": "1.5.0",
            "_view_name": "ProgressView",
            "bar_style": "",
            "description": "",
            "description_tooltip": null,
            "layout": "IPY_MODEL_af49d475f8034ca9833ee3830d17ff46",
            "max": 2471645608,
            "min": 0,
            "orientation": "horizontal",
            "style": "IPY_MODEL_d44c03dad4a443069847d3a2fffe23c1",
            "value": 545259520
          }
        },
        "ed0d4fa3e51848969884ff75895e1b06": {
          "model_module": "@jupyter-widgets/base",
          "model_module_version": "1.2.0",
          "model_name": "LayoutModel",
          "state": {
            "_model_module": "@jupyter-widgets/base",
            "_model_module_version": "1.2.0",
            "_model_name": "LayoutModel",
            "_view_count": null,
            "_view_module": "@jupyter-widgets/base",
            "_view_module_version": "1.2.0",
            "_view_name": "LayoutView",
            "align_content": null,
            "align_items": null,
            "align_self": null,
            "border": null,
            "bottom": null,
            "display": null,
            "flex": null,
            "flex_flow": null,
            "grid_area": null,
            "grid_auto_columns": null,
            "grid_auto_flow": null,
            "grid_auto_rows": null,
            "grid_column": null,
            "grid_gap": null,
            "grid_row": null,
            "grid_template_areas": null,
            "grid_template_columns": null,
            "grid_template_rows": null,
            "height": null,
            "justify_content": null,
            "justify_items": null,
            "left": null,
            "margin": null,
            "max_height": null,
            "max_width": null,
            "min_height": null,
            "min_width": null,
            "object_fit": null,
            "object_position": null,
            "order": null,
            "overflow": null,
            "overflow_x": null,
            "overflow_y": null,
            "padding": null,
            "right": null,
            "top": null,
            "visibility": null,
            "width": null
          }
        },
        "ef4a2c321e294792ad1425df08577408": {
          "model_module": "@jupyter-widgets/controls",
          "model_module_version": "1.5.0",
          "model_name": "DescriptionStyleModel",
          "state": {
            "_model_module": "@jupyter-widgets/controls",
            "_model_module_version": "1.5.0",
            "_model_name": "DescriptionStyleModel",
            "_view_count": null,
            "_view_module": "@jupyter-widgets/base",
            "_view_module_version": "1.2.0",
            "_view_name": "StyleView",
            "description_width": ""
          }
        },
        "f35380b97d094436b89a646d84faa7b3": {
          "model_module": "@jupyter-widgets/controls",
          "model_module_version": "1.5.0",
          "model_name": "DescriptionStyleModel",
          "state": {
            "_model_module": "@jupyter-widgets/controls",
            "_model_module_version": "1.5.0",
            "_model_name": "DescriptionStyleModel",
            "_view_count": null,
            "_view_module": "@jupyter-widgets/base",
            "_view_module_version": "1.2.0",
            "_view_name": "StyleView",
            "description_width": ""
          }
        },
        "f4eef19627784fec8ff5bb24da93971f": {
          "model_module": "@jupyter-widgets/base",
          "model_module_version": "1.2.0",
          "model_name": "LayoutModel",
          "state": {
            "_model_module": "@jupyter-widgets/base",
            "_model_module_version": "1.2.0",
            "_model_name": "LayoutModel",
            "_view_count": null,
            "_view_module": "@jupyter-widgets/base",
            "_view_module_version": "1.2.0",
            "_view_name": "LayoutView",
            "align_content": null,
            "align_items": null,
            "align_self": null,
            "border": null,
            "bottom": null,
            "display": null,
            "flex": null,
            "flex_flow": null,
            "grid_area": null,
            "grid_auto_columns": null,
            "grid_auto_flow": null,
            "grid_auto_rows": null,
            "grid_column": null,
            "grid_gap": null,
            "grid_row": null,
            "grid_template_areas": null,
            "grid_template_columns": null,
            "grid_template_rows": null,
            "height": null,
            "justify_content": null,
            "justify_items": null,
            "left": null,
            "margin": null,
            "max_height": null,
            "max_width": null,
            "min_height": null,
            "min_width": null,
            "object_fit": null,
            "object_position": null,
            "order": null,
            "overflow": null,
            "overflow_x": null,
            "overflow_y": null,
            "padding": null,
            "right": null,
            "top": null,
            "visibility": null,
            "width": null
          }
        },
        "f8b7cbe7e92b4146a8934f2aedfe95dc": {
          "model_module": "@jupyter-widgets/controls",
          "model_module_version": "1.5.0",
          "model_name": "HTMLModel",
          "state": {
            "_dom_classes": [],
            "_model_module": "@jupyter-widgets/controls",
            "_model_module_version": "1.5.0",
            "_model_name": "HTMLModel",
            "_view_count": null,
            "_view_module": "@jupyter-widgets/controls",
            "_view_module_version": "1.5.0",
            "_view_name": "HTMLView",
            "description": "",
            "description_tooltip": null,
            "layout": "IPY_MODEL_ed0d4fa3e51848969884ff75895e1b06",
            "placeholder": "​",
            "style": "IPY_MODEL_93db9bb409854f91ba22c4c3643167d9",
            "value": "model.safetensors:  22%"
          }
        },
        "fd41c43bc7084f80aa37d66d0dd03cb8": {
          "model_module": "@jupyter-widgets/base",
          "model_module_version": "1.2.0",
          "model_name": "LayoutModel",
          "state": {
            "_model_module": "@jupyter-widgets/base",
            "_model_module_version": "1.2.0",
            "_model_name": "LayoutModel",
            "_view_count": null,
            "_view_module": "@jupyter-widgets/base",
            "_view_module_version": "1.2.0",
            "_view_name": "LayoutView",
            "align_content": null,
            "align_items": null,
            "align_self": null,
            "border": null,
            "bottom": null,
            "display": null,
            "flex": null,
            "flex_flow": null,
            "grid_area": null,
            "grid_auto_columns": null,
            "grid_auto_flow": null,
            "grid_auto_rows": null,
            "grid_column": null,
            "grid_gap": null,
            "grid_row": null,
            "grid_template_areas": null,
            "grid_template_columns": null,
            "grid_template_rows": null,
            "height": null,
            "justify_content": null,
            "justify_items": null,
            "left": null,
            "margin": null,
            "max_height": null,
            "max_width": null,
            "min_height": null,
            "min_width": null,
            "object_fit": null,
            "object_position": null,
            "order": null,
            "overflow": null,
            "overflow_x": null,
            "overflow_y": null,
            "padding": null,
            "right": null,
            "top": null,
            "visibility": null,
            "width": null
          }
        }
      }
    }
  },
  "nbformat": 4,
  "nbformat_minor": 0
}
